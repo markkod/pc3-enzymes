{
  "nbformat": 4,
  "nbformat_minor": 0,
  "metadata": {
    "colab": {
      "name": "Copy of generate_kernels.ipynb",
      "provenance": [],
      "collapsed_sections": [],
      "include_colab_link": true
    },
    "kernelspec": {
      "name": "python3",
      "display_name": "Python 3"
    },
    "accelerator": "GPU"
  },
  "cells": [
    {
      "cell_type": "markdown",
      "metadata": {
        "id": "view-in-github",
        "colab_type": "text"
      },
      "source": [
        "<a href=\"https://colab.research.google.com/github/markkod/pc3-enzymes/blob/exploratory_da/exploratory_da_2.ipynb\" target=\"_parent\"><img src=\"https://colab.research.google.com/assets/colab-badge.svg\" alt=\"Open In Colab\"/></a>"
      ]
    },
    {
      "cell_type": "code",
      "metadata": {
        "colab": {
          "base_uri": "https://localhost:8080/",
          "height": 34
        },
        "id": "VxEwG3kUGD08",
        "outputId": "15f9e355-48cc-44a2-dcd3-7a31acbb6cc5"
      },
      "source": [
        "#preinstalled version of pytorch has to be the same as the pre-compiled versions of the pytorch-geometric packages that we download later on.\r\n",
        "#versions might change quickly, so if you get a strange error later on, check the torch version of Google colab later on as follows:\r\n",
        "\r\n",
        "import torch\r\n",
        "torch.__version__"
      ],
      "execution_count": 1,
      "outputs": [
        {
          "output_type": "execute_result",
          "data": {
            "application/vnd.google.colaboratory.intrinsic+json": {
              "type": "string"
            },
            "text/plain": [
              "'1.7.0+cu101'"
            ]
          },
          "metadata": {
            "tags": []
          },
          "execution_count": 1
        }
      ]
    },
    {
      "cell_type": "code",
      "metadata": {
        "id": "Jxkdv434hIXP"
      },
      "source": [
        "%load_ext autoreload\n",
        "%autoreload 2"
      ],
      "execution_count": 2,
      "outputs": []
    },
    {
      "cell_type": "code",
      "metadata": {
        "colab": {
          "base_uri": "https://localhost:8080/"
        },
        "id": "v-VN1RcQBUvc",
        "outputId": "a9391e8e-a010-48f7-ede3-596600cb022e"
      },
      "source": [
        "# Script to generate variations of the kernels yourself\n",
        "# https://ucloud.univie.ac.at/index.php/s/E3YKph0jkpbw8TN\n",
        "\n",
        "\n",
        "# #Download the TUDataset Repository with\n",
        "!git clone https://github.com/chrsmrrs/tudataset.git\n",
        "# #move this script to tudataset/tud_benchmark\n",
        "\n",
        "# #Install pytorch geometric: https://pytorch-geometric.readthedocs.io/en/latest/notes/installation.html\n",
        "# #Here is the gpu cuda installation, for the cpu version replace cu102 with cpu\n",
        "%pip --no-cache-dir install torch-scatter==latest+cu101 -f https://pytorch-geometric.com/whl/torch-1.7.0.html\n",
        "%pip --no-cache-dir install torch-sparse==latest+cu101 -f https://pytorch-geometric.com/whl/torch-1.7.0.html\n",
        "%pip --no-cache-dir install torch-cluster==latest+cu101 -f https://pytorch-geometric.com/whl/torch-1.7.0.html\n",
        "%pip --no-cache-dir install torch-spline-conv==latest+cu101 -f https://pytorch-geometric.com/whl/torch-1.7.0.html\n",
        "%pip --no-cache-dir install torch-geometric\n",
        "\n",
        "%pip --no-cache-dir install pybind11\n",
        "!sudo apt-get install libeigen3-dev\n",
        "\n"
      ],
      "execution_count": 3,
      "outputs": [
        {
          "output_type": "stream",
          "text": [
            "Cloning into 'tudataset'...\n",
            "remote: Enumerating objects: 485, done.\u001b[K\n",
            "remote: Counting objects: 100% (485/485), done.\u001b[K\n",
            "remote: Compressing objects: 100% (366/366), done.\u001b[K\n",
            "remote: Total 3344 (delta 244), reused 300 (delta 114), pack-reused 2859\u001b[K\n",
            "Receiving objects: 100% (3344/3344), 8.47 MiB | 38.21 MiB/s, done.\n",
            "Resolving deltas: 100% (2371/2371), done.\n",
            "Looking in links: https://pytorch-geometric.com/whl/torch-1.7.0.html\n",
            "Collecting torch-scatter==latest+cu101\n",
            "\u001b[?25l  Downloading https://pytorch-geometric.com/whl/torch-1.7.0/torch_scatter-latest%2Bcu101-cp36-cp36m-linux_x86_64.whl (11.9MB)\n",
            "\u001b[K     |████████████████████████████████| 11.9MB 17.5MB/s \n",
            "\u001b[?25hInstalling collected packages: torch-scatter\n",
            "Successfully installed torch-scatter-2.0.5\n",
            "Looking in links: https://pytorch-geometric.com/whl/torch-1.7.0.html\n",
            "Collecting torch-sparse==latest+cu101\n",
            "\u001b[?25l  Downloading https://pytorch-geometric.com/whl/torch-1.7.0/torch_sparse-latest%2Bcu101-cp36-cp36m-linux_x86_64.whl (24.3MB)\n",
            "\u001b[K     |████████████████████████████████| 24.3MB 1.2MB/s \n",
            "\u001b[?25hRequirement already satisfied: scipy in /usr/local/lib/python3.6/dist-packages (from torch-sparse==latest+cu101) (1.4.1)\n",
            "Requirement already satisfied: numpy>=1.13.3 in /usr/local/lib/python3.6/dist-packages (from scipy->torch-sparse==latest+cu101) (1.19.5)\n",
            "Installing collected packages: torch-sparse\n",
            "Successfully installed torch-sparse-0.6.8\n",
            "Looking in links: https://pytorch-geometric.com/whl/torch-1.7.0.html\n",
            "Collecting torch-cluster==latest+cu101\n",
            "\u001b[?25l  Downloading https://pytorch-geometric.com/whl/torch-1.7.0/torch_cluster-latest%2Bcu101-cp36-cp36m-linux_x86_64.whl (21.5MB)\n",
            "\u001b[K     |████████████████████████████████| 21.5MB 1.2MB/s \n",
            "\u001b[?25hInstalling collected packages: torch-cluster\n",
            "Successfully installed torch-cluster-1.5.8\n",
            "Looking in links: https://pytorch-geometric.com/whl/torch-1.7.0.html\n",
            "Collecting torch-spline-conv==latest+cu101\n",
            "\u001b[?25l  Downloading https://pytorch-geometric.com/whl/torch-1.7.0/torch_spline_conv-latest%2Bcu101-cp36-cp36m-linux_x86_64.whl (6.4MB)\n",
            "\u001b[K     |████████████████████████████████| 6.4MB 45.1MB/s \n",
            "\u001b[?25hInstalling collected packages: torch-spline-conv\n",
            "Successfully installed torch-spline-conv-1.2.0\n",
            "Collecting torch-geometric\n",
            "\u001b[?25l  Downloading https://files.pythonhosted.org/packages/59/5c/3e95b76321fb14f24cc2ace392075717f645c4632e796ee0db1bc7d17231/torch_geometric-1.6.3.tar.gz (186kB)\n",
            "\u001b[K     |████████████████████████████████| 194kB 17.2MB/s \n",
            "\u001b[?25hRequirement already satisfied: torch in /usr/local/lib/python3.6/dist-packages (from torch-geometric) (1.7.0+cu101)\n",
            "Requirement already satisfied: numpy in /usr/local/lib/python3.6/dist-packages (from torch-geometric) (1.19.5)\n",
            "Requirement already satisfied: tqdm in /usr/local/lib/python3.6/dist-packages (from torch-geometric) (4.41.1)\n",
            "Requirement already satisfied: scipy in /usr/local/lib/python3.6/dist-packages (from torch-geometric) (1.4.1)\n",
            "Requirement already satisfied: networkx in /usr/local/lib/python3.6/dist-packages (from torch-geometric) (2.5)\n",
            "Requirement already satisfied: python-louvain in /usr/local/lib/python3.6/dist-packages (from torch-geometric) (0.15)\n",
            "Requirement already satisfied: scikit-learn in /usr/local/lib/python3.6/dist-packages (from torch-geometric) (0.22.2.post1)\n",
            "Requirement already satisfied: numba in /usr/local/lib/python3.6/dist-packages (from torch-geometric) (0.51.2)\n",
            "Requirement already satisfied: requests in /usr/local/lib/python3.6/dist-packages (from torch-geometric) (2.23.0)\n",
            "Requirement already satisfied: pandas in /usr/local/lib/python3.6/dist-packages (from torch-geometric) (1.1.5)\n",
            "Collecting rdflib\n",
            "\u001b[?25l  Downloading https://files.pythonhosted.org/packages/d0/6b/6454aa1db753c0f8bc265a5bd5c10b5721a4bb24160fb4faf758cf6be8a1/rdflib-5.0.0-py3-none-any.whl (231kB)\n",
            "\u001b[K     |████████████████████████████████| 235kB 43.0MB/s \n",
            "\u001b[?25hRequirement already satisfied: h5py in /usr/local/lib/python3.6/dist-packages (from torch-geometric) (2.10.0)\n",
            "Requirement already satisfied: googledrivedownloader in /usr/local/lib/python3.6/dist-packages (from torch-geometric) (0.4)\n",
            "Collecting ase\n",
            "\u001b[?25l  Downloading https://files.pythonhosted.org/packages/a5/36/de17e79f29e06d9a92746d0dd9ec4636487ab03f6af10e78586aae533f7a/ase-3.21.1-py3-none-any.whl (2.2MB)\n",
            "\u001b[K     |████████████████████████████████| 2.2MB 39.7MB/s \n",
            "\u001b[?25hRequirement already satisfied: jinja2 in /usr/local/lib/python3.6/dist-packages (from torch-geometric) (2.11.2)\n",
            "Requirement already satisfied: typing-extensions in /usr/local/lib/python3.6/dist-packages (from torch->torch-geometric) (3.7.4.3)\n",
            "Requirement already satisfied: dataclasses in /usr/local/lib/python3.6/dist-packages (from torch->torch-geometric) (0.8)\n",
            "Requirement already satisfied: future in /usr/local/lib/python3.6/dist-packages (from torch->torch-geometric) (0.16.0)\n",
            "Requirement already satisfied: decorator>=4.3.0 in /usr/local/lib/python3.6/dist-packages (from networkx->torch-geometric) (4.4.2)\n",
            "Requirement already satisfied: joblib>=0.11 in /usr/local/lib/python3.6/dist-packages (from scikit-learn->torch-geometric) (1.0.0)\n",
            "Requirement already satisfied: llvmlite<0.35,>=0.34.0.dev0 in /usr/local/lib/python3.6/dist-packages (from numba->torch-geometric) (0.34.0)\n",
            "Requirement already satisfied: setuptools in /usr/local/lib/python3.6/dist-packages (from numba->torch-geometric) (51.3.3)\n",
            "Requirement already satisfied: certifi>=2017.4.17 in /usr/local/lib/python3.6/dist-packages (from requests->torch-geometric) (2020.12.5)\n",
            "Requirement already satisfied: idna<3,>=2.5 in /usr/local/lib/python3.6/dist-packages (from requests->torch-geometric) (2.10)\n",
            "Requirement already satisfied: chardet<4,>=3.0.2 in /usr/local/lib/python3.6/dist-packages (from requests->torch-geometric) (3.0.4)\n",
            "Requirement already satisfied: urllib3!=1.25.0,!=1.25.1,<1.26,>=1.21.1 in /usr/local/lib/python3.6/dist-packages (from requests->torch-geometric) (1.24.3)\n",
            "Requirement already satisfied: pytz>=2017.2 in /usr/local/lib/python3.6/dist-packages (from pandas->torch-geometric) (2018.9)\n",
            "Requirement already satisfied: python-dateutil>=2.7.3 in /usr/local/lib/python3.6/dist-packages (from pandas->torch-geometric) (2.8.1)\n",
            "Requirement already satisfied: six in /usr/local/lib/python3.6/dist-packages (from rdflib->torch-geometric) (1.15.0)\n",
            "Collecting isodate\n",
            "\u001b[?25l  Downloading https://files.pythonhosted.org/packages/9b/9f/b36f7774ff5ea8e428fdcfc4bb332c39ee5b9362ddd3d40d9516a55221b2/isodate-0.6.0-py2.py3-none-any.whl (45kB)\n",
            "\u001b[K     |████████████████████████████████| 51kB 60.6MB/s \n",
            "\u001b[?25hRequirement already satisfied: pyparsing in /usr/local/lib/python3.6/dist-packages (from rdflib->torch-geometric) (2.4.7)\n",
            "Requirement already satisfied: matplotlib>=2.0.0 in /usr/local/lib/python3.6/dist-packages (from ase->torch-geometric) (3.2.2)\n",
            "Requirement already satisfied: MarkupSafe>=0.23 in /usr/local/lib/python3.6/dist-packages (from jinja2->torch-geometric) (1.1.1)\n",
            "Requirement already satisfied: kiwisolver>=1.0.1 in /usr/local/lib/python3.6/dist-packages (from matplotlib>=2.0.0->ase->torch-geometric) (1.3.1)\n",
            "Requirement already satisfied: cycler>=0.10 in /usr/local/lib/python3.6/dist-packages (from matplotlib>=2.0.0->ase->torch-geometric) (0.10.0)\n",
            "Building wheels for collected packages: torch-geometric\n",
            "  Building wheel for torch-geometric (setup.py) ... \u001b[?25l\u001b[?25hdone\n",
            "  Created wheel for torch-geometric: filename=torch_geometric-1.6.3-cp36-none-any.whl size=322720 sha256=d28c492f12e8ee4370068becb0ee58c08cf2b0bbc39d03d8ebbce903220e30a8\n",
            "  Stored in directory: /tmp/pip-ephem-wheel-cache-s79fp_29/wheels/6d/47/1e/0af8ce3e21783c3e584c22502011a3367c091694eebc50a971\n",
            "Successfully built torch-geometric\n",
            "Installing collected packages: isodate, rdflib, ase, torch-geometric\n",
            "Successfully installed ase-3.21.1 isodate-0.6.0 rdflib-5.0.0 torch-geometric-1.6.3\n",
            "Collecting pybind11\n",
            "\u001b[?25l  Downloading https://files.pythonhosted.org/packages/8d/43/7339dbabbc2793718d59703aace4166f53c29ee1c202f6ff5bf8a26c4d91/pybind11-2.6.2-py2.py3-none-any.whl (191kB)\n",
            "\u001b[K     |████████████████████████████████| 194kB 16.4MB/s \n",
            "\u001b[?25hInstalling collected packages: pybind11\n",
            "Successfully installed pybind11-2.6.2\n",
            "Reading package lists... Done\n",
            "Building dependency tree       \n",
            "Reading state information... Done\n",
            "Suggested packages:\n",
            "  libeigen3-doc libmrpt-dev\n",
            "The following NEW packages will be installed:\n",
            "  libeigen3-dev\n",
            "0 upgraded, 1 newly installed, 0 to remove and 13 not upgraded.\n",
            "Need to get 810 kB of archives.\n",
            "After this operation, 7,128 kB of additional disk space will be used.\n",
            "Get:1 http://archive.ubuntu.com/ubuntu bionic/universe amd64 libeigen3-dev all 3.3.4-4 [810 kB]\n",
            "Fetched 810 kB in 1s (1,271 kB/s)\n",
            "debconf: unable to initialize frontend: Dialog\n",
            "debconf: (No usable dialog-like program is installed, so the dialog based frontend cannot be used. at /usr/share/perl5/Debconf/FrontEnd/Dialog.pm line 76, <> line 1.)\n",
            "debconf: falling back to frontend: Readline\n",
            "debconf: unable to initialize frontend: Readline\n",
            "debconf: (This frontend requires a controlling tty.)\n",
            "debconf: falling back to frontend: Teletype\n",
            "dpkg-preconfigure: unable to re-open stdin: \n",
            "Selecting previously unselected package libeigen3-dev.\n",
            "(Reading database ... 146374 files and directories currently installed.)\n",
            "Preparing to unpack .../libeigen3-dev_3.3.4-4_all.deb ...\n",
            "Unpacking libeigen3-dev (3.3.4-4) ...\n",
            "Setting up libeigen3-dev (3.3.4-4) ...\n"
          ],
          "name": "stdout"
        }
      ]
    },
    {
      "cell_type": "code",
      "metadata": {
        "colab": {
          "base_uri": "https://localhost:8080/"
        },
        "id": "ZXKQ-3OcCzMK",
        "outputId": "19dd7791-80a9-4e56-9b03-06dac3d98025"
      },
      "source": [
        "%cd ..\n",
        "%cd /content/tudataset/tud_benchmark/kernel_baselines/\n",
        "! ls\n",
        "! g++ -I /usr/include/eigen3 -O3 -shared -std=c++11 -fPIC `python3 -m pybind11 --includes`  kernel_baselines.cpp src/*cpp -o ../kernel_baselines`python3-config --extension-suffix`\n",
        "%cd .."
      ],
      "execution_count": 4,
      "outputs": [
        {
          "output_type": "stream",
          "text": [
            "/\n",
            "/content/tudataset/tud_benchmark/kernel_baselines\n",
            "kernel_baselines.cpp  src\n",
            "/content/tudataset/tud_benchmark\n"
          ],
          "name": "stdout"
        }
      ]
    },
    {
      "cell_type": "code",
      "metadata": {
        "colab": {
          "base_uri": "https://localhost:8080/"
        },
        "id": "mjESzy3qMo8C",
        "outputId": "05cee6fa-f73f-460d-b75c-38b39ad30493"
      },
      "source": [
        "!ls -al /usr/local/cuda"
      ],
      "execution_count": 5,
      "outputs": [
        {
          "output_type": "stream",
          "text": [
            "lrwxrwxrwx 1 root root 9 Jan 20 17:22 /usr/local/cuda -> cuda-10.1\n"
          ],
          "name": "stdout"
        }
      ]
    },
    {
      "cell_type": "code",
      "metadata": {
        "id": "n8HOSZDPBbNV"
      },
      "source": [
        "import os\n",
        "import torch\n",
        "import numpy as np\n",
        "import kernel_baselines as kb\n",
        "import auxiliarymethods\n",
        "from auxiliarymethods import datasets as dp\n",
        "from scipy.sparse import save_npz\n",
        "from scipy.sparse import load_npz\n",
        "from auxiliarymethods import auxiliary_methods as aux\n",
        "from auxiliarymethods import kernel_evaluation as ke\n",
        "from auxiliarymethods.reader import tud_to_networkx\n",
        "from matplotlib import pyplot as plt\n",
        "import networkx as nx\n",
        "from collections import defaultdict\n",
        "import pandas as pd"
      ],
      "execution_count": 10,
      "outputs": []
    },
    {
      "cell_type": "code",
      "metadata": {
        "id": "5pq17mvdBdym"
      },
      "source": [
        "def setup_directory(dir_name, verbose=False):\n",
        "    \"\"\"\n",
        "    Setup directory in case it does not exist\n",
        "    Parameters:\n",
        "    -------------\n",
        "    dir_name: str, path + name to directory\n",
        "    verbose: bool, indicates whether directory creation should be printed or not.\n",
        "    \"\"\"\n",
        "    if not os.path.exists(dir_name):\n",
        "        try:\n",
        "            os.makedirs(dir_name)\n",
        "            if verbose:\n",
        "                print(\"Created Directory: {}\".format(dir_name))\n",
        "        except Exception as e:\n",
        "            raise RuntimeError(\n",
        "                \"Could not create directory: {}\\n {}\".format(dir_name, e))\n"
      ],
      "execution_count": 7,
      "outputs": []
    },
    {
      "cell_type": "code",
      "metadata": {
        "id": "VoWVqxq5B8RW",
        "colab": {
          "base_uri": "https://localhost:8080/"
        },
        "outputId": "3f2baa24-d75f-4621-8617-23b60f4e4184"
      },
      "source": [
        "use_edge_labels = False\n",
        "for USE_LABELS in [True, False]:# Except IMDB-BINARY\n",
        "    for dataset, use_labels in [[\"ENZYMES\", USE_LABELS]]:\n",
        "        if use_labels:\n",
        "            base_path = os.path.join(\"kernels\",\"node_labels\")\n",
        "        else:\n",
        "            base_path = os.path.join(\"kernels\",\"without_labels\")\n",
        "        setup_directory(base_path)\n",
        "        print(\"Start processing data set \", dataset)\n",
        "        # Download dataset.\n",
        "        classes = dp.get_dataset(dataset)\n",
        "        # *Weisfeihler-Lehman*\n",
        "        print(\"Start computing Weisfeihler-Lehman gram matrix and vector representations\")\n",
        "        iterations = 9\n",
        "        #0 taking just the nodelabels themselves into account; \n",
        "        #1 considers nearest-neighbours, 2 one layer deeper and so on\n",
        "        for i in range(1, iterations):\n",
        "            print(\"Start iteration \", i)\n",
        "            #Gram Matrix for the Weisfeiler-Lehman subtree kernel\n",
        "            gram_matrix_wl = kb.compute_wl_1_dense(dataset, i, use_labels, use_edge_labels)\n",
        "            np.savetxt(os.path.join(base_path,f\"{dataset}_gram_matrix_wl{i}.csv\"),\n",
        "                    gram_matrix_wl,\n",
        "                    delimiter=\";\")\n",
        "            #Sparse Vectors for the Weisfeiler-Lehmann subtree kernel\n",
        "            vectors_wl = kb.compute_wl_1_sparse(dataset, i, use_labels, use_edge_labels)\n",
        "            save_npz(os.path.join(base_path,f\"{dataset}_vectors_wl{i}.npz\"),\n",
        "                    vectors_wl, compressed=True)\n",
        "\n",
        "        # *Graphlet kernel*\n",
        "        print(\"Start computing Graphlet gram matrix\")\n",
        "\n",
        "        #Gram Matrix for the Graphlet kernel\n",
        "        gram_matrix_graphlet= kb.compute_graphlet_dense(dataset, use_labels, use_edge_labels)\n",
        "        np.savetxt(os.path.join(base_path,f\"{dataset}_gram_matrix_graphlet.csv\"),\n",
        "                gram_matrix_graphlet,\n",
        "                delimiter=\";\")\n",
        "\n",
        "        print(\"Start computing Graphlet vector representation\")\n",
        "        #Sparse Vectors for the Graphlet kernel\n",
        "        vectors_graphlet = kb.compute_graphlet_sparse(dataset, use_labels, use_edge_labels)\n",
        "        save_npz(os.path.join(base_path,f\"{dataset}_vectors_graphlet.npz\"),\n",
        "                vectors_graphlet, compressed=True)\n",
        "\n",
        "\n",
        "        print(\"Start computing Shortest path gram matrix\")\n",
        "\n",
        "        #Gram Matrix for the Shortest path kernel\n",
        "        gram_matrix_shortestpath = kb.compute_shortestpath_dense(dataset, use_labels)\n",
        "        np.savetxt(os.path.join(base_path,f\"{dataset}_gram_matrix_shortestpath.csv\"),\n",
        "                gram_matrix_shortestpath,\n",
        "                delimiter=\";\")\n",
        "\n",
        "        print(\"Start computing Shortest path vector representation\")\n",
        "\n",
        "        #Sparse Vectors for the Shortest path kernel\n",
        "        vectors_shortestpath = kb.compute_shortestpath_sparse(dataset, use_labels)\n",
        "        save_npz(os.path.join(base_path,f\"{dataset}_vectors_shortestpath.npz\"),\n",
        "                vectors_shortestpath, compressed=True)\n",
        "\n"
      ],
      "execution_count": 8,
      "outputs": [
        {
          "output_type": "stream",
          "text": [
            "Start processing data set  ENZYMES\n",
            "Downloading https://www.chrsmrrs.com/graphkerneldatasets/ENZYMES.zip\n",
            "Extracting /content/tudataset/tud_benchmark/datasets/ENZYMES/ENZYMES/ENZYMES.zip\n",
            "Processing...\n",
            "Done!\n",
            "Start computing Weisfeihler-Lehman gram matrix and vector representations\n",
            "Start iteration  1\n",
            "Start iteration  2\n",
            "Start iteration  3\n",
            "Start iteration  4\n",
            "Start iteration  5\n",
            "Start iteration  6\n",
            "Start iteration  7\n",
            "Start iteration  8\n",
            "Start computing Graphlet gram matrix\n",
            "Start computing Graphlet vector representation\n",
            "Start computing Shortest path gram matrix\n",
            "Start computing Shortest path vector representation\n",
            "Start processing data set  ENZYMES\n",
            "Start computing Weisfeihler-Lehman gram matrix and vector representations\n",
            "Start iteration  1\n",
            "Start iteration  2\n",
            "Start iteration  3\n",
            "Start iteration  4\n",
            "Start iteration  5\n",
            "Start iteration  6\n",
            "Start iteration  7\n",
            "Start iteration  8\n",
            "Start computing Graphlet gram matrix\n",
            "Start computing Graphlet vector representation\n",
            "Start computing Shortest path gram matrix\n",
            "Start computing Shortest path vector representation\n"
          ],
          "name": "stdout"
        }
      ]
    },
    {
      "cell_type": "code",
      "metadata": {
        "id": "9TgFDW2SckJ8"
      },
      "source": [
        "def load_csv(path):\n",
        "    return np.loadtxt(path, delimiter=\";\")\n",
        "\n",
        "def load_sparse(path):\n",
        "    return load_npz(path)\n",
        "\n",
        "def select_from_list(l, indices):\n",
        "    return [l[i] for i in indices]"
      ],
      "execution_count": null,
      "outputs": []
    },
    {
      "cell_type": "code",
      "metadata": {
        "id": "IwzZYUxrcm46"
      },
      "source": [
        "def visualize(G, color=None, figsize=(5,5)):\n",
        "    plt.figure(figsize=figsize)\n",
        "    plt.xticks([])\n",
        "    plt.yticks([])\n",
        "    nx.draw_networkx(G, \n",
        "                     pos=nx.spring_layout(G, seed=42),\n",
        "                     with_labels=True,\n",
        "                     node_color=color,\n",
        "                     cmap=\"Set2\")\n",
        "    plt.show()"
      ],
      "execution_count": null,
      "outputs": []
    },
    {
      "cell_type": "code",
      "metadata": {
        "colab": {
          "base_uri": "https://localhost:8080/"
        },
        "id": "wSJIFWWTcnFG",
        "outputId": "c92a69b5-59f9-4992-95ae-0e5dd1b056f9"
      },
      "source": [
        "base_path = os.path.join(\"kernels\", \"node_labels\")\n",
        "ds_name = \"ENZYMES\"\n",
        "classes = dp.get_dataset(ds_name)\n",
        "G = tud_to_networkx(ds_name)\n",
        "print(f\"Number of graphs in data set is {len(G)}\")\n",
        "print(f\"Number of classes {len(set(classes.tolist()))}\")"
      ],
      "execution_count": null,
      "outputs": [
        {
          "output_type": "stream",
          "text": [
            "Number of graphs in data set is 600\n",
            "Number of classes 6\n"
          ],
          "name": "stdout"
        }
      ]
    },
    {
      "cell_type": "code",
      "metadata": {
        "id": "DOrWxO7MduKu"
      },
      "source": [
        "def graph_list_properties(graphs, property):\n",
        "  values = []\n",
        "  for g in graphs:\n",
        "    values.append(property(g))\n",
        "  return values"
      ],
      "execution_count": null,
      "outputs": []
    },
    {
      "cell_type": "code",
      "metadata": {
        "colab": {
          "base_uri": "https://localhost:8080/"
        },
        "id": "ICid3p0-nMAm",
        "outputId": "b1eddf1c-197f-4f24-db8a-0affbd700e0c"
      },
      "source": [
        "print(G[0].nodes[0])"
      ],
      "execution_count": null,
      "outputs": [
        {
          "output_type": "stream",
          "text": [
            "{'labels': [1], 'attributes': [11.0, 15.887014, 37.78, -0.51, 1.701, 93.9, 4.0, 5.0, 2.0, 4.0, 4.0, 3.0, 3.0, 4.0, 4.0, 3.0, 6.0, 2.0]}\n"
          ],
          "name": "stdout"
        }
      ]
    },
    {
      "cell_type": "code",
      "metadata": {
        "colab": {
          "base_uri": "https://localhost:8080/"
        },
        "id": "9Sg51kWkmWx6",
        "outputId": "a9c18787-8830-4614-8e97-034f9fd7973f"
      },
      "source": [
        "print(G[0].nodes[0])\n",
        "labels = set()\n",
        "for g in G:\n",
        "  for i in range(g.number_of_nodes()):\n",
        "    labels.add(g.nodes[i][\"labels\"][0])\n",
        "labels"
      ],
      "execution_count": null,
      "outputs": [
        {
          "output_type": "stream",
          "text": [
            "{'labels': [1], 'attributes': [11.0, 15.887014, 37.78, -0.51, 1.701, 93.9, 4.0, 5.0, 2.0, 4.0, 4.0, 3.0, 3.0, 4.0, 4.0, 3.0, 6.0, 2.0]}\n"
          ],
          "name": "stdout"
        },
        {
          "output_type": "execute_result",
          "data": {
            "text/plain": [
              "{1, 2, 3}"
            ]
          },
          "metadata": {
            "tags": []
          },
          "execution_count": 21
        }
      ]
    },
    {
      "cell_type": "code",
      "metadata": {
        "colab": {
          "base_uri": "https://localhost:8080/",
          "height": 1000
        },
        "id": "l3inIP-2c5rN",
        "outputId": "d8eeb4f4-1bed-4175-c734-77c1e7e43ffe"
      },
      "source": [
        "graph_dict = defaultdict(list)\n",
        "for i, g in enumerate(G):\n",
        "  graph_dict[classes[i]].append(g)\n",
        "\n",
        "for label_class in graph_dict:\n",
        "  print(\"Num nodes:\")\n",
        "  num_nodes = graph_list_properties(graph_dict[label_class], lambda g: g.number_of_nodes())\n",
        "  print(label_class, num_nodes)\n",
        "\n",
        "  print()\n",
        "  print(\"Cliques:\")\n",
        "  num_nodes = graph_list_properties(graph_dict[label_class], lambda g: nx.algorithms.wiener_index(g))\n",
        "  print(label_class, np.average(np.array([n for n in num_nodes if str(n) != \"inf\"])), num_nodes)\n",
        "  print()\n",
        "  print()\n",
        "\n",
        "visualize(graph_dict[6][7])\n",
        "graph_dict[6][7].number_of_nodes()"
      ],
      "execution_count": null,
      "outputs": [
        {
          "output_type": "stream",
          "text": [
            "Num nodes:\n",
            "6 [37, 23, 25, 24, 23, 24, 26, 88, 23, 32, 4, 14, 42, 41, 36, 55, 40, 38, 2, 35, 42, 41, 39, 42, 41, 40, 37, 23, 22, 34, 38, 38, 39, 8, 23, 42, 42, 100, 24, 24, 47, 45, 45, 45, 46, 44, 30, 32, 33, 9, 27, 39, 16, 18, 7, 18, 10, 21, 18, 10, 9, 39, 33, 29, 24, 25, 30, 38, 28, 28, 38, 40, 40, 42, 20, 19, 16, 17, 20, 18, 33, 23, 23, 35, 33, 39, 40, 38, 40, 38, 37, 36, 34, 34, 32, 18, 32, 34, 30, 5]\n",
            "\n",
            "Cliques:\n",
            "6 3026.1958762886597 [3316.0, 865.0, 1388.0, 1308.0, 975.0, 1169.0, 1071.0, 30099.0, 1295.0, 3599.0, 6.0, 229.0, 7371.0, 7034.0, 4579.0, 7157.0, 3189.0, 2861.0, 1.0, 3374.0, 5345.0, 5067.0, 4501.0, 5106.0, 4811.0, 4887.0, 3729.0, 805.0, 814.0, 3468.0, 3076.0, 3075.0, 3563.0, 48.0, 1115.0, 4619.0, 4649.0, inf, 1290.0, 956.0, 5645.0, 5490.0, 5512.0, 5512.0, 5744.0, 5112.0, 2849.0, 3125.0, 3304.0, 77.0, 1209.0, inf, 313.0, 470.0, 30.0, 450.0, 92.0, 641.0, 424.0, 92.0, 72.0, 5927.0, 3867.0, 2623.0, 1511.0, 1573.0, 2707.0, 3795.0, 1754.0, 2027.0, 2819.0, 6372.0, 4738.0, 5322.0, 818.0, 675.0, 422.0, 523.0, 633.0, 558.0, 2433.0, 1156.0, 1197.0, 3447.0, 3049.0, 5566.0, 5820.0, 2893.0, 4005.0, 5616.0, 3891.0, 3516.0, 4196.0, 2979.0, 2437.0, 547.0, inf, 2357.0, 1788.0, 11.0]\n",
            "\n",
            "\n",
            "Num nodes:\n",
            "5 [45, 42, 59, 32, 33, 17, 39, 38, 35, 16, 26, 51, 52, 25, 27, 42, 46, 96, 12, 22, 42, 14, 90, 14, 14, 32, 11, 26, 11, 14, 18, 16, 17, 32, 13, 3, 22, 16, 38, 13, 12, 14, 39, 19, 20, 39, 40, 39, 39, 29, 22, 11, 8, 13, 18, 12, 8, 40, 12, 22, 22, 18, 12, 17, 14, 22, 43, 42, 44, 24, 48, 25, 46, 48, 25, 48, 44, 42, 40, 38, 40, 41, 42, 40, 44, 24, 44, 20, 42, 27, 48, 31, 30, 46, 47, 50, 40, 55, 62, 34]\n",
            "\n",
            "Cliques:\n",
            "5 2886.095744680851 [5784.0, 4793.0, 8410.0, 2301.0, 2465.0, 501.0, 4251.0, 4110.0, 3278.0, 427.0, 1560.0, 7890.0, 8644.0, 1469.0, 1794.0, 7502.0, 6365.0, inf, 160.0, 639.0, inf, 236.0, 24533.0, 217.0, 170.0, 2011.0, 107.0, 1212.0, 119.0, inf, 520.0, 335.0, 459.0, 1812.0, 176.0, 3.0, 898.0, 281.0, 3092.0, 164.0, 141.0, 194.0, 3036.0, 615.0, 678.0, 2573.0, 2749.0, 2600.0, 2570.0, 1903.0, 769.0, 98.0, 40.0, inf, 370.0, 139.0, 45.0, 4346.0, 127.0, 753.0, 762.0, 540.0, 160.0, 363.0, 245.0, 1234.0, inf, 4546.0, 3875.0, 1425.0, 6570.0, 1350.0, 4566.0, 6573.0, 1521.0, 6079.0, 3979.0, 3442.0, inf, 3766.0, 3700.0, 3686.0, 3366.0, 2938.0, 3744.0, 1114.0, 3935.0, 626.0, 3589.0, 1883.0, 5674.0, 2113.0, 2306.0, 4439.0, 6752.0, 5047.0, 4830.0, 7642.0, 17553.0, 2926.0]\n",
            "\n",
            "\n",
            "Num nodes:\n",
            "1 [29, 25, 56, 57, 27, 22, 24, 23, 57, 24, 24, 23, 25, 23, 48, 27, 15, 44, 29, 21, 34, 30, 40, 54, 18, 36, 37, 34, 23, 32, 33, 29, 39, 34, 36, 21, 6, 22, 18, 18, 34, 32, 33, 28, 40, 42, 39, 28, 29, 30, 14, 32, 35, 24, 17, 18, 16, 19, 19, 21, 23, 25, 27, 24, 24, 32, 31, 33, 34, 32, 32, 44, 40, 40, 38, 30, 38, 44, 60, 28, 16, 50, 52, 48, 50, 42, 43, 41, 39, 38, 62, 60, 96, 54, 124, 126, 122, 24, 41, 49]\n",
            "\n",
            "Cliques:\n",
            "1 3761.554347826087 [2159.0, 1493.0, 7300.0, 8390.0, 1067.0, 728.0, 1337.0, 836.0, 7657.0, 1003.0, 962.0, 884.0, 914.0, 788.0, 4612.0, 2003.0, 224.0, 4791.0, 1823.0, 878.0, 2682.0, 1579.0, 4793.0, 5919.0, 476.0, 2284.0, 2492.0, 2028.0, 780.0, 2266.0, 2059.0, 1562.0, 3623.0, 2453.0, 3071.0, inf, 19.0, 608.0, 352.0, 351.0, 3247.0, 2697.0, 3094.0, 1360.0, 4487.0, 7424.0, 2976.0, 1699.0, 1905.0, 1267.0, 251.0, 2749.0, 2645.0, 807.0, 484.0, 543.0, 408.0, 675.0, 677.0, 764.0, 771.0, 1233.0, 1484.0, 1177.0, 1108.0, 3040.0, 2684.0, 2469.0, 2825.0, 2699.0, 2202.0, 6483.0, 5090.0, 3971.0, inf, 1672.0, 3282.0, 5066.0, 10043.0, 2181.0, 349.0, 8106.0, 8540.0, 6782.0, 7834.0, inf, inf, inf, 3874.0, 4857.0, 17920.0, 16479.0, 58424.0, 9789.0, inf, inf, inf, 866.0, 6530.0, 6828.0]\n",
            "\n",
            "\n",
            "Num nodes:\n",
            "2 [44, 42, 41, 42, 46, 55, 50, 42, 48, 51, 24, 51, 52, 22, 44, 44, 31, 27, 25, 38, 21, 29, 20, 21, 50, 46, 49, 27, 12, 14, 23, 24, 33, 27, 25, 28, 28, 12, 26, 28, 28, 26, 24, 23, 27, 39, 42, 42, 64, 38, 22, 9, 26, 19, 66, 27, 34, 28, 26, 26, 28, 19, 20, 20, 42, 42, 15, 11, 10, 12, 30, 15, 10, 18, 22, 12, 36, 30, 30, 36, 33, 48, 27, 27, 16, 7, 16, 35, 28, 40, 26, 48, 15, 11, 50, 18, 19, 14, 21, 37]\n",
            "\n",
            "Cliques:\n",
            "2 2558.2886597938145 [4708.0, 4179.0, 3883.0, 4125.0, 5346.0, 9720.0, 6692.0, 4125.0, 4582.0, 6755.0, 835.0, 5390.0, 5409.0, 831.0, 4985.0, 5015.0, 2158.0, 1521.0, 1590.0, 4312.0, 675.0, 1864.0, 763.0, 928.0, 6855.0, 4769.0, 5624.0, 1920.0, 161.0, 222.0, 992.0, 1079.0, 3201.0, 1695.0, 1008.0, 1875.0, 2031.0, 166.0, 1519.0, 1621.0, 1996.0, 1493.0, 1344.0, 1340.0, 1358.0, 6206.0, 3707.0, 3656.0, 10784.0, 2458.0, 715.0, 102.0, inf, 372.0, 11860.0, inf, 3123.0, 1315.0, 1149.0, 1079.0, 1161.0, 454.0, 545.0, 474.0, 5700.0, 5585.0, 288.0, 114.0, 89.0, 136.0, 1990.0, 254.0, 86.0, 447.0, 803.0, 144.0, 3414.0, 1993.0, 1990.0, inf, 3537.0, 5303.0, 1604.0, 1462.0, 353.0, 28.0, 287.0, 3011.0, 1745.0, 4892.0, 1581.0, 6482.0, 315.0, 107.0, 8369.0, 360.0, 410.0, 241.0, 631.0, 2583.0]\n",
            "\n",
            "\n",
            "Num nodes:\n",
            "3 [48, 25, 28, 33, 29, 33, 30, 33, 32, 28, 37, 36, 38, 37, 34, 24, 25, 41, 27, 26, 25, 27, 20, 40, 21, 19, 36, 32, 28, 37, 18, 19, 22, 43, 24, 15, 14, 48, 46, 26, 25, 44, 39, 39, 27, 26, 25, 39, 26, 26, 26, 34, 20, 20, 19, 18, 33, 15, 34, 28, 34, 15, 14, 20, 52, 20, 20, 20, 17, 12, 24, 46, 13, 24, 12, 12, 14, 20, 28, 24, 12, 26, 22, 60, 39, 26, 15, 25, 35, 35, 38, 38, 33, 32, 42, 42, 41, 40, 38, 43]\n",
            "\n",
            "Cliques:\n",
            "3 2007.9468085106382 [4168.0, 1048.0, 1433.0, 2957.0, 2007.0, 2755.0, 1747.0, 2502.0, 2303.0, 1474.0, 4000.0, 3532.0, 3228.0, 3179.0, 2039.0, 950.0, 1114.0, 6568.0, 1288.0, 1207.0, 1034.0, 1139.0, 609.0, 3006.0, 587.0, inf, inf, 2281.0, 1497.0, 2894.0, 483.0, 572.0, 839.0, 4850.0, 816.0, 222.0, 228.0, 3889.0, 3465.0, 1013.0, 857.0, 3127.0, 2492.0, 2528.0, 1135.0, 976.0, 858.0, 2625.0, 952.0, 941.0, 994.0, 2823.0, 425.0, 562.0, 476.0, 423.0, 2203.0, 259.0, 1845.0, 989.0, inf, 258.0, 224.0, 425.0, 5878.0, 600.0, 583.0, 614.0, 515.0, 143.0, 1058.0, inf, 176.0, 878.0, 144.0, 172.0, 280.0, 588.0, 1482.0, 1057.0, 135.0, 1292.0, 740.0, 10632.0, 3635.0, 1249.0, 307.0, 1674.0, 4534.0, 3658.0, inf, 3422.0, 3073.0, 3034.0, 6596.0, 6904.0, 6105.0, 6158.0, inf, 4111.0]\n",
            "\n",
            "\n",
            "Num nodes:\n",
            "4 [67, 36, 46, 66, 21, 22, 21, 21, 41, 29, 30, 30, 41, 37, 26, 37, 50, 27, 34, 32, 35, 37, 48, 41, 29, 58, 57, 21, 18, 42, 40, 74, 44, 44, 40, 44, 42, 43, 41, 49, 84, 44, 42, 41, 41, 44, 39, 25, 25, 26, 52, 41, 45, 31, 26, 26, 52, 50, 38, 37, 27, 29, 48, 40, 19, 14, 13, 13, 44, 45, 46, 47, 47, 42, 51, 27, 27, 60, 28, 38, 23, 18, 45, 21, 35, 24, 21, 21, 31, 27, 51, 36, 46, 52, 44, 45, 52, 55, 51, 48]\n",
            "\n",
            "Cliques:\n",
            "4 4018.9473684210525 [inf, 3972.0, 4789.0, 14602.0, 707.0, 686.0, 671.0, 599.0, 3609.0, 1352.0, 1502.0, 1496.0, 4095.0, 2811.0, 1432.0, 4487.0, 7309.0, 1611.0, 2311.0, 2026.0, 2559.0, 2888.0, 5216.0, 6600.0, 1466.0, 8714.0, 7727.0, 513.0, 342.0, 4116.0, 3409.0, 12834.0, 4704.0, 4397.0, inf, 4453.0, 4167.0, 4517.0, 4351.0, 7245.0, inf, 4044.0, 7321.0, 6207.0, 6531.0, 7717.0, 2663.0, 1651.0, 1521.0, 1917.0, 8868.0, inf, 9367.0, 1675.0, 1910.0, 1767.0, 8820.0, 7946.0, 4338.0, 4023.0, 1883.0, 2257.0, 5087.0, 4594.0, 651.0, 170.0, 138.0, 128.0, 5154.0, 5723.0, 6090.0, 6501.0, 6504.0, 3569.0, 6429.0, 1732.0, 1702.0, 11677.0, 1876.0, 3504.0, 769.0, 420.0, 4167.0, 768.0, 3375.0, 1019.0, 802.0, 689.0, 2150.0, 1511.0, 8017.0, 2576.0, 4996.0, 6821.0, 4511.0, 4972.0, 6871.0, 8821.0, 4605.0, inf]\n",
            "\n",
            "\n"
          ],
          "name": "stdout"
        },
        {
          "output_type": "display_data",
          "data": {
            "image/png": "[encoded data removed]",
            "text/plain": [
              "<Figure size 360x360 with 1 Axes>"
            ]
          },
          "metadata": {
            "tags": []
          }
        },
        {
          "output_type": "execute_result",
          "data": {
            "text/plain": [
              "88"
            ]
          },
          "metadata": {
            "tags": []
          },
          "execution_count": 22
        }
      ]
    },
    {
      "cell_type": "code",
      "metadata": {
        "id": "hwdWimjIcnP0"
      },
      "source": [
        ""
      ],
      "execution_count": null,
      "outputs": []
    },
    {
      "cell_type": "code",
      "metadata": {
        "id": "hkt9ZBeKTzlB"
      },
      "source": [
        "def find_keys_with_condition(data, cond):\n",
        "    return list(filter(lambda x: cond in x, data.keys()))\n",
        "\n",
        "def load_data():\n",
        "  result = {}\n",
        "  extensions = ['csv', 'npz']\n",
        "  types = ['gram_matrix', 'vectors']\n",
        "  algos = ['wl1', 'wl2', 'wl3', 'wl4', 'wl5', 'wl6', 'wl7', 'wl8', 'shortestpath', 'graphlet']\n",
        "  base_name = '/content/tudataset/tud_benchmark/kernels/node_labels/ENZYMES_{0}_{1}.{2}'\n",
        "\n",
        "  for t, e in zip(types, extensions):\n",
        "    result[t] = {}\n",
        "    for a in algos:\n",
        "      algo_name = 'wl' if 'wl' in a else a\n",
        "\n",
        "      if algo_name not in result[t].keys():\n",
        "        result[t][algo_name] = []\n",
        "\n",
        "      file_name = base_name.format(t, a, e)\n",
        "\n",
        "      if e == 'csv':\n",
        "        f = np.loadtxt(file_name, delimiter=';')\n",
        "      else:\n",
        "        f = load_npz(file_name)\n",
        "      \n",
        "      result[t][algo_name].append(f)\n",
        "  return result"
      ],
      "execution_count": null,
      "outputs": []
    },
    {
      "cell_type": "code",
      "metadata": {
        "id": "3lpO07rCTVx8",
        "colab": {
          "base_uri": "https://localhost:8080/"
        },
        "outputId": "a2c1f9b8-6ba5-49fe-9f3c-b08e9658f738"
      },
      "source": [
        "data = load_data()\n",
        "data"
      ],
      "execution_count": null,
      "outputs": [
        {
          "output_type": "execute_result",
          "data": {
            "text/plain": [
              "{'gram_matrix': {'graphlet': [array([[11177.,  6596.,  4333., ..., 11081., 13908., 10164.],\n",
              "          [ 6596.,  4879.,  3005., ...,  4882.,  5786.,  3278.],\n",
              "          [ 4333.,  3005.,  2132., ...,  2814.,  3236.,  1674.],\n",
              "          ...,\n",
              "          [11081.,  4882.,  2814., ..., 20397., 22060., 18291.],\n",
              "          [13908.,  5786.,  3236., ..., 22060., 28850., 24883.],\n",
              "          [10164.,  3278.,  1674., ..., 18291., 24883., 22359.]])],\n",
              "  'shortestpath': [array([[ 73924.,  30546.,  35514., ...,  79166., 117398.,  96672.],\n",
              "          [ 30546.,  15744.,  16882., ...,  36894.,  56388.,  46384.],\n",
              "          [ 35514.,  16882.,  21316., ...,  33136.,  54940.,  44536.],\n",
              "          ...,\n",
              "          [ 79166.,  36894.,  33136., ..., 316796., 227164., 199264.],\n",
              "          [117398.,  56388.,  54940., ..., 227164., 337252., 289668.],\n",
              "          [ 96672.,  46384.,  44536., ..., 199264., 289668., 256200.]])],\n",
              "  'wl': [array([[ 874.,  502.,  585., ...,  973.,  998.,  935.],\n",
              "          [ 502.,  360.,  362., ...,  591.,  615.,  580.],\n",
              "          [ 585.,  362.,  476., ...,  587.,  678.,  636.],\n",
              "          ...,\n",
              "          [ 973.,  591.,  587., ..., 1930., 1417., 1351.],\n",
              "          [ 998.,  615.,  678., ..., 1417., 1488., 1431.],\n",
              "          [ 935.,  580.,  636., ..., 1351., 1431., 1432.]]),\n",
              "   array([[ 919.,  502.,  585., ...,  973.,  998.,  959.],\n",
              "          [ 502.,  385.,  362., ...,  591.,  615.,  595.],\n",
              "          [ 585.,  362.,  511., ...,  587.,  678.,  655.],\n",
              "          ...,\n",
              "          [ 973.,  591.,  587., ..., 1999., 1417., 1369.],\n",
              "          [ 998.,  615.,  678., ..., 1417., 1545., 1475.],\n",
              "          [ 959.,  595.,  655., ..., 1369., 1475., 1546.]]),\n",
              "   array([[ 964.,  502.,  585., ...,  973.,  998.,  983.],\n",
              "          [ 502.,  408.,  362., ...,  591.,  615.,  610.],\n",
              "          [ 585.,  362.,  546., ...,  587.,  678.,  674.],\n",
              "          ...,\n",
              "          [ 973.,  591.,  587., ..., 2054., 1417., 1387.],\n",
              "          [ 998.,  615.,  678., ..., 1417., 1596., 1501.],\n",
              "          [ 983.,  610.,  674., ..., 1387., 1501., 1652.]]),\n",
              "   array([[1009.,  502.,  585., ...,  973.,  998., 1007.],\n",
              "          [ 502.,  431.,  362., ...,  591.,  615.,  625.],\n",
              "          [ 585.,  362.,  581., ...,  587.,  678.,  693.],\n",
              "          ...,\n",
              "          [ 973.,  591.,  587., ..., 2109., 1417., 1405.],\n",
              "          [ 998.,  615.,  678., ..., 1417., 1647., 1527.],\n",
              "          [1007.,  625.,  693., ..., 1405., 1527., 1758.]]),\n",
              "   array([[1054.,  502.,  585., ...,  973.,  998., 1031.],\n",
              "          [ 502.,  454.,  362., ...,  591.,  615.,  640.],\n",
              "          [ 585.,  362.,  616., ...,  587.,  678.,  712.],\n",
              "          ...,\n",
              "          [ 973.,  591.,  587., ..., 2164., 1417., 1423.],\n",
              "          [ 998.,  615.,  678., ..., 1417., 1698., 1553.],\n",
              "          [1031.,  640.,  712., ..., 1423., 1553., 1864.]]),\n",
              "   array([[1099.,  502.,  585., ...,  973.,  998., 1055.],\n",
              "          [ 502.,  477.,  362., ...,  591.,  615.,  655.],\n",
              "          [ 585.,  362.,  651., ...,  587.,  678.,  731.],\n",
              "          ...,\n",
              "          [ 973.,  591.,  587., ..., 2219., 1417., 1441.],\n",
              "          [ 998.,  615.,  678., ..., 1417., 1749., 1579.],\n",
              "          [1055.,  655.,  731., ..., 1441., 1579., 1970.]]),\n",
              "   array([[1144.,  502.,  585., ...,  973.,  998., 1079.],\n",
              "          [ 502.,  500.,  362., ...,  591.,  615.,  670.],\n",
              "          [ 585.,  362.,  686., ...,  587.,  678.,  750.],\n",
              "          ...,\n",
              "          [ 973.,  591.,  587., ..., 2274., 1417., 1459.],\n",
              "          [ 998.,  615.,  678., ..., 1417., 1800., 1605.],\n",
              "          [1079.,  670.,  750., ..., 1459., 1605., 2078.]]),\n",
              "   array([[1189.,  502.,  585., ...,  973.,  998., 1103.],\n",
              "          [ 502.,  523.,  362., ...,  591.,  615.,  685.],\n",
              "          [ 585.,  362.,  721., ...,  587.,  678.,  769.],\n",
              "          ...,\n",
              "          [ 973.,  591.,  587., ..., 2329., 1417., 1477.],\n",
              "          [ 998.,  615.,  678., ..., 1417., 1851., 1631.],\n",
              "          [1103.,  685.,  769., ..., 1477., 1631., 2188.]])]},\n",
              " 'vectors': {'graphlet': [<600x3455 sparse matrix of type '<class 'numpy.float64'>'\n",
              "   \twith 3455 stored elements in Compressed Sparse Column format>],\n",
              "  'shortestpath': [<600x25460 sparse matrix of type '<class 'numpy.float64'>'\n",
              "   \twith 25460 stored elements in Compressed Sparse Column format>],\n",
              "  'wl': [<600x9658 sparse matrix of type '<class 'numpy.float64'>'\n",
              "   \twith 9658 stored elements in Compressed Sparse Column format>,\n",
              "   <600x25577 sparse matrix of type '<class 'numpy.float64'>'\n",
              "   \twith 25577 stored elements in Compressed Sparse Column format>,\n",
              "   <600x42457 sparse matrix of type '<class 'numpy.float64'>'\n",
              "   \twith 42457 stored elements in Compressed Sparse Column format>,\n",
              "   <600x59599 sparse matrix of type '<class 'numpy.float64'>'\n",
              "   \twith 59599 stored elements in Compressed Sparse Column format>,\n",
              "   <600x76881 sparse matrix of type '<class 'numpy.float64'>'\n",
              "   \twith 76881 stored elements in Compressed Sparse Column format>,\n",
              "   <600x94232 sparse matrix of type '<class 'numpy.float64'>'\n",
              "   \twith 94232 stored elements in Compressed Sparse Column format>,\n",
              "   <600x111622 sparse matrix of type '<class 'numpy.float64'>'\n",
              "   \twith 111622 stored elements in Compressed Sparse Column format>,\n",
              "   <600x129043 sparse matrix of type '<class 'numpy.float64'>'\n",
              "   \twith 129043 stored elements in Compressed Sparse Column format>]}}"
            ]
          },
          "metadata": {
            "tags": []
          },
          "execution_count": 24
        }
      ]
    },
    {
      "cell_type": "code",
      "metadata": {
        "id": "nnky-P2CZc5o"
      },
      "source": [
        "def eval_kernel(kernel, classes, mode, n_reps=10, all_std=True):\n",
        "  normalized = []\n",
        "  print(f'Starting normalization of {len(kernel)} elements...')\n",
        "  for array in kernel:\n",
        "    if mode == 'LINEAR':\n",
        "      normalized.append(aux.normalize_feature_vector(array))\n",
        "    else:\n",
        "      normalized.append(aux.normalize_gram_matrix(array))\n",
        "  print(f'Normalization finished, starting {mode} SVM...')\n",
        "  if mode == 'LINEAR':\n",
        "    return ke.linear_svm_evaluation(normalized, classes, num_repetitions=n_reps, all_std=all_std)\n",
        "  return ke.kernel_svm_evaluation(normalized, classes, num_repetitions=n_reps, all_std=all_std)\n",
        "\n",
        "def eval_all(data):\n",
        "  classes = dp.get_dataset('ENZYMES')\n",
        "  result = {}\n",
        "  for data_type in data.keys():\n",
        "    mode = 'LINEAR' if data_type == 'vectors' else 'KERNEL'\n",
        "    result[data_type] = {}\n",
        "    print('MODE:', mode)\n",
        "    for kernel in data[data_type]:\n",
        "      print(f'\\nEvaluating {kernel} SVM...')\n",
        "      result[data_type][kernel] = eval_kernel(data[data_type][kernel], classes, mode)\n",
        "      print(f'{data_type}-{kernel} : {result[data_type][kernel]}')\n",
        "  return result\n",
        "\n"
      ],
      "execution_count": null,
      "outputs": []
    },
    {
      "cell_type": "code",
      "metadata": {
        "id": "QnxxN0__kKmA",
        "colab": {
          "base_uri": "https://localhost:8080/"
        },
        "outputId": "86ca0313-ae72-4add-9ff8-539765ad3a18"
      },
      "source": [
        "for array in data[\"gram_matrix\"][\"wl\"]:\n",
        " normalized = [aux.normalize_gram_matrix(array)]\n",
        " print(ke.kernel_svm_evaluation(normalized, classes, num_repetitions=10, all_std=True))"
      ],
      "execution_count": null,
      "outputs": [
        {
          "output_type": "stream",
          "text": [
            "(39.783333333333346, 1.8901058171435792, 6.185354566321249)\n",
            "(50.56666666666666, 1.4321700705960552, 6.844381312840158)\n",
            "(51.13333333333334, 1.0588253449512368, 5.966945989737502)\n",
            "(50.4, 1.2587471725666146, 6.092436111915969)\n",
            "(50.06666666666667, 1.171893055416463, 6.280127387243033)\n",
            "(49.43333333333334, 1.5584892970081288, 6.129255891034227)\n",
            "(48.266666666666666, 0.7078920193865111, 5.436093368505651)\n",
            "(47.650000000000006, 1.3772960627419406, 6.62526729020548)\n"
          ],
          "name": "stdout"
        }
      ]
    },
    {
      "cell_type": "code",
      "metadata": {
        "colab": {
          "base_uri": "https://localhost:8080/"
        },
        "id": "tHCSu5PQqte0",
        "outputId": "d2e8c1ee-8821-4eb1-ecac-a1dc54480e24"
      },
      "source": [
        "type(data[\"vectors\"][\"shortestpath\"][0])"
      ],
      "execution_count": null,
      "outputs": [
        {
          "output_type": "execute_result",
          "data": {
            "text/plain": [
              "scipy.sparse.csc.csc_matrix"
            ]
          },
          "metadata": {
            "tags": []
          },
          "execution_count": 20
        }
      ]
    },
    {
      "cell_type": "code",
      "metadata": {
        "id": "Z9tVLN-EpiIV"
      },
      "source": [
        "val = data[\"vectors\"][\"wl\"][2].T.dot(data[\"vectors\"][\"shortestpath\"][0])\n",
        "print(1)\n",
        "normalized = [aux.normalize_feature_vector(val)]\n",
        "print(2)\n",
        "print(ke.linear_svm_evaluation(normalized, classes, num_repetitions=10, all_std=True))\n"
      ],
      "execution_count": null,
      "outputs": []
    },
    {
      "cell_type": "code",
      "metadata": {
        "id": "rCwcC_PXnIwA"
      },
      "source": [
        "#eval_all(data)"
      ],
      "execution_count": null,
      "outputs": []
    },
    {
      "cell_type": "code",
      "metadata": {
        "id": "_mv1crHkcHls",
        "colab": {
          "base_uri": "https://localhost:8080/",
          "height": 496
        },
        "outputId": "584560a5-f995-4812-b5c3-830e6c9642ba"
      },
      "source": [
        "algorithms = [\"KPCA\", \"TSVD\", \"SPEC\"]\n",
        "for version in [\"node_labels\", \"without_labels\"]:\n",
        "    print(f\"#################{version}#################\")\n",
        "    all_nmi = {}\n",
        "\n",
        "    for algorithm in algorithms:\n",
        "        path_i = os.path.join('kernels', version, f'{algorithm}.csv')\n",
        "        nmi_df = pd.read_csv(path_i, index_col=0)\n",
        "        all_nmi[algorithm] = nmi_df['ENZYMES']\n",
        "\n",
        "        max_nmi = nmi_df['ENZYMES'].max()\n",
        "        max_nmi_id = nmi_df['ENZYMES'].idxmax()\n",
        "\n",
        "    all_nmi_df = pd.DataFrame.from_dict(all_nmi)\n",
        "    # print(all_nmi_df)\n",
        "\n",
        "    fig, ax = plt.subplots(figsize=(10,3))\n",
        "    ax.set_ylabel(\"NMI\")\n",
        "    ax.set_xlabel(\"WL-Iterations\")\n",
        "    ax.set_xticks([0,1,2,3,4,5,6])\n",
        "    ax.set_xticklabels([1,2,3,4,5, 'graphlet', 'shortestpath'])\n",
        "    ax.set_title(version)\n",
        "    all_nmi_df.plot(marker=\"o\", ax=ax)\n",
        "    plt.show()\n"
      ],
      "execution_count": 85,
      "outputs": [
        {
          "output_type": "stream",
          "text": [
            "#################node_labels#################\n"
          ],
          "name": "stdout"
        },
        {
          "output_type": "display_data",
          "data": {
            "image/png": "[encoded data removed]",
            "text/plain": [
              "<Figure size 720x216 with 1 Axes>"
            ]
          },
          "metadata": {
            "tags": [],
            "needs_background": "light"
          }
        },
        {
          "output_type": "stream",
          "text": [
            "#################without_labels#################\n"
          ],
          "name": "stdout"
        },
        {
          "output_type": "display_data",
          "data": {
            "image/png": "[encoded data removed]",
            "text/plain": [
              "<Figure size 720x216 with 1 Axes>"
            ]
          },
          "metadata": {
            "tags": [],
            "needs_background": "light"
          }
        }
      ]
    },
    {
      "cell_type": "code",
      "metadata": {
        "id": "tF3-kyn1Nn6G"
      },
      "source": [
        "rc = pd.read_csv('representation_comparison.csv')\n",
        "rc_node_labels = rc[rc.Labels == True]\n",
        "rc_without_labels = rc[rc.Labels == False]"
      ],
      "execution_count": 108,
      "outputs": []
    },
    {
      "cell_type": "code",
      "metadata": {
        "id": "gAbwV9z5O7vK",
        "outputId": "1a5c1d94-bf3c-4bc7-fd49-20bc3530b97d",
        "colab": {
          "base_uri": "https://localhost:8080/",
          "height": 1000
        }
      },
      "source": [
        "rc.Algorithm.unique()\n",
        "for algorithm in rc.Algorithm.unique():\n",
        "  with_labels = True\n",
        "  with_labels_title = 'with' if with_labels else 'without'\n",
        "  df = rc[(rc.Algorithm==algorithm) & (rc.Labels==with_labels)]\n",
        "  # print(df)\n",
        "  # print(df[['NMI', 'Representation']])\n",
        "  fig, ax = plt.subplots(figsize=(8,5))\n",
        "  ax.set_ylabel(\"NMI\")\n",
        "  ax.set_xlabel(\"Representation\")\n",
        "\n",
        "  ax.set_title(f'{algorithm} {with_labels_title} labels')\n",
        "  plt.bar(df['Representation'], df[\"NMI\"], color=plt.cm.Paired(np.arange(len(df))))\n",
        "\n",
        "  plt.show()\n"
      ],
      "execution_count": 138,
      "outputs": [
        {
          "output_type": "display_data",
          "data": {
            "image/png": "[encoded data removed]",
            "text/plain": [
              "<Figure size 576x360 with 1 Axes>"
            ]
          },
          "metadata": {
            "tags": [],
            "needs_background": "light"
          }
        },
        {
          "output_type": "display_data",
          "data": {
            "image/png": "[encoded data removed]",
            "text/plain": [
              "<Figure size 576x360 with 1 Axes>"
            ]
          },
          "metadata": {
            "tags": [],
            "needs_background": "light"
          }
        },
        {
          "output_type": "display_data",
          "data": {
            "image/png": "[encoded data removed]",
            "text/plain": [
              "<Figure size 576x360 with 1 Axes>"
            ]
          },
          "metadata": {
            "tags": [],
            "needs_background": "light"
          }
        }
      ]
    }
  ]
}