{
  "nbformat": 4,
  "nbformat_minor": 0,
  "metadata": {
    "colab": {
      "name": "Kernels_FINAL.ipynb",
      "provenance": [],
      "toc_visible": true,
      "include_colab_link": true
    },
    "kernelspec": {
      "name": "python3",
      "display_name": "Python 3"
    },
    "accelerator": "GPU"
  },
  "cells": [
    {
      "cell_type": "markdown",
      "metadata": {
        "id": "view-in-github",
        "colab_type": "text"
      },
      "source": [
        "<a href=\"https://colab.research.google.com/github/markkod/pc3-enzymes/blob/main/Kernels_FINAL.ipynb\" target=\"_parent\"><img src=\"https://colab.research.google.com/assets/colab-badge.svg\" alt=\"Open In Colab\"/></a>"
      ]
    },
    {
      "cell_type": "markdown",
      "metadata": {
        "id": "RnbmnpHyDxom"
      },
      "source": [
        "# Exploratory data analysis\n",
        "## Group 8\n",
        "#### Graph Property Prediction"
      ]
    },
    {
      "cell_type": "markdown",
      "metadata": {
        "id": "WeBczudgHyU_"
      },
      "source": [
        "\n",
        "\n",
        "## Setup\n",
        "\n"
      ]
    },
    {
      "cell_type": "markdown",
      "metadata": {
        "id": "NXX7OPS4H3ma"
      },
      "source": [
        "Cloning the git repo, installing matching pytorch addons, building C++ bindings"
      ]
    },
    {
      "cell_type": "code",
      "metadata": {
        "collapsed": true,
        "id": "rl4J7ZT8FQ3i",
        "outputId": "b2de9785-3861-455f-b364-4f08592095ef",
        "colab": {
          "base_uri": "https://localhost:8080/"
        }
      },
      "source": [
        "# %%capture output\n",
        "\n",
        "# Script to generate variations of the kernels yourself\n",
        "# https://ucloud.univie.ac.at/index.php/s/E3YKph0jkpbw8TN\n",
        "\n",
        "\n",
        "# #Download the TUDataset Repository with\n",
        "!git clone https://github.com/chrsmrrs/tudataset.git\n",
        "# #move this script to tudataset/tud_benchmark\n",
        "\n",
        "# Make sure that the matching version of torch is used\n",
        "import torch\n",
        "version = torch.__version__.split('+')[0]\n",
        "\n",
        "# #Install pytorch geometric: https://pytorch-geometric.readthedocs.io/en/latest/notes/installation.html\n",
        "# #Here is the gpu cuda installation, for the cpu version replace cu102 with cpu\n",
        "%pip --no-cache-dir install torch-scatter==latest+cu101 -f https://pytorch-geometric.com/whl/torch-{version}.html\n",
        "%pip --no-cache-dir install torch-sparse==latest+cu101 -f https://pytorch-geometric.com/whl/torch-{version}.html\n",
        "%pip --no-cache-dir install torch-cluster==latest+cu101 -f https://pytorch-geometric.com/whl/torch-{version}.html\n",
        "%pip --no-cache-dir install torch-spline-conv==latest+cu101 -f https://pytorch-geometric.com/whl/torch-{version}.html\n",
        "%pip --no-cache-dir install torch-geometric\n",
        "\n",
        "%pip --no-cache-dir install pybind11\n",
        "!sudo apt-get install libeigen3-dev\n",
        "\n",
        "%cd ..\n",
        "%cd /content/tudataset/tud_benchmark/kernel_baselines/\n",
        "! ls\n",
        "! g++ -I /usr/include/eigen3 -O3 -shared -std=c++11 -fPIC `python3 -m pybind11 --includes`  kernel_baselines.cpp src/*cpp -o ../kernel_baselines`python3-config --extension-suffix`\n",
        "%cd .."
      ],
      "execution_count": 1,
      "outputs": [
        {
          "output_type": "stream",
          "text": [
            "Cloning into 'tudataset'...\n",
            "remote: Enumerating objects: 485, done.\u001b[K\n",
            "remote: Counting objects: 100% (485/485), done.\u001b[K\n",
            "remote: Compressing objects: 100% (366/366), done.\u001b[K\n",
            "remote: Total 3344 (delta 244), reused 300 (delta 114), pack-reused 2859\u001b[K\n",
            "Receiving objects: 100% (3344/3344), 8.47 MiB | 13.14 MiB/s, done.\n",
            "Resolving deltas: 100% (2371/2371), done.\n",
            "Looking in links: https://pytorch-geometric.com/whl/torch-1.7.0.html\n",
            "Collecting torch-scatter==latest+cu101\n",
            "\u001b[?25l  Downloading https://pytorch-geometric.com/whl/torch-1.7.0/torch_scatter-latest%2Bcu101-cp36-cp36m-linux_x86_64.whl (11.9MB)\n",
            "\u001b[K     |████████████████████████████████| 11.9MB 9.7MB/s \n",
            "\u001b[?25hInstalling collected packages: torch-scatter\n",
            "Successfully installed torch-scatter-2.0.5\n",
            "Looking in links: https://pytorch-geometric.com/whl/torch-1.7.0.html\n",
            "Collecting torch-sparse==latest+cu101\n",
            "\u001b[?25l  Downloading https://pytorch-geometric.com/whl/torch-1.7.0/torch_sparse-latest%2Bcu101-cp36-cp36m-linux_x86_64.whl (24.3MB)\n",
            "\u001b[K     |████████████████████████████████| 24.3MB 1.2MB/s \n",
            "\u001b[?25hRequirement already satisfied: scipy in /usr/local/lib/python3.6/dist-packages (from torch-sparse==latest+cu101) (1.4.1)\n",
            "Requirement already satisfied: numpy>=1.13.3 in /usr/local/lib/python3.6/dist-packages (from scipy->torch-sparse==latest+cu101) (1.19.5)\n",
            "Installing collected packages: torch-sparse\n",
            "Successfully installed torch-sparse-0.6.8\n",
            "Looking in links: https://pytorch-geometric.com/whl/torch-1.7.0.html\n",
            "Collecting torch-cluster==latest+cu101\n",
            "\u001b[?25l  Downloading https://pytorch-geometric.com/whl/torch-1.7.0/torch_cluster-latest%2Bcu101-cp36-cp36m-linux_x86_64.whl (21.5MB)\n",
            "\u001b[K     |████████████████████████████████| 21.5MB 1.2MB/s \n",
            "\u001b[?25hInstalling collected packages: torch-cluster\n",
            "Successfully installed torch-cluster-1.5.8\n",
            "Looking in links: https://pytorch-geometric.com/whl/torch-1.7.0.html\n",
            "Collecting torch-spline-conv==latest+cu101\n",
            "\u001b[?25l  Downloading https://pytorch-geometric.com/whl/torch-1.7.0/torch_spline_conv-latest%2Bcu101-cp36-cp36m-linux_x86_64.whl (6.4MB)\n",
            "\u001b[K     |████████████████████████████████| 6.4MB 10.6MB/s \n",
            "\u001b[?25hInstalling collected packages: torch-spline-conv\n",
            "Successfully installed torch-spline-conv-1.2.0\n",
            "Collecting torch-geometric\n",
            "\u001b[?25l  Downloading https://files.pythonhosted.org/packages/59/5c/3e95b76321fb14f24cc2ace392075717f645c4632e796ee0db1bc7d17231/torch_geometric-1.6.3.tar.gz (186kB)\n",
            "\u001b[K     |████████████████████████████████| 194kB 9.1MB/s \n",
            "\u001b[?25hRequirement already satisfied: torch in /usr/local/lib/python3.6/dist-packages (from torch-geometric) (1.7.0+cu101)\n",
            "Requirement already satisfied: numpy in /usr/local/lib/python3.6/dist-packages (from torch-geometric) (1.19.5)\n",
            "Requirement already satisfied: tqdm in /usr/local/lib/python3.6/dist-packages (from torch-geometric) (4.41.1)\n",
            "Requirement already satisfied: scipy in /usr/local/lib/python3.6/dist-packages (from torch-geometric) (1.4.1)\n",
            "Requirement already satisfied: networkx in /usr/local/lib/python3.6/dist-packages (from torch-geometric) (2.5)\n",
            "Requirement already satisfied: python-louvain in /usr/local/lib/python3.6/dist-packages (from torch-geometric) (0.15)\n",
            "Requirement already satisfied: scikit-learn in /usr/local/lib/python3.6/dist-packages (from torch-geometric) (0.22.2.post1)\n",
            "Requirement already satisfied: numba in /usr/local/lib/python3.6/dist-packages (from torch-geometric) (0.51.2)\n",
            "Requirement already satisfied: requests in /usr/local/lib/python3.6/dist-packages (from torch-geometric) (2.23.0)\n",
            "Requirement already satisfied: pandas in /usr/local/lib/python3.6/dist-packages (from torch-geometric) (1.1.5)\n",
            "Collecting rdflib\n",
            "\u001b[?25l  Downloading https://files.pythonhosted.org/packages/d0/6b/6454aa1db753c0f8bc265a5bd5c10b5721a4bb24160fb4faf758cf6be8a1/rdflib-5.0.0-py3-none-any.whl (231kB)\n",
            "\u001b[K     |████████████████████████████████| 235kB 17.1MB/s \n",
            "\u001b[?25hRequirement already satisfied: h5py in /usr/local/lib/python3.6/dist-packages (from torch-geometric) (2.10.0)\n",
            "Requirement already satisfied: googledrivedownloader in /usr/local/lib/python3.6/dist-packages (from torch-geometric) (0.4)\n",
            "Collecting ase\n",
            "\u001b[?25l  Downloading https://files.pythonhosted.org/packages/a5/36/de17e79f29e06d9a92746d0dd9ec4636487ab03f6af10e78586aae533f7a/ase-3.21.1-py3-none-any.whl (2.2MB)\n",
            "\u001b[K     |████████████████████████████████| 2.2MB 18.0MB/s \n",
            "\u001b[?25hRequirement already satisfied: jinja2 in /usr/local/lib/python3.6/dist-packages (from torch-geometric) (2.11.2)\n",
            "Requirement already satisfied: future in /usr/local/lib/python3.6/dist-packages (from torch->torch-geometric) (0.16.0)\n",
            "Requirement already satisfied: typing-extensions in /usr/local/lib/python3.6/dist-packages (from torch->torch-geometric) (3.7.4.3)\n",
            "Requirement already satisfied: dataclasses in /usr/local/lib/python3.6/dist-packages (from torch->torch-geometric) (0.8)\n",
            "Requirement already satisfied: decorator>=4.3.0 in /usr/local/lib/python3.6/dist-packages (from networkx->torch-geometric) (4.4.2)\n",
            "Requirement already satisfied: joblib>=0.11 in /usr/local/lib/python3.6/dist-packages (from scikit-learn->torch-geometric) (1.0.0)\n",
            "Requirement already satisfied: setuptools in /usr/local/lib/python3.6/dist-packages (from numba->torch-geometric) (51.3.3)\n",
            "Requirement already satisfied: llvmlite<0.35,>=0.34.0.dev0 in /usr/local/lib/python3.6/dist-packages (from numba->torch-geometric) (0.34.0)\n",
            "Requirement already satisfied: urllib3!=1.25.0,!=1.25.1,<1.26,>=1.21.1 in /usr/local/lib/python3.6/dist-packages (from requests->torch-geometric) (1.24.3)\n",
            "Requirement already satisfied: idna<3,>=2.5 in /usr/local/lib/python3.6/dist-packages (from requests->torch-geometric) (2.10)\n",
            "Requirement already satisfied: chardet<4,>=3.0.2 in /usr/local/lib/python3.6/dist-packages (from requests->torch-geometric) (3.0.4)\n",
            "Requirement already satisfied: certifi>=2017.4.17 in /usr/local/lib/python3.6/dist-packages (from requests->torch-geometric) (2020.12.5)\n",
            "Requirement already satisfied: python-dateutil>=2.7.3 in /usr/local/lib/python3.6/dist-packages (from pandas->torch-geometric) (2.8.1)\n",
            "Requirement already satisfied: pytz>=2017.2 in /usr/local/lib/python3.6/dist-packages (from pandas->torch-geometric) (2018.9)\n",
            "Requirement already satisfied: pyparsing in /usr/local/lib/python3.6/dist-packages (from rdflib->torch-geometric) (2.4.7)\n",
            "Requirement already satisfied: six in /usr/local/lib/python3.6/dist-packages (from rdflib->torch-geometric) (1.15.0)\n",
            "Collecting isodate\n",
            "\u001b[?25l  Downloading https://files.pythonhosted.org/packages/9b/9f/b36f7774ff5ea8e428fdcfc4bb332c39ee5b9362ddd3d40d9516a55221b2/isodate-0.6.0-py2.py3-none-any.whl (45kB)\n",
            "\u001b[K     |████████████████████████████████| 51kB 57.4MB/s \n",
            "\u001b[?25hRequirement already satisfied: matplotlib>=2.0.0 in /usr/local/lib/python3.6/dist-packages (from ase->torch-geometric) (3.2.2)\n",
            "Requirement already satisfied: MarkupSafe>=0.23 in /usr/local/lib/python3.6/dist-packages (from jinja2->torch-geometric) (1.1.1)\n",
            "Requirement already satisfied: cycler>=0.10 in /usr/local/lib/python3.6/dist-packages (from matplotlib>=2.0.0->ase->torch-geometric) (0.10.0)\n",
            "Requirement already satisfied: kiwisolver>=1.0.1 in /usr/local/lib/python3.6/dist-packages (from matplotlib>=2.0.0->ase->torch-geometric) (1.3.1)\n",
            "Building wheels for collected packages: torch-geometric\n",
            "  Building wheel for torch-geometric (setup.py) ... \u001b[?25l\u001b[?25hdone\n",
            "  Created wheel for torch-geometric: filename=torch_geometric-1.6.3-cp36-none-any.whl size=322720 sha256=abb3c93d0afa76530ffc4602e7a0967e3f9bef97a956a5995eb63252b43cf65a\n",
            "  Stored in directory: /tmp/pip-ephem-wheel-cache-qpfttqb2/wheels/6d/47/1e/0af8ce3e21783c3e584c22502011a3367c091694eebc50a971\n",
            "Successfully built torch-geometric\n",
            "Installing collected packages: isodate, rdflib, ase, torch-geometric\n",
            "Successfully installed ase-3.21.1 isodate-0.6.0 rdflib-5.0.0 torch-geometric-1.6.3\n",
            "Collecting pybind11\n",
            "\u001b[?25l  Downloading https://files.pythonhosted.org/packages/8d/43/7339dbabbc2793718d59703aace4166f53c29ee1c202f6ff5bf8a26c4d91/pybind11-2.6.2-py2.py3-none-any.whl (191kB)\n",
            "\u001b[K     |████████████████████████████████| 194kB 8.9MB/s \n",
            "\u001b[?25hInstalling collected packages: pybind11\n",
            "Successfully installed pybind11-2.6.2\n",
            "Reading package lists... Done\n",
            "Building dependency tree       \n",
            "Reading state information... Done\n",
            "Suggested packages:\n",
            "  libeigen3-doc libmrpt-dev\n",
            "The following NEW packages will be installed:\n",
            "  libeigen3-dev\n",
            "0 upgraded, 1 newly installed, 0 to remove and 13 not upgraded.\n",
            "Need to get 810 kB of archives.\n",
            "After this operation, 7,128 kB of additional disk space will be used.\n",
            "Get:1 http://archive.ubuntu.com/ubuntu bionic/universe amd64 libeigen3-dev all 3.3.4-4 [810 kB]\n",
            "Fetched 810 kB in 1s (721 kB/s)\n",
            "debconf: unable to initialize frontend: Dialog\n",
            "debconf: (No usable dialog-like program is installed, so the dialog based frontend cannot be used. at /usr/share/perl5/Debconf/FrontEnd/Dialog.pm line 76, <> line 1.)\n",
            "debconf: falling back to frontend: Readline\n",
            "debconf: unable to initialize frontend: Readline\n",
            "debconf: (This frontend requires a controlling tty.)\n",
            "debconf: falling back to frontend: Teletype\n",
            "dpkg-preconfigure: unable to re-open stdin: \n",
            "Selecting previously unselected package libeigen3-dev.\n",
            "(Reading database ... 146374 files and directories currently installed.)\n",
            "Preparing to unpack .../libeigen3-dev_3.3.4-4_all.deb ...\n",
            "Unpacking libeigen3-dev (3.3.4-4) ...\n",
            "Setting up libeigen3-dev (3.3.4-4) ...\n",
            "/\n",
            "/content/tudataset/tud_benchmark/kernel_baselines\n",
            "kernel_baselines.cpp  src\n",
            "/content/tudataset/tud_benchmark\n"
          ],
          "name": "stdout"
        }
      ]
    },
    {
      "cell_type": "markdown",
      "metadata": {
        "id": "MS7OngsMJWoc"
      },
      "source": [
        "Handling the imports"
      ]
    },
    {
      "cell_type": "code",
      "metadata": {
        "id": "AoRwoineHDJH"
      },
      "source": [
        "import os\n",
        "import torch\n",
        "import numpy as np\n",
        "import kernel_baselines as kb\n",
        "import auxiliarymethods\n",
        "from auxiliarymethods import datasets as dp\n",
        "from scipy.sparse import save_npz\n",
        "from scipy.sparse import load_npz\n",
        "from scipy.sparse import csr_matrix\n",
        "from auxiliarymethods import auxiliary_methods as aux\n",
        "from auxiliarymethods import kernel_evaluation as ke\n",
        "from auxiliarymethods.reader import tud_to_networkx\n",
        "from matplotlib import pyplot as plt\n",
        "import networkx as nx\n",
        "from collections import defaultdict\n",
        "from pprint import pprint\n",
        "import random\n",
        "import pandas as pd\n",
        "import warnings\n",
        "# warnings.filterwarnings('ignore')\n",
        "warnings.filterwarnings(action='once')"
      ],
      "execution_count": 2,
      "outputs": []
    },
    {
      "cell_type": "markdown",
      "metadata": {
        "id": "uwmqckiVJeIW"
      },
      "source": [
        "Utility methods for data loading and graph visualization\n",
        "\n"
      ]
    },
    {
      "cell_type": "code",
      "metadata": {
        "id": "bhC2FBkDJpSz"
      },
      "source": [
        "def setup_directory(dir_name, verbose=False):\n",
        "    \"\"\"\n",
        "    Setup directory in case it does not exist\n",
        "    Parameters:\n",
        "    -------------\n",
        "    dir_name: str, path + name to directory\n",
        "    verbose: bool, indicates whether directory creation should be printed or not.\n",
        "    \"\"\"\n",
        "    if not os.path.exists(dir_name):\n",
        "        try:\n",
        "            os.makedirs(dir_name)\n",
        "            if verbose:\n",
        "                print(\"Created Directory: {}\".format(dir_name))\n",
        "        except Exception as e:\n",
        "            raise RuntimeError(\n",
        "                \"Could not create directory: {}\\n {}\".format(dir_name, e))\n",
        "\n",
        "\n",
        "def load_csv(path):\n",
        "    return np.loadtxt(path, delimiter=\";\")\n",
        "\n",
        "\n",
        "def load_sparse(path):\n",
        "    return load_npz(path)\n",
        "\n",
        "\n",
        "def select_from_list(l, indices):\n",
        "    return [l[i] for i in indices]\n",
        "\n",
        "\n",
        "def visualize(G, color=None, figsize=(5,5)):\n",
        "    plt.figure(figsize=figsize)\n",
        "    plt.xticks([])\n",
        "    plt.yticks([])\n",
        "    nx.draw_networkx(G, \n",
        "                     pos=nx.spring_layout(G, seed=42),\n",
        "                     with_labels=True,\n",
        "                     node_color=color,\n",
        "                     cmap=\"Set2\")\n",
        "    plt.show()\n",
        "\n",
        "\n",
        "def find_keys_with_condition(data, cond):\n",
        "    return list(filter(lambda x: cond in x, data.keys()))\n",
        "\n",
        "\n",
        "def load_data():\n",
        "  result = {}\n",
        "  extensions = ['csv', 'npz']\n",
        "  types = ['gram_matrix', 'vectors']\n",
        "  algos = ['wl1', 'wl2', 'wl3', 'wl4', 'wl5', 'wl6', 'wl7', 'wl8', 'shortestpath', 'graphlet']\n",
        "  base_name = '/content/tudataset/tud_benchmark/kernels/node_labels/ENZYMES_{0}_{1}.{2}'\n",
        "\n",
        "  for t, e in zip(types, extensions):\n",
        "    result[t] = {}\n",
        "    for a in algos:\n",
        "      algo_name = 'wl' if 'wl' in a else a\n",
        "\n",
        "      if algo_name not in result[t].keys():\n",
        "        result[t][algo_name] = []\n",
        "\n",
        "      file_name = base_name.format(t, a, e)\n",
        "\n",
        "      if e == 'csv':\n",
        "        f = np.loadtxt(file_name, delimiter=';')\n",
        "      else:\n",
        "        f = load_npz(file_name)\n",
        "      \n",
        "      result[t][algo_name].append(f)\n",
        "  return result\n"
      ],
      "execution_count": 3,
      "outputs": []
    },
    {
      "cell_type": "markdown",
      "metadata": {
        "id": "EAS0rLRRNgBS"
      },
      "source": [
        "Build the gram matrices"
      ]
    },
    {
      "cell_type": "code",
      "metadata": {
        "id": "k3ryiY-xNbrP",
        "outputId": "5bd4ae45-7b96-47af-e292-0018c108aa81",
        "colab": {
          "base_uri": "https://localhost:8080/"
        }
      },
      "source": [
        "use_edge_labels = False\n",
        "for USE_LABELS in [True, False]:\n",
        "    for dataset, use_labels in [[\"ENZYMES\", USE_LABELS]]:\n",
        "        if use_labels:\n",
        "            base_path = os.path.join(\"kernels\",\"node_labels\")\n",
        "        else:\n",
        "            base_path = os.path.join(\"kernels\",\"without_labels\")\n",
        "        setup_directory(base_path)\n",
        "        print(\"Start processing data set \", dataset)\n",
        "\n",
        "        # Download dataset.\n",
        "        classes = dp.get_dataset(dataset)\n",
        "\n",
        "        # *Weisfeihler-Lehman*\n",
        "        print(\"Start computing Weisfeihler-Lehman gram matrix and vector representations\")\n",
        "        iterations = 9\n",
        "        #0 taking just the nodelabels themselves into account; \n",
        "        #1 considers nearest-neighbours, 2 one layer deeper and so on\n",
        "        for i in range(1, iterations):\n",
        "            print(\"Start iteration \", i)\n",
        "            #Gram Matrix for the Weisfeiler-Lehman subtree kernel\n",
        "            gram_matrix_wl = kb.compute_wl_1_dense(dataset, i, use_labels, use_edge_labels)\n",
        "            np.savetxt(os.path.join(base_path,f\"{dataset}_gram_matrix_wl{i}.csv\"),\n",
        "                    gram_matrix_wl,\n",
        "                    delimiter=\";\")\n",
        "            #Sparse Vectors for the Weisfeiler-Lehmann subtree kernel\n",
        "            vectors_wl = kb.compute_wl_1_sparse(dataset, i, use_labels, use_edge_labels)\n",
        "            save_npz(os.path.join(base_path,f\"{dataset}_vectors_wl{i}.npz\"),\n",
        "                    vectors_wl, compressed=True)\n",
        "\n",
        "        # *Graphlet kernel*\n",
        "        print(\"Start computing Graphlet gram matrix\")\n",
        "\n",
        "        #Gram Matrix for the Graphlet kernel\n",
        "        gram_matrix_graphlet= kb.compute_graphlet_dense(dataset, use_labels, use_edge_labels)\n",
        "        np.savetxt(os.path.join(base_path,f\"{dataset}_gram_matrix_graphlet.csv\"),\n",
        "                gram_matrix_graphlet,\n",
        "                delimiter=\";\")\n",
        "\n",
        "        print(\"Start computing Graphlet vector representation\")\n",
        "        #Sparse Vectors for the Graphlet kernel\n",
        "        vectors_graphlet = kb.compute_graphlet_sparse(dataset, use_labels, use_edge_labels)\n",
        "        save_npz(os.path.join(base_path,f\"{dataset}_vectors_graphlet.npz\"),\n",
        "                vectors_graphlet, compressed=True)\n",
        "\n",
        "\n",
        "        print(\"Start computing Shortest path gram matrix\")\n",
        "\n",
        "        #Gram Matrix for the Shortest path kernel\n",
        "        gram_matrix_shortestpath = kb.compute_shortestpath_dense(dataset, use_labels)\n",
        "        np.savetxt(os.path.join(base_path,f\"{dataset}_gram_matrix_shortestpath.csv\"),\n",
        "                gram_matrix_shortestpath,\n",
        "                delimiter=\";\")\n",
        "\n",
        "        print(\"Start computing Shortest path vector representation\")\n",
        "\n",
        "        #Sparse Vectors for the Shortest path kernel\n",
        "        vectors_shortestpath = kb.compute_shortestpath_sparse(dataset, use_labels)\n",
        "        save_npz(os.path.join(base_path,f\"{dataset}_vectors_shortestpath.npz\"),\n",
        "                vectors_shortestpath, compressed=True)\n"
      ],
      "execution_count": 4,
      "outputs": [
        {
          "output_type": "stream",
          "text": [
            "Start processing data set  ENZYMES\n",
            "Downloading https://www.chrsmrrs.com/graphkerneldatasets/ENZYMES.zip\n",
            "Extracting /content/tudataset/tud_benchmark/datasets/ENZYMES/ENZYMES/ENZYMES.zip\n",
            "Processing...\n",
            "Done!\n",
            "Start computing Weisfeihler-Lehman gram matrix and vector representations\n",
            "Start iteration  1\n",
            "Start iteration  2\n",
            "Start iteration  3\n",
            "Start iteration  4\n",
            "Start iteration  5\n",
            "Start iteration  6\n",
            "Start iteration  7\n",
            "Start iteration  8\n",
            "Start computing Graphlet gram matrix\n",
            "Start computing Graphlet vector representation\n",
            "Start computing Shortest path gram matrix\n",
            "Start computing Shortest path vector representation\n",
            "Start processing data set  ENZYMES\n",
            "Start computing Weisfeihler-Lehman gram matrix and vector representations\n",
            "Start iteration  1\n",
            "Start iteration  2\n",
            "Start iteration  3\n",
            "Start iteration  4\n",
            "Start iteration  5\n",
            "Start iteration  6\n",
            "Start iteration  7\n",
            "Start iteration  8\n",
            "Start computing Graphlet gram matrix\n",
            "Start computing Graphlet vector representation\n",
            "Start computing Shortest path gram matrix\n",
            "Start computing Shortest path vector representation\n"
          ],
          "name": "stdout"
        }
      ]
    },
    {
      "cell_type": "markdown",
      "metadata": {
        "id": "FmEVesXtKES3"
      },
      "source": [
        "Loading the data and previewing the format"
      ]
    },
    {
      "cell_type": "code",
      "metadata": {
        "id": "0LWP4S1YKLl_",
        "outputId": "e1f6ad1b-48ee-47da-c635-6d307c3f66f9",
        "colab": {
          "base_uri": "https://localhost:8080/"
        }
      },
      "source": [
        "base_path = os.path.join(\"kernels\", \"node_labels\")\n",
        "ds_name = \"ENZYMES\"\n",
        "classes = dp.get_dataset(ds_name)\n",
        "G = tud_to_networkx(ds_name)\n",
        "print(f\"Number of graphs in data set is {len(G)}\")\n",
        "print(f\"Number of classes {len(set(classes.tolist()))}\")"
      ],
      "execution_count": 5,
      "outputs": [
        {
          "output_type": "stream",
          "text": [
            "Number of graphs in data set is 600\n",
            "Number of classes 6\n"
          ],
          "name": "stdout"
        }
      ]
    },
    {
      "cell_type": "code",
      "metadata": {
        "id": "LbUA5JnVKsbj",
        "outputId": "783d8e9d-e0de-4d26-8052-f16f19471525",
        "colab": {
          "base_uri": "https://localhost:8080/",
          "height": 303
        }
      },
      "source": [
        "visualize(G[0])"
      ],
      "execution_count": 6,
      "outputs": [
        {
          "output_type": "display_data",
          "data": {
            "image/png": "[encoded data removed]",
            "text/plain": [
              "<Figure size 360x360 with 1 Axes>"
            ]
          },
          "metadata": {
            "tags": []
          }
        }
      ]
    },
    {
      "cell_type": "markdown",
      "metadata": {
        "id": "ynl8E96uLtzA"
      },
      "source": [
        "Load the entire dataset of the gram matrices from the base kernels\n"
      ]
    },
    {
      "cell_type": "code",
      "metadata": {
        "id": "wUfFrJR7LtSW"
      },
      "source": [
        "data = load_data()"
      ],
      "execution_count": 7,
      "outputs": []
    },
    {
      "cell_type": "markdown",
      "metadata": {
        "id": "p4pVqbaaOhFD"
      },
      "source": [
        "## Kernel evaluation"
      ]
    },
    {
      "cell_type": "code",
      "metadata": {
        "id": "65UKGN93OsNc"
      },
      "source": [
        "def eval_kernel(kernel, classes, mode, n_reps=10, all_std=True):\n",
        "  normalized = []\n",
        "  print(f'Starting normalization of {len(kernel)} elements...')\n",
        "  for array in kernel:\n",
        "    if mode == 'LINEAR':\n",
        "      normalized.append(aux.normalize_feature_vector(array))\n",
        "    else:\n",
        "      normalized.append(aux.normalize_gram_matrix(array))\n",
        "  print(f'Normalization finished, starting {mode} SVM...')\n",
        "  if mode == 'LINEAR':\n",
        "    return ke.linear_svm_evaluation(normalized, classes, num_repetitions=n_reps, all_std=all_std)\n",
        "  return ke.kernel_svm_evaluation(normalized, classes, num_repetitions=n_reps, all_std=all_std)\n",
        "\n",
        "\n",
        "def eval_all(data):\n",
        "  classes = dp.get_dataset('ENZYMES')\n",
        "  result = {}\n",
        "  for data_type in data.keys():\n",
        "    mode = 'LINEAR' if data_type == 'vectors' else 'KERNEL'\n",
        "    result[data_type] = {}\n",
        "    print('MODE:', mode)\n",
        "    for kernel in data[data_type]:\n",
        "      print(f'\\nEvaluating {kernel} SVM...')\n",
        "      result[data_type][kernel] = eval_kernel(data[data_type][kernel], classes, mode)\n",
        "      print(f'{data_type}-{kernel} : {result[data_type][kernel]}')\n",
        "  return result"
      ],
      "execution_count": 9,
      "outputs": []
    },
    {
      "cell_type": "markdown",
      "metadata": {
        "id": "HIN7a_QtOob2"
      },
      "source": [
        "### Baseline kernels"
      ]
    },
    {
      "cell_type": "code",
      "metadata": {
        "id": "Zvlfu_GGO7Nv",
        "outputId": "4d9afeac-a114-4abd-ea7a-06e604b2277e",
        "colab": {
          "base_uri": "https://localhost:8080/"
        }
      },
      "source": [
        "results = eval_all(data)"
      ],
      "execution_count": null,
      "outputs": [
        {
          "output_type": "stream",
          "text": [
            "MODE: KERNEL\n",
            "\n",
            "Evaluating wl SVM...\n",
            "Starting normalization of 8 elements...\n",
            "Normalization finished, starting KERNEL SVM...\n",
            "gram_matrix-wl : (50.08333333333333, 2.187400791401114, 7.289166237948236)\n",
            "\n",
            "Evaluating shortestpath SVM...\n",
            "Starting normalization of 1 elements...\n",
            "Normalization finished, starting KERNEL SVM...\n",
            "gram_matrix-shortestpath : (39.88333333333333, 1.2088791870525735, 5.638434573926034)\n",
            "\n",
            "Evaluating graphlet SVM...\n",
            "Starting normalization of 1 elements...\n",
            "Normalization finished, starting KERNEL SVM...\n",
            "gram_matrix-graphlet : (29.81666666666667, 0.9263128821060183, 5.238187769745479)\n",
            "MODE: LINEAR\n",
            "\n",
            "Evaluating wl SVM...\n",
            "Starting normalization of 8 elements...\n",
            "Normalization finished, starting LINEAR SVM...\n"
          ],
          "name": "stdout"
        }
      ]
    }
  ]
}