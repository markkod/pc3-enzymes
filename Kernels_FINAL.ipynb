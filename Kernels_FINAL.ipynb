{
  "nbformat": 4,
  "nbformat_minor": 0,
  "metadata": {
    "colab": {
      "name": "Kernels_FINAL.ipynb",
      "provenance": [],
      "toc_visible": true,
      "include_colab_link": true
    },
    "kernelspec": {
      "name": "python3",
      "display_name": "Python 3"
    },
    "accelerator": "GPU"
  },
  "cells": [
    {
      "cell_type": "markdown",
      "metadata": {
        "id": "view-in-github",
        "colab_type": "text"
      },
      "source": [
        "<a href=\"https://colab.research.google.com/github/markkod/pc3-enzymes/blob/exploratory_da/Kernels_FINAL.ipynb\" target=\"_parent\"><img src=\"https://colab.research.google.com/assets/colab-badge.svg\" alt=\"Open In Colab\"/></a>"
      ]
    },
    {
      "cell_type": "markdown",
      "metadata": {
        "id": "RnbmnpHyDxom"
      },
      "source": [
        "# Exploratory data analysis\n",
        "## Group 8\n",
        "#### Graph Property Prediction"
      ]
    },
    {
      "cell_type": "markdown",
      "metadata": {
        "id": "WeBczudgHyU_"
      },
      "source": [
        "\n",
        "\n",
        "## Setup\n",
        "\n"
      ]
    },
    {
      "cell_type": "markdown",
      "metadata": {
        "id": "NXX7OPS4H3ma"
      },
      "source": [
        "Cloning the git repo, installing matching pytorch addons, building C++ bindings"
      ]
    },
    {
      "cell_type": "code",
      "metadata": {
        "collapsed": true,
        "colab": {
          "base_uri": "https://localhost:8080/"
        },
        "id": "rl4J7ZT8FQ3i",
        "outputId": "ce22275c-f120-466e-d0b1-5c50e8f76748"
      },
      "source": [
        "# %%capture output\n",
        "\n",
        "# Script to generate variations of the kernels yourself\n",
        "# https://ucloud.univie.ac.at/index.php/s/E3YKph0jkpbw8TN\n",
        "\n",
        "\n",
        "# #Download the TUDataset Repository with\n",
        "!git clone https://github.com/chrsmrrs/tudataset.git\n",
        "# #move this script to tudataset/tud_benchmark\n",
        "\n",
        "# Make sure that the matching version of torch is used\n",
        "import torch\n",
        "version = torch.__version__.split('+')[0]\n",
        "\n",
        "# #Install pytorch geometric: https://pytorch-geometric.readthedocs.io/en/latest/notes/installation.html\n",
        "# #Here is the gpu cuda installation, for the cpu version replace cu102 with cpu\n",
        "%pip --no-cache-dir install torch-scatter==latest+cu101 -f https://pytorch-geometric.com/whl/torch-{version}.html\n",
        "%pip --no-cache-dir install torch-sparse==latest+cu101 -f https://pytorch-geometric.com/whl/torch-{version}.html\n",
        "%pip --no-cache-dir install torch-cluster==latest+cu101 -f https://pytorch-geometric.com/whl/torch-{version}.html\n",
        "%pip --no-cache-dir install torch-spline-conv==latest+cu101 -f https://pytorch-geometric.com/whl/torch-{version}.html\n",
        "%pip --no-cache-dir install torch-geometric\n",
        "\n",
        "%pip --no-cache-dir install pybind11\n",
        "!sudo apt-get install libeigen3-dev\n",
        "\n",
        "%cd ..\n",
        "%cd /content/tudataset/tud_benchmark/kernel_baselines/\n",
        "! ls\n",
        "! g++ -I /usr/include/eigen3 -O3 -shared -std=c++11 -fPIC `python3 -m pybind11 --includes`  kernel_baselines.cpp src/*cpp -o ../kernel_baselines`python3-config --extension-suffix`\n",
        "%cd .."
      ],
      "execution_count": 3,
      "outputs": [
        {
          "output_type": "stream",
          "text": [
            "fatal: destination path 'tudataset' already exists and is not an empty directory.\n",
            "Looking in links: https://pytorch-geometric.com/whl/torch-1.7.0.html\n",
            "Collecting torch-scatter==latest+cu101\n",
            "\u001b[?25l  Downloading https://pytorch-geometric.com/whl/torch-1.7.0/torch_scatter-latest%2Bcu101-cp36-cp36m-linux_x86_64.whl (11.9MB)\n",
            "\u001b[K     |████████████████████████████████| 11.9MB 39.9MB/s \n",
            "\u001b[?25hInstalling collected packages: torch-scatter\n",
            "  Found existing installation: torch-scatter 2.0.5\n",
            "    Uninstalling torch-scatter-2.0.5:\n",
            "      Successfully uninstalled torch-scatter-2.0.5\n",
            "Successfully installed torch-scatter-2.0.5\n",
            "Looking in links: https://pytorch-geometric.com/whl/torch-1.7.0.html\n",
            "Collecting torch-sparse==latest+cu101\n",
            "\u001b[?25l  Downloading https://pytorch-geometric.com/whl/torch-1.7.0/torch_sparse-latest%2Bcu101-cp36-cp36m-linux_x86_64.whl (24.3MB)\n",
            "\u001b[K     |████████████████████████████████| 24.3MB 1.2MB/s \n",
            "\u001b[?25hRequirement already satisfied: scipy in /usr/local/lib/python3.6/dist-packages (from torch-sparse==latest+cu101) (1.4.1)\n",
            "Requirement already satisfied: numpy>=1.13.3 in /usr/local/lib/python3.6/dist-packages (from scipy->torch-sparse==latest+cu101) (1.19.5)\n",
            "Installing collected packages: torch-sparse\n",
            "  Found existing installation: torch-sparse 0.6.8\n",
            "    Uninstalling torch-sparse-0.6.8:\n",
            "      Successfully uninstalled torch-sparse-0.6.8\n",
            "Successfully installed torch-sparse-0.6.8\n",
            "Looking in links: https://pytorch-geometric.com/whl/torch-1.7.0.html\n",
            "Collecting torch-cluster==latest+cu101\n",
            "\u001b[?25l  Downloading https://pytorch-geometric.com/whl/torch-1.7.0/torch_cluster-latest%2Bcu101-cp36-cp36m-linux_x86_64.whl (21.5MB)\n",
            "\u001b[K     |████████████████████████████████| 21.5MB 1.2MB/s \n",
            "\u001b[?25hInstalling collected packages: torch-cluster\n",
            "  Found existing installation: torch-cluster 1.5.8\n",
            "    Uninstalling torch-cluster-1.5.8:\n",
            "      Successfully uninstalled torch-cluster-1.5.8\n",
            "Successfully installed torch-cluster-1.5.8\n",
            "Looking in links: https://pytorch-geometric.com/whl/torch-1.7.0.html\n",
            "Collecting torch-spline-conv==latest+cu101\n",
            "\u001b[?25l  Downloading https://pytorch-geometric.com/whl/torch-1.7.0/torch_spline_conv-latest%2Bcu101-cp36-cp36m-linux_x86_64.whl (6.4MB)\n",
            "\u001b[K     |████████████████████████████████| 6.4MB 7.8MB/s \n",
            "\u001b[?25hInstalling collected packages: torch-spline-conv\n",
            "  Found existing installation: torch-spline-conv 1.2.0\n",
            "    Uninstalling torch-spline-conv-1.2.0:\n",
            "      Successfully uninstalled torch-spline-conv-1.2.0\n",
            "Successfully installed torch-spline-conv-1.2.0\n",
            "Requirement already satisfied: torch-geometric in /usr/local/lib/python3.6/dist-packages (1.6.3)\n",
            "Requirement already satisfied: jinja2 in /usr/local/lib/python3.6/dist-packages (from torch-geometric) (2.11.2)\n",
            "Requirement already satisfied: torch in /usr/local/lib/python3.6/dist-packages (from torch-geometric) (1.7.0+cu101)\n",
            "Requirement already satisfied: requests in /usr/local/lib/python3.6/dist-packages (from torch-geometric) (2.23.0)\n",
            "Requirement already satisfied: networkx in /usr/local/lib/python3.6/dist-packages (from torch-geometric) (2.5)\n",
            "Requirement already satisfied: numpy in /usr/local/lib/python3.6/dist-packages (from torch-geometric) (1.19.5)\n",
            "Requirement already satisfied: ase in /usr/local/lib/python3.6/dist-packages (from torch-geometric) (3.21.1)\n",
            "Requirement already satisfied: h5py in /usr/local/lib/python3.6/dist-packages (from torch-geometric) (2.10.0)\n",
            "Requirement already satisfied: tqdm in /usr/local/lib/python3.6/dist-packages (from torch-geometric) (4.41.1)\n",
            "Requirement already satisfied: python-louvain in /usr/local/lib/python3.6/dist-packages (from torch-geometric) (0.15)\n",
            "Requirement already satisfied: pandas in /usr/local/lib/python3.6/dist-packages (from torch-geometric) (1.1.5)\n",
            "Requirement already satisfied: googledrivedownloader in /usr/local/lib/python3.6/dist-packages (from torch-geometric) (0.4)\n",
            "Requirement already satisfied: rdflib in /usr/local/lib/python3.6/dist-packages (from torch-geometric) (5.0.0)\n",
            "Requirement already satisfied: scikit-learn in /usr/local/lib/python3.6/dist-packages (from torch-geometric) (0.22.2.post1)\n",
            "Requirement already satisfied: numba in /usr/local/lib/python3.6/dist-packages (from torch-geometric) (0.51.2)\n",
            "Requirement already satisfied: scipy in /usr/local/lib/python3.6/dist-packages (from torch-geometric) (1.4.1)\n",
            "Requirement already satisfied: MarkupSafe>=0.23 in /usr/local/lib/python3.6/dist-packages (from jinja2->torch-geometric) (1.1.1)\n",
            "Requirement already satisfied: dataclasses in /usr/local/lib/python3.6/dist-packages (from torch->torch-geometric) (0.8)\n",
            "Requirement already satisfied: future in /usr/local/lib/python3.6/dist-packages (from torch->torch-geometric) (0.16.0)\n",
            "Requirement already satisfied: typing-extensions in /usr/local/lib/python3.6/dist-packages (from torch->torch-geometric) (3.7.4.3)\n",
            "Requirement already satisfied: urllib3!=1.25.0,!=1.25.1,<1.26,>=1.21.1 in /usr/local/lib/python3.6/dist-packages (from requests->torch-geometric) (1.24.3)\n",
            "Requirement already satisfied: certifi>=2017.4.17 in /usr/local/lib/python3.6/dist-packages (from requests->torch-geometric) (2020.12.5)\n",
            "Requirement already satisfied: idna<3,>=2.5 in /usr/local/lib/python3.6/dist-packages (from requests->torch-geometric) (2.10)\n",
            "Requirement already satisfied: chardet<4,>=3.0.2 in /usr/local/lib/python3.6/dist-packages (from requests->torch-geometric) (3.0.4)\n",
            "Requirement already satisfied: decorator>=4.3.0 in /usr/local/lib/python3.6/dist-packages (from networkx->torch-geometric) (4.4.2)\n",
            "Requirement already satisfied: matplotlib>=2.0.0 in /usr/local/lib/python3.6/dist-packages (from ase->torch-geometric) (3.2.2)\n",
            "Requirement already satisfied: six in /usr/local/lib/python3.6/dist-packages (from h5py->torch-geometric) (1.15.0)\n",
            "Requirement already satisfied: python-dateutil>=2.7.3 in /usr/local/lib/python3.6/dist-packages (from pandas->torch-geometric) (2.8.1)\n",
            "Requirement already satisfied: pytz>=2017.2 in /usr/local/lib/python3.6/dist-packages (from pandas->torch-geometric) (2018.9)\n",
            "Requirement already satisfied: pyparsing in /usr/local/lib/python3.6/dist-packages (from rdflib->torch-geometric) (2.4.7)\n",
            "Requirement already satisfied: isodate in /usr/local/lib/python3.6/dist-packages (from rdflib->torch-geometric) (0.6.0)\n",
            "Requirement already satisfied: joblib>=0.11 in /usr/local/lib/python3.6/dist-packages (from scikit-learn->torch-geometric) (1.0.0)\n",
            "Requirement already satisfied: setuptools in /usr/local/lib/python3.6/dist-packages (from numba->torch-geometric) (51.3.3)\n",
            "Requirement already satisfied: llvmlite<0.35,>=0.34.0.dev0 in /usr/local/lib/python3.6/dist-packages (from numba->torch-geometric) (0.34.0)\n",
            "Requirement already satisfied: cycler>=0.10 in /usr/local/lib/python3.6/dist-packages (from matplotlib>=2.0.0->ase->torch-geometric) (0.10.0)\n",
            "Requirement already satisfied: kiwisolver>=1.0.1 in /usr/local/lib/python3.6/dist-packages (from matplotlib>=2.0.0->ase->torch-geometric) (1.3.1)\n",
            "Requirement already satisfied: pybind11 in /usr/local/lib/python3.6/dist-packages (2.6.2)\n",
            "Reading package lists... Done\n",
            "Building dependency tree       \n",
            "Reading state information... Done\n",
            "libeigen3-dev is already the newest version (3.3.4-4).\n",
            "0 upgraded, 0 newly installed, 0 to remove and 13 not upgraded.\n",
            "/\n",
            "/content/tudataset/tud_benchmark/kernel_baselines\n",
            "kernel_baselines.cpp  src\n",
            "/content/tudataset/tud_benchmark\n"
          ],
          "name": "stdout"
        }
      ]
    },
    {
      "cell_type": "markdown",
      "metadata": {
        "id": "MS7OngsMJWoc"
      },
      "source": [
        "Handling the imports"
      ]
    },
    {
      "cell_type": "code",
      "metadata": {
        "id": "AoRwoineHDJH"
      },
      "source": [
        "import os\n",
        "import torch\n",
        "import numpy as np\n",
        "import kernel_baselines as kb\n",
        "import auxiliarymethods\n",
        "from auxiliarymethods import datasets as dp\n",
        "from scipy.sparse import save_npz\n",
        "from scipy.sparse import load_npz\n",
        "from scipy.sparse import csr_matrix\n",
        "from auxiliarymethods import auxiliary_methods as aux\n",
        "from auxiliarymethods import kernel_evaluation as ke\n",
        "from auxiliarymethods.reader import tud_to_networkx\n",
        "from matplotlib import pyplot as plt\n",
        "import networkx as nx\n",
        "from collections import defaultdict\n",
        "from pprint import pprint\n",
        "import random\n",
        "import pandas as pd\n",
        "import warnings\n",
        "warnings.filterwarnings('ignore')\n",
        "# warnings.filterwarnings(action='once')"
      ],
      "execution_count": 4,
      "outputs": []
    },
    {
      "cell_type": "markdown",
      "metadata": {
        "id": "uwmqckiVJeIW"
      },
      "source": [
        "Utility methods for data loading and graph visualization\n",
        "\n"
      ]
    },
    {
      "cell_type": "code",
      "metadata": {
        "id": "bhC2FBkDJpSz"
      },
      "source": [
        "def setup_directory(dir_name: str, verbose=False):\n",
        "    \"\"\"Setup directory in case it does not exist.\n",
        "\n",
        "    Args:\n",
        "        dir_name (str): path + name to directory\n",
        "        verbose (bool, optional): Indicates whether directory creation should be printed or not. Defaults to False.\n",
        "\n",
        "    Raises:\n",
        "        RuntimeError:\n",
        "    \"\"\"\n",
        "    if not os.path.exists(dir_name):\n",
        "        try:\n",
        "            os.makedirs(dir_name)\n",
        "            if verbose:\n",
        "                print(\"Created Directory: {}\".format(dir_name))\n",
        "        except Exception as e:\n",
        "            raise RuntimeError(\n",
        "                \"Could not create directory: {}\\n {}\".format(dir_name, e))\n",
        "\n",
        "\n",
        "def load_csv(path: str):\n",
        "    \"\"\"Loads a csv file from a given path.\n",
        "\n",
        "    Args:\n",
        "        path (str): path\n",
        "\n",
        "    Returns:\n",
        "        ndarray: Data read from the text file.\n",
        "    \"\"\"\n",
        "    return np.loadtxt(path, delimiter=\";\")\n",
        "\n",
        "\n",
        "def load_sparse(path: str):\n",
        "    \"\"\"Loads a sparse matrix from a given npz file.\n",
        "\n",
        "    Args:\n",
        "        path (str): path to .npz file\n",
        "\n",
        "    Returns:\n",
        "        csc_matrix, csr_matrix, bsr_matrix, dia_matrix or coo_matrix: A sparse matrix containing the loaded data.\n",
        "    \"\"\"\n",
        "    return load_npz(path)\n",
        "\n",
        "\n",
        "def visualize(G, color=None, figsize=(5,5)):\n",
        "    \"\"\"Visualizes the given graph.\n",
        "\n",
        "    Args:\n",
        "        G (Graph): graph to be visualized\n",
        "        color ([type], optional): color of the graph. Defaults to None.\n",
        "        figsize (tuple, optional): Visualization size. Defaults to (5, 5).\n",
        "    \"\"\"\n",
        "    plt.figure(figsize=figsize)\n",
        "    plt.xticks([])\n",
        "    plt.yticks([])\n",
        "    nx.draw_networkx(G, \n",
        "                     pos=nx.spring_layout(G, seed=42),\n",
        "                     with_labels=True,\n",
        "                     node_color=color,\n",
        "                     cmap=\"Set2\")\n",
        "    plt.show()\n",
        "\n",
        "\n",
        "def find_keys_with_condition(data: dict, cond: str) -> list:\n",
        "    \"\"\"Finds keys in a dictionary that contains the given condition. Keys \n",
        "    have to be strings.\n",
        "\n",
        "    Args:\n",
        "        data (dict): Dictionary to be searched\n",
        "        cond (str): Condition string\n",
        "\n",
        "    Returns:\n",
        "        list: keys that match the condition\n",
        "    \"\"\"\n",
        "    return list(filter(lambda x: cond in x, data.keys()))\n",
        "\n",
        "\n",
        "def load_data() -> dict:\n",
        "  \"\"\"Loads the ENZYMES dataset.\n",
        "\n",
        "    Returns:\n",
        "        dict: dataset\n",
        "    \"\"\"\n",
        "  result = {}\n",
        "  extensions = ['csv', 'npz']\n",
        "  types = ['gram_matrix', 'vectors']\n",
        "  algos = ['wl1', 'wl2', 'wl3', 'wl4', 'wl5', 'wl6', 'wl7', 'wl8', 'shortestpath', 'graphlet']\n",
        "  base_name = '/content/tudataset/tud_benchmark/kernels/node_labels/ENZYMES_{0}_{1}.{2}'\n",
        "\n",
        "  for t, e in zip(types, extensions):\n",
        "    result[t] = {}\n",
        "    for a in algos:\n",
        "      algo_name = 'wl' if 'wl' in a else a\n",
        "\n",
        "      if algo_name not in result[t].keys():\n",
        "        result[t][algo_name] = []\n",
        "\n",
        "      file_name = base_name.format(t, a, e)\n",
        "\n",
        "      if e == 'csv':\n",
        "        f = np.loadtxt(file_name, delimiter=';')\n",
        "      else:\n",
        "        f = load_npz(file_name)\n",
        "      \n",
        "      result[t][algo_name].append(f)\n",
        "  return result\n"
      ],
      "execution_count": 5,
      "outputs": []
    },
    {
      "cell_type": "markdown",
      "metadata": {
        "id": "EAS0rLRRNgBS"
      },
      "source": [
        "Build the gram matrices and vector representations"
      ]
    },
    {
      "cell_type": "code",
      "metadata": {
        "id": "k3ryiY-xNbrP"
      },
      "source": [
        "def get_base_path(use_labels: bool) -> str:\n",
        "    \"\"\"Gets the base path for the kernels based on whether labels are used or not.\n",
        "\n",
        "    Args:\n",
        "        use_labels (bool): Whether to use labels or not.\n",
        "    \"\"\"\n",
        "    if use_labels:\n",
        "      return os.path.join(\"kernels\",\"node_labels\")\n",
        "    else:\n",
        "      return os.path.join(\"kernels\",\"without_labels\")\n",
        "\n",
        "def build_wl(base_path: str, dataset: list, use_labels: bool, use_edge_labels: bool):\n",
        "    \"\"\"Builds the gram matrix and vector representations for the Weisfeiler-Lehman\n",
        "    subtree kernel and saves them respectively as .csv and .npz files.\n",
        "\n",
        "    Args:\n",
        "        base_path (string): location where to save the file\n",
        "        dataset ([Graph]): dataset\n",
        "        use_labels (bool): indicates whether to use labels in the calculation\n",
        "        use_edge_labels (bool): indicates whether to use edge labels in the calculation\n",
        "    \"\"\"\n",
        "    print(\"Start computing Weisfeihler-Lehman gram matrix and vector representations\")\n",
        "    iterations = 9\n",
        "    #0 taking just the nodelabels themselves into account; \n",
        "    #1 considers nearest-neighbours, 2 one layer deeper and so on\n",
        "    for i in range(1, iterations):\n",
        "        print(\"Start iteration \", i)\n",
        "        #Gram Matrix for the Weisfeiler-Lehman subtree kernel\n",
        "        gram_matrix_wl = kb.compute_wl_1_dense(dataset, i, use_labels, use_edge_labels)\n",
        "        np.savetxt(os.path.join(base_path,f\"{dataset}_gram_matrix_wl{i}.csv\"),\n",
        "                gram_matrix_wl,\n",
        "                delimiter=\";\")\n",
        "        #Sparse Vectors for the Weisfeiler-Lehmann subtree kernel\n",
        "        vectors_wl = kb.compute_wl_1_sparse(dataset, i, use_labels, use_edge_labels)\n",
        "        save_npz(os.path.join(base_path,f\"{dataset}_vectors_wl{i}.npz\"),\n",
        "                vectors_wl, compressed=True)\n",
        "\n",
        "\n",
        "def build_graphlet(base_path: str, dataset: list, use_labels: bool, use_edge_labels: bool):\n",
        "    \"\"\"Builds the gram matrix and vector representations for the Graphlet\n",
        "      kernel and saves them respectively as .csv and .npz files.\n",
        "\n",
        "    Args:\n",
        "        base_path (string): location where to save the file\n",
        "        dataset ([Graph]): dataset\n",
        "        use_labels (bool): indicates whether to use labels in the calculation\n",
        "        use_edge_labels (bool): indicates whether to use edge labels in the calculation\n",
        "    \"\"\"\n",
        "    print(\"Start computing Graphlet gram matrix\")\n",
        "    #Gram Matrix for the Graphlet kernel\n",
        "    gram_matrix_graphlet= kb.compute_graphlet_dense(dataset, use_labels, use_edge_labels)\n",
        "    np.savetxt(os.path.join(base_path,f\"{dataset}_gram_matrix_graphlet.csv\"),\n",
        "            gram_matrix_graphlet,\n",
        "            delimiter=\";\")\n",
        "    print(\"Start computing Graphlet vector representation\")\n",
        "    #Sparse Vectors for the Graphlet kernel\n",
        "    vectors_graphlet = kb.compute_graphlet_sparse(dataset, use_labels, use_edge_labels)\n",
        "    save_npz(os.path.join(base_path,f\"{dataset}_vectors_graphlet.npz\"),\n",
        "            vectors_graphlet, compressed=True)\n",
        "\n",
        "\n",
        "def build_shortest_path(base_path: str, dataset: list, use_labels: bool, use_edge_labels: bool):\n",
        "    \"\"\"Builds the gram matrix and vector representations for the Shortest path\n",
        "      kernel and saves them respectively as .csv and .npz files.\n",
        "\n",
        "    Args:\n",
        "        base_path (string): location where to save the file\n",
        "        dataset ([Graph]): dataset\n",
        "        use_labels (bool): indicates whether to use labels in the calculation\n",
        "        use_edge_labels (bool): indicates whether to use edge labels in the calculation\n",
        "    \"\"\"\n",
        "    print(\"Start computing Shortest path gram matrix\")\n",
        "\n",
        "    #Gram Matrix for the Shortest path kernel\n",
        "    gram_matrix_shortestpath = kb.compute_shortestpath_dense(dataset, use_labels)\n",
        "    np.savetxt(os.path.join(base_path,f\"{dataset}_gram_matrix_shortestpath.csv\"),\n",
        "            gram_matrix_shortestpath,\n",
        "            delimiter=\";\")\n",
        "    print(\"Start computing Shortest path vector representation\")\n",
        "    #Sparse Vectors for the Shortest path kernel\n",
        "    vectors_shortestpath = kb.compute_shortestpath_sparse(dataset, use_labels)\n",
        "    save_npz(os.path.join(base_path,f\"{dataset}_vectors_shortestpath.npz\"),\n",
        "            vectors_shortestpath, compressed=True)\n",
        "\n",
        "def build_gram_matrix_and_vector_representations(use_edge_labels=False):\n",
        "    \"\"\"Builds gram matrix and vector represenations of the following\n",
        "    kernels: Weisfeiler-Lehman, Graphlet, Shortest path and saves them to \n",
        "    respective files.\n",
        "\n",
        "    Args:\n",
        "        use_edge_labels (bool, optional): Whether to use the edge labels in the \n",
        "        calculation of the kernel represenations. Defaults to False.\n",
        "    \"\"\"\n",
        "    for USE_LABELS in [True, False]:\n",
        "        for dataset, use_labels in [[\"ENZYMES\", USE_LABELS]]:\n",
        "            base_path = get_base_path(use_labels)\n",
        "            setup_directory(base_path)\n",
        "            print(\"Start processing data set \", dataset)\n",
        "            # Download dataset.\n",
        "            classes = dp.get_dataset(dataset)\n",
        "            # *Weisfeihler-Lehman*\n",
        "            build_wl(base_path, dataset, use_labels, use_edge_labels)\n",
        "            # *Graphlet kernel*\n",
        "            build_graphlet(base_path, dataset, use_labels, use_edge_labels)\n",
        "            # *Shortest path kernel*\n",
        "            build_shortest_path(base_path, dataset, use_labels, use_edge_labels)\n"
      ],
      "execution_count": 6,
      "outputs": []
    },
    {
      "cell_type": "code",
      "metadata": {
        "id": "2Y0BKEEMoSFM",
        "colab": {
          "base_uri": "https://localhost:8080/"
        },
        "outputId": "636d54b6-b6f1-4d3f-dcf2-e42e0a9dab98"
      },
      "source": [
        "build_gram_matrix_and_vector_representations()"
      ],
      "execution_count": 7,
      "outputs": [
        {
          "output_type": "stream",
          "text": [
            "Start processing data set  ENZYMES\n",
            "Start computing Weisfeihler-Lehman gram matrix and vector representations\n",
            "Start iteration  1\n",
            "Start iteration  2\n",
            "Start iteration  3\n",
            "Start iteration  4\n",
            "Start iteration  5\n",
            "Start iteration  6\n",
            "Start iteration  7\n",
            "Start iteration  8\n",
            "Start computing Graphlet gram matrix\n",
            "Start computing Graphlet vector representation\n",
            "Start computing Shortest path gram matrix\n",
            "Start computing Shortest path vector representation\n",
            "Start processing data set  ENZYMES\n",
            "Start computing Weisfeihler-Lehman gram matrix and vector representations\n",
            "Start iteration  1\n",
            "Start iteration  2\n",
            "Start iteration  3\n",
            "Start iteration  4\n",
            "Start iteration  5\n",
            "Start iteration  6\n",
            "Start iteration  7\n",
            "Start iteration  8\n",
            "Start computing Graphlet gram matrix\n",
            "Start computing Graphlet vector representation\n",
            "Start computing Shortest path gram matrix\n",
            "Start computing Shortest path vector representation\n"
          ],
          "name": "stdout"
        }
      ]
    },
    {
      "cell_type": "markdown",
      "metadata": {
        "id": "FmEVesXtKES3"
      },
      "source": [
        "Loading the data and previewing the format"
      ]
    },
    {
      "cell_type": "code",
      "metadata": {
        "colab": {
          "base_uri": "https://localhost:8080/"
        },
        "id": "0LWP4S1YKLl_",
        "outputId": "f235bd90-b403-4727-c037-cd0496cf7f6f"
      },
      "source": [
        "base_path = os.path.join(\"kernels\", \"node_labels\")\n",
        "ds_name = \"ENZYMES\"\n",
        "classes = dp.get_dataset(ds_name)\n",
        "G = tud_to_networkx(ds_name)\n",
        "print(f\"Number of graphs in data set is {len(G)}\")\n",
        "print(f\"Number of classes {len(set(classes.tolist()))}\")"
      ],
      "execution_count": 8,
      "outputs": [
        {
          "output_type": "stream",
          "text": [
            "Number of graphs in data set is 600\n",
            "Number of classes 6\n"
          ],
          "name": "stdout"
        }
      ]
    },
    {
      "cell_type": "code",
      "metadata": {
        "colab": {
          "base_uri": "https://localhost:8080/",
          "height": 303
        },
        "id": "LbUA5JnVKsbj",
        "outputId": "64ce0298-be07-4a54-8586-8a94e22682d0"
      },
      "source": [
        "visualize(G[0])"
      ],
      "execution_count": 9,
      "outputs": [
        {
          "output_type": "display_data",
          "data": {
            "image/png": "[encoded data removed]",
            "text/plain": [
              "<Figure size 360x360 with 1 Axes>"
            ]
          },
          "metadata": {
            "tags": []
          }
        }
      ]
    },
    {
      "cell_type": "markdown",
      "metadata": {
        "id": "ynl8E96uLtzA"
      },
      "source": [
        "Load the entire dataset of the gram matrices from the base kernels\n"
      ]
    },
    {
      "cell_type": "code",
      "metadata": {
        "id": "wUfFrJR7LtSW"
      },
      "source": [
        "data = load_data()"
      ],
      "execution_count": 10,
      "outputs": []
    },
    {
      "cell_type": "markdown",
      "metadata": {
        "id": "p4pVqbaaOhFD"
      },
      "source": [
        "## Kernel evaluation"
      ]
    },
    {
      "cell_type": "code",
      "metadata": {
        "id": "65UKGN93OsNc"
      },
      "source": [
        "def eval_kernel(kernel, classes, mode, n_reps=10, all_std=True):\n",
        "  \"\"\"Evaluates a specific kernel that will be normalized before evaluation.\n",
        "\n",
        "    Args:\n",
        "        kernel ([list]): kernel\n",
        "        classes (list): dataset classes\n",
        "        mode (string): LINEAR | KERNEL\n",
        "        n_reps (int, optional): Number of repetitions. Defaults to 10.\n",
        "        all_std (bool, optional): Standard deviation?. Defaults to True.\n",
        "\n",
        "    Returns:\n",
        "        tuple: evaluation results\n",
        "    \"\"\"\n",
        "  normalized = []\n",
        "  print(f'Starting normalization of {len(kernel)} elements...')\n",
        "  for array in kernel:\n",
        "    if mode == 'LINEAR':\n",
        "      normalized.append(aux.normalize_feature_vector(array))\n",
        "    else:\n",
        "      normalized.append(aux.normalize_gram_matrix(array))\n",
        "  print(f'Normalization finished, starting {mode} SVM...')\n",
        "  if mode == 'LINEAR':\n",
        "    return ke.linear_svm_evaluation(normalized, classes, num_repetitions=n_reps, all_std=all_std)\n",
        "  return ke.kernel_svm_evaluation(normalized, classes, num_repetitions=n_reps, all_std=all_std)\n",
        "\n",
        "\n",
        "def eval_all(data):\n",
        "  \"\"\"Evaluates the kernels on the data.\n",
        "\n",
        "    Args:\n",
        "        data (dict): data\n",
        "\n",
        "    Returns:\n",
        "        dict: results of evaluations, data type -> kernel\n",
        "    \"\"\"\n",
        "  classes = dp.get_dataset('ENZYMES')\n",
        "  result = {}\n",
        "  for data_type in data.keys():\n",
        "    mode = 'LINEAR' if data_type == 'vectors' else 'KERNEL'\n",
        "    result[data_type] = {}\n",
        "    print('MODE:', mode)\n",
        "    for kernel in data[data_type]:\n",
        "      print(f'\\nEvaluating {kernel} SVM...')\n",
        "      result[data_type][kernel] = eval_kernel(data[data_type][kernel], classes, mode)\n",
        "      print(f'{data_type}-{kernel} : {result[data_type][kernel]}')\n",
        "  return result"
      ],
      "execution_count": 11,
      "outputs": []
    },
    {
      "cell_type": "markdown",
      "metadata": {
        "id": "HIN7a_QtOob2"
      },
      "source": [
        "### Baseline kernels"
      ]
    },
    {
      "cell_type": "code",
      "metadata": {
        "colab": {
          "base_uri": "https://localhost:8080/"
        },
        "id": "Zvlfu_GGO7Nv",
        "outputId": "a5da609d-ba35-40c5-f385-edd97340bd3e"
      },
      "source": [
        "results = eval_all(data)"
      ],
      "execution_count": 11,
      "outputs": [
        {
          "output_type": "stream",
          "text": [
            "MODE: KERNEL\n",
            "\n",
            "Evaluating wl SVM...\n",
            "Starting normalization of 8 elements...\n",
            "Normalization finished, starting KERNEL SVM...\n",
            "gram_matrix-wl : (50.96666666666667, 0.9030811456096041, 6.579344783318304)\n",
            "\n",
            "Evaluating shortestpath SVM...\n",
            "Starting normalization of 1 elements...\n",
            "Normalization finished, starting KERNEL SVM...\n",
            "gram_matrix-shortestpath : (41.25, 1.464866319270579, 6.647367900154167)\n",
            "\n",
            "Evaluating graphlet SVM...\n",
            "Starting normalization of 1 elements...\n",
            "Normalization finished, starting KERNEL SVM...\n",
            "gram_matrix-graphlet : (29.48333333333333, 1.4934114562898528, 4.759172430393987)\n",
            "MODE: LINEAR\n",
            "\n",
            "Evaluating wl SVM...\n",
            "Starting normalization of 8 elements...\n",
            "Normalization finished, starting LINEAR SVM...\n",
            "vectors-wl : (51.8, 1.4903392604072092, 6.449289366537474)\n",
            "\n",
            "Evaluating shortestpath SVM...\n",
            "Starting normalization of 1 elements...\n",
            "Normalization finished, starting LINEAR SVM...\n",
            "vectors-shortestpath : (40.56666666666666, 1.7984561280288278, 5.869980124895371)\n",
            "\n",
            "Evaluating graphlet SVM...\n",
            "Starting normalization of 1 elements...\n",
            "Normalization finished, starting LINEAR SVM...\n",
            "vectors-graphlet : (30.1, 1.2342339054382407, 5.73401158778816)\n"
          ],
          "name": "stdout"
        }
      ]
    },
    {
      "cell_type": "code",
      "metadata": {
        "id": "AhAx1w45hYyH"
      },
      "source": [
        "def draw_graph(data1, std1, data2, std2, labels, title, ax_label):\n",
        "  \"\"\"\n",
        "  Draws the bar chart based on data and its standard deviation.\n",
        "\n",
        "  Args:\n",
        "      data1 (list): dataset 1\n",
        "      std1 (list): standard deviations of dataset 1\n",
        "      data2 (list, optional): dataset 2. If present, then it will be displayed alongside data1.\n",
        "      std2 (list, optional): standard deviations of dataset 2\n",
        "      labels (list): labels for the graphs on X-axis\n",
        "      title (str): title of the graph\n",
        "      ax_label (str): label of the Y-axis\n",
        "\n",
        "  \"\"\"\n",
        "  # https://matplotlib.org/examples/api/barchart_demo.html\n",
        "\n",
        "  N = len(labels)\n",
        "  ind = np.arange(N)  # the x locations for the groups\n",
        "  width = 0.35       # the width of the bars\n",
        "\n",
        "  fig, ax = plt.subplots()\n",
        "  rects1 = ax.bar(ind, data1, width * 2 if data2 is None else width, color='r', yerr=std1)\n",
        "  if data2 is not None:\n",
        "    rects2 = ax.bar(ind + width, data2, width, color='y', yerr=std2)\n",
        "\n",
        "  # add some text for labels, title and axes ticks\n",
        "  ax.set_ylabel(ax_label)\n",
        "  ax.set_title(title)\n",
        "  ax.set_xticks(ind + width / 2)\n",
        "  ax.set_xticklabels(labels)\n",
        "\n",
        "  if data2 is not None:\n",
        "    ax.legend((rects1[0], rects2[0]), ('Gram', 'Vector'))\n",
        "\n",
        "\n",
        "  def autolabel(rects):\n",
        "    \"\"\"\n",
        "    Attach a text label above each bar displaying its height\n",
        "    \"\"\"\n",
        "    for rect in rects:\n",
        "      height = rect.get_height()\n",
        "      ax.text(rect.get_x() + rect.get_width() / 2.,\n",
        "              1.05 * height,\n",
        "              '%d' % int(height),\n",
        "              ha='center', va='bottom')\n",
        "\n",
        "  autolabel(rects1)\n",
        "  if data2 is not None:\n",
        "    autolabel(rects2)\n",
        "\n",
        "  plt.show()"
      ],
      "execution_count": 12,
      "outputs": []
    },
    {
      "cell_type": "code",
      "metadata": {
        "id": "HV98IjiehY2r",
        "colab": {
          "base_uri": "https://localhost:8080/",
          "height": 238
        },
        "outputId": "0b19d385-4aab-4b78-f9e4-b408fdcd9dcf"
      },
      "source": [
        "draw_graph(list(x[0] for x in results['gram_matrix'].values()),\n",
        "           list(x[1] for x in results['gram_matrix'].values()),\n",
        "           list(x[0] for x in results['vectors'].values()),\n",
        "           list(x[1] for x in results['vectors'].values()),\n",
        "           list(x for x in results['gram_matrix'].keys()),\n",
        "           'Scores for kernels and modes',\n",
        "           'Evaluation score')"
      ],
      "execution_count": 13,
      "outputs": [
        {
          "output_type": "error",
          "ename": "NameError",
          "evalue": "ignored",
          "traceback": [
            "\u001b[0;31m---------------------------------------------------------------------------\u001b[0m",
            "\u001b[0;31mNameError\u001b[0m                                 Traceback (most recent call last)",
            "\u001b[0;32m<ipython-input-13-2c9bcf3a8275>\u001b[0m in \u001b[0;36m<module>\u001b[0;34m()\u001b[0m\n\u001b[0;32m----> 1\u001b[0;31m draw_graph(list(x[0] for x in results['gram_matrix'].values()),\n\u001b[0m\u001b[1;32m      2\u001b[0m            \u001b[0mlist\u001b[0m\u001b[0;34m(\u001b[0m\u001b[0mx\u001b[0m\u001b[0;34m[\u001b[0m\u001b[0;36m1\u001b[0m\u001b[0;34m]\u001b[0m \u001b[0;32mfor\u001b[0m \u001b[0mx\u001b[0m \u001b[0;32min\u001b[0m \u001b[0mresults\u001b[0m\u001b[0;34m[\u001b[0m\u001b[0;34m'gram_matrix'\u001b[0m\u001b[0;34m]\u001b[0m\u001b[0;34m.\u001b[0m\u001b[0mvalues\u001b[0m\u001b[0;34m(\u001b[0m\u001b[0;34m)\u001b[0m\u001b[0;34m)\u001b[0m\u001b[0;34m,\u001b[0m\u001b[0;34m\u001b[0m\u001b[0;34m\u001b[0m\u001b[0m\n\u001b[1;32m      3\u001b[0m            \u001b[0mlist\u001b[0m\u001b[0;34m(\u001b[0m\u001b[0mx\u001b[0m\u001b[0;34m[\u001b[0m\u001b[0;36m0\u001b[0m\u001b[0;34m]\u001b[0m \u001b[0;32mfor\u001b[0m \u001b[0mx\u001b[0m \u001b[0;32min\u001b[0m \u001b[0mresults\u001b[0m\u001b[0;34m[\u001b[0m\u001b[0;34m'vectors'\u001b[0m\u001b[0;34m]\u001b[0m\u001b[0;34m.\u001b[0m\u001b[0mvalues\u001b[0m\u001b[0;34m(\u001b[0m\u001b[0;34m)\u001b[0m\u001b[0;34m)\u001b[0m\u001b[0;34m,\u001b[0m\u001b[0;34m\u001b[0m\u001b[0;34m\u001b[0m\u001b[0m\n\u001b[1;32m      4\u001b[0m            \u001b[0mlist\u001b[0m\u001b[0;34m(\u001b[0m\u001b[0mx\u001b[0m\u001b[0;34m[\u001b[0m\u001b[0;36m1\u001b[0m\u001b[0;34m]\u001b[0m \u001b[0;32mfor\u001b[0m \u001b[0mx\u001b[0m \u001b[0;32min\u001b[0m \u001b[0mresults\u001b[0m\u001b[0;34m[\u001b[0m\u001b[0;34m'vectors'\u001b[0m\u001b[0;34m]\u001b[0m\u001b[0;34m.\u001b[0m\u001b[0mvalues\u001b[0m\u001b[0;34m(\u001b[0m\u001b[0;34m)\u001b[0m\u001b[0;34m)\u001b[0m\u001b[0;34m,\u001b[0m\u001b[0;34m\u001b[0m\u001b[0;34m\u001b[0m\u001b[0m\n\u001b[1;32m      5\u001b[0m            \u001b[0mlist\u001b[0m\u001b[0;34m(\u001b[0m\u001b[0mx\u001b[0m \u001b[0;32mfor\u001b[0m \u001b[0mx\u001b[0m \u001b[0;32min\u001b[0m \u001b[0mresults\u001b[0m\u001b[0;34m[\u001b[0m\u001b[0;34m'gram_matrix'\u001b[0m\u001b[0;34m]\u001b[0m\u001b[0;34m.\u001b[0m\u001b[0mkeys\u001b[0m\u001b[0;34m(\u001b[0m\u001b[0;34m)\u001b[0m\u001b[0;34m)\u001b[0m\u001b[0;34m,\u001b[0m\u001b[0;34m\u001b[0m\u001b[0;34m\u001b[0m\u001b[0m\n",
            "\u001b[0;31mNameError\u001b[0m: name 'results' is not defined"
          ]
        }
      ]
    },
    {
      "cell_type": "markdown",
      "metadata": {
        "id": "1d5cy1C2bys5"
      },
      "source": [
        "From the results, it's obvious that the best results of all base kernels are achieved using the WL kernel in it's vector shape. We can now compare how does the number of iterations done affect the result"
      ]
    },
    {
      "cell_type": "code",
      "metadata": {
        "id": "TbrTue3IaNFp"
      },
      "source": [
        "wl_results = []\n",
        "for array in data[\"gram_matrix\"][\"wl\"]:\n",
        " normalized = [aux.normalize_gram_matrix(array)]\n",
        " wl_results.append(ke.kernel_svm_evaluation(normalized, classes, num_repetitions=10, all_std=True))"
      ],
      "execution_count": 14,
      "outputs": []
    },
    {
      "cell_type": "code",
      "metadata": {
        "id": "eMoMNvOfgM_N",
        "colab": {
          "base_uri": "https://localhost:8080/",
          "height": 270
        },
        "outputId": "7253ceb9-75d2-4f8d-d002-e7cadf6af1d1"
      },
      "source": [
        "draw_graph(list(x[0] for x in wl_results), list(x[1] for x in wl_results), None, None, list(range(1, 9)), \"\", \"\")"
      ],
      "execution_count": 15,
      "outputs": [
        {
          "output_type": "display_data",
          "data": {
            "image/png": "[encoded data removed]",
            "text/plain": [
              "<Figure size 432x288 with 1 Axes>"
            ]
          },
          "metadata": {
            "tags": [],
            "needs_background": "light"
          }
        }
      ]
    },
    {
      "cell_type": "markdown",
      "metadata": {
        "id": "2muMH26aj1tF"
      },
      "source": [
        "As we can see, past a certain point, a number of *iterations* does not have a big effect on the final score. We setteled on using 2 iterations as that's the first time the highest value is achieved"
      ]
    },
    {
      "cell_type": "markdown",
      "metadata": {
        "id": "6mJLdxCKkMFu"
      },
      "source": [
        "#### Histogram kernel\n",
        "\n",
        "Kernel based on a histogram of the number of nodes in the graph"
      ]
    },
    {
      "cell_type": "code",
      "metadata": {
        "id": "SorMVHY2hKst"
      },
      "source": [
        "# Maximum number of nodes in any of the graphs, used to allocate the vector size\n",
        "max_nodes = max(map(lambda x: x.number_of_nodes(), G))\n",
        "\n",
        "# Uses a sparse matrix since most elements will be 0, every vector will be \n",
        "# padded with zeros until the max size is reached\n",
        "histograms = csr_matrix((len(G), max_nodes))\n",
        "for i, g in enumerate(G):\n",
        "    for n, d in g.degree():\n",
        "        histograms[i, n] = d\n",
        "        \n",
        "# Create gram matrix from feature vectors\n",
        "histogram_gram = histograms @ histograms.T"
      ],
      "execution_count": 16,
      "outputs": []
    },
    {
      "cell_type": "markdown",
      "metadata": {
        "id": "Ok56i0sBkrR7"
      },
      "source": [
        "#### Centrality kernel\n",
        "\n",
        "Kernel based on a the centrality value for each node in the graph"
      ]
    },
    {
      "cell_type": "code",
      "metadata": {
        "id": "zzakMseXkyY-"
      },
      "source": [
        "# Uses a sparse matrix since most elements will be 0, every vector will be \n",
        "# padded with zeros until the max size is reached\n",
        "centrality = csr_matrix((len(G), max_nodes))\n",
        "for i, g in enumerate(G):\n",
        "    for n, d in nx.degree_centrality(g).items():\n",
        "        centrality[i, n] = d\n",
        "\n",
        "# Create gram matrix from feature vectors        \n",
        "centrality_gram = centrality @ centrality.T"
      ],
      "execution_count": 17,
      "outputs": []
    },
    {
      "cell_type": "code",
      "metadata": {
        "id": "Y3L4euJ6lCQi"
      },
      "source": [
        "custom_results = []\n",
        "for array in [histograms, centrality]:\n",
        " normalized = [aux.normalize_feature_vector(array)]\n",
        " custom_results.append(ke.linear_svm_evaluation(normalized, classes, num_repetitions=10, all_std=True))"
      ],
      "execution_count": 18,
      "outputs": []
    },
    {
      "cell_type": "code",
      "metadata": {
        "id": "vLd0Fds7lZnq",
        "colab": {
          "base_uri": "https://localhost:8080/",
          "height": 264
        },
        "outputId": "999cf39e-3114-4ec9-9a09-177bdc756872"
      },
      "source": [
        "draw_graph(list(x[0] for x in custom_results), list(x[1] for x in custom_results), None, None, [\"Histogram\", \"Centrality\"], \"\", \"\")"
      ],
      "execution_count": 19,
      "outputs": [
        {
          "output_type": "display_data",
          "data": {
            "image/png": "[encoded data removed]",
            "text/plain": [
              "<Figure size 432x288 with 1 Axes>"
            ]
          },
          "metadata": {
            "tags": [],
            "needs_background": "light"
          }
        }
      ]
    },
    {
      "cell_type": "code",
      "metadata": {
        "id": "nhkbC5TDlJcu",
        "colab": {
          "base_uri": "https://localhost:8080/"
        },
        "outputId": "c80ec0e4-6a41-449d-90a7-0f3a7801fef2"
      },
      "source": [
        "val_wl_histo = data[\"vectors\"][\"wl\"][2].T.dot(histograms)\n",
        "normalized = [aux.normalize_feature_vector(val_wl_histo)]\n",
        "wfl_histograms_res = ke.linear_svm_evaluation(normalized, classes, num_repetitions=10, all_std=True)\n",
        "print(wfl_histograms_res)"
      ],
      "execution_count": 20,
      "outputs": [
        {
          "output_type": "stream",
          "text": [
            "(42457, 126)\n",
            "(42457, 600)\n",
            "(600, 126)\n",
            "(69.58333333333331, 0.5880759588125751, 5.198156724583566)\n"
          ],
          "name": "stdout"
        }
      ]
    },
    {
      "cell_type": "code",
      "metadata": {
        "id": "MF8TDKtDl-Zl",
        "colab": {
          "base_uri": "https://localhost:8080/"
        },
        "outputId": "ca653e27-405a-4ca2-9385-3a5718dbd401"
      },
      "source": [
        "val_wl_central = data[\"vectors\"][\"wl\"][2].T.dot(centrality)\n",
        "normalized = [aux.normalize_feature_vector(val_wl_central)]\n",
        "wfl_centralized_res = ke.linear_svm_evaluation(normalized, classes, num_repetitions=10, all_std=True)\n",
        "print(wfl_centralized_res)"
      ],
      "execution_count": 21,
      "outputs": [
        {
          "output_type": "stream",
          "text": [
            "(69.53333333333333, 0.7180219742846016, 5.297169055259612)\n"
          ],
          "name": "stdout"
        }
      ]
    },
    {
      "cell_type": "code",
      "metadata": {
        "id": "CSykGQ7zTqnX",
        "colab": {
          "base_uri": "https://localhost:8080/",
          "height": 271
        },
        "outputId": "1a220ef6-09cf-43ee-e063-ecf5f7bbc51d"
      },
      "source": [
        "wl_results = []\r\n",
        "for array in data[\"gram_matrix\"][\"wl\"]:\r\n",
        " normalized = [aux.normalize_gram_matrix(array)]\r\n",
        " wl_results.append(ke.kernel_svm_evaluation(normalized, classes, num_repetitions=10, all_std=True))\r\n",
        "\r\n",
        "draw_graph(list(x[0] for x in wl_results), list(x[1] for x in wl_results), None, None, list(range(1, 9)), \"\", \"\")"
      ],
      "execution_count": 22,
      "outputs": [
        {
          "output_type": "display_data",
          "data": {
            "image/png": "[encoded data removed]",
            "text/plain": [
              "<Figure size 432x288 with 1 Axes>"
            ]
          },
          "metadata": {
            "tags": [],
            "needs_background": "light"
          }
        }
      ]
    },
    {
      "cell_type": "markdown",
      "metadata": {
        "id": "gl9-fEUgVMmR"
      },
      "source": [
        "As we can see, past a certain point, a number of *iterations* does not have a big effect on the final score. We setteled on using 3 iterations for now but might revert this desicion if furhter evaluation states differently."
      ]
    },
    {
      "cell_type": "markdown",
      "metadata": {
        "id": "DMVv7YfcTt2a"
      },
      "source": [
        "### Evaluation\r\n",
        "In the following the conceptualized kernel will be evaluated according to scalability, accuracy and applicability."
      ]
    },
    {
      "cell_type": "markdown",
      "metadata": {
        "id": "Bg9ZCrU5HtP-"
      },
      "source": [
        "#### Scalability"
      ]
    },
    {
      "cell_type": "code",
      "metadata": {
        "id": "NCR4KM8lg3QC"
      },
      "source": [
        "import random\r\n",
        "\r\n",
        "def scalability_shuffle(step_size, variant_vec, wl_vec, G):\r\n",
        "  subset_size = step_size\r\n",
        "  shuffled_G = G\r\n",
        "  \r\n",
        "  random.shuffle(shuffled_G)\r\n",
        "\r\n",
        "  index_value = random.sample(list(enumerate(shuffled_G)), 600)\r\n",
        "  indexes = []\r\n",
        "  values = []\r\n",
        "  for idx, val in index_value:\r\n",
        "    indexes.append(idx)\r\n",
        "    values.append(val)\r\n",
        "\r\n",
        "  wl_results_scalibility = []\r\n",
        "\r\n",
        "  for i in range(int(600 / step_size)):\r\n",
        "    tmp_val = wl_vec[indexes[:subset_size]].T.dot(variant_vec[indexes[:subset_size]])\r\n",
        "    normalized_tmp = [aux.normalize_feature_vector(tmp_val)]\r\n",
        "    tmp_result = ke.linear_svm_evaluation(normalized_tmp, classes, num_repetitions=10, all_std=True)\r\n",
        "    print(tmp_result)\r\n",
        "    wl_results_scalibility.append(tmp_result)\r\n",
        "    print(subset_size)\r\n",
        "    subset_size += step_size\r\n",
        "  return wl_results_scalibility"
      ],
      "execution_count": 23,
      "outputs": []
    },
    {
      "cell_type": "code",
      "metadata": {
        "colab": {
          "base_uri": "https://localhost:8080/"
        },
        "id": "WXezX3LplIUQ",
        "outputId": "ed249079-8ae8-4230-c238-fd3fe2cad6b0"
      },
      "source": [
        "scalibility_cen = scalability_shuffle(100, centrality, data[\"vectors\"][\"wl\"][2], G)"
      ],
      "execution_count": 24,
      "outputs": [
        {
          "output_type": "stream",
          "text": [
            "(31.316666666666663, 0.41129875597510146, 5.396989901787848)\n",
            "100\n",
            "(32.18333333333333, 1.4709218575815333, 5.615924777907118)\n",
            "200\n",
            "(45.083333333333336, 1.0414999866645331, 5.913144491535598)\n",
            "300\n",
            "(45.13333333333333, 0.7333333333333338, 6.323149707402334)\n",
            "400\n",
            "(60.36666666666666, 0.6782329983125266, 5.570657252265858)\n",
            "500\n",
            "(69.58333333333334, 0.5737304826019479, 4.979820389442889)\n",
            "600\n"
          ],
          "name": "stdout"
        }
      ]
    },
    {
      "cell_type": "code",
      "metadata": {
        "colab": {
          "base_uri": "https://localhost:8080/"
        },
        "id": "rYXhr0JItKCq",
        "outputId": "d83a25a8-408c-4349-d23a-96af76bbe2bb"
      },
      "source": [
        "scalibility_hist = scalability_shuffle(100, histograms, data[\"vectors\"][\"wl\"][2], G)"
      ],
      "execution_count": 25,
      "outputs": [
        {
          "output_type": "stream",
          "text": [
            "(18.7, 0.8124038404635964, 4.481939064487354)\n",
            "100\n",
            "(49.916666666666664, 0.6112373606964098, 5.554652704415163)\n",
            "200\n",
            "(50.25000000000001, 0.49018137232842274, 6.417748826496719)\n",
            "300\n",
            "(56.28333333333334, 0.6954215348341687, 5.577011346192111)\n",
            "400\n",
            "(54.666666666666664, 0.6191391873668911, 5.421151989096864)\n",
            "500\n",
            "(69.38333333333333, 0.645712354260352, 5.475475626220369)\n",
            "600\n"
          ],
          "name": "stdout"
        }
      ]
    },
    {
      "cell_type": "markdown",
      "metadata": {
        "id": "JJxLBlAvBoev"
      },
      "source": [
        "\r\n",
        "The scalibility of both kernels is present. It approves that the kernel doesn't suffer from having to handle more data and thus having not alleviating the course of dimensionality well enough. It compares several subset sizes of the entire graph database that needs to be shuffled prior, as the dataset was being presorted after vertice labels and size. Both kernels perform best when the most data is present with all 600 graphs. The Accuracy is the highest and means over the standard deviations are the lowest in both instances. Thus, the scalability of the respective kernels can be approved."
      ]
    },
    {
      "cell_type": "markdown",
      "metadata": {
        "id": "uByUAhhRH092"
      },
      "source": [
        "#### Accuracy"
      ]
    },
    {
      "cell_type": "code",
      "metadata": {
        "id": "HDY_qhKBOTO-",
        "colab": {
          "base_uri": "https://localhost:8080/"
        },
        "outputId": "f1bd7c43-f622-4d82-dcc9-f43e81433d64"
      },
      "source": [
        "print(\"Vector Representations: \")\r\n",
        "for res in results['vectors']:\r\n",
        "      score = results['vectors'][res]\r\n",
        "      print(f'{res}: {score}')\r\n",
        "\r\n",
        "print(\"\\nBare bone graph properties kernels: \")\r\n",
        "for e in custom_results:\r\n",
        "  print(e)\r\n",
        "\r\n",
        "print(\"\\nWFL combinations: \\n\")\r\n",
        "print(\"Histograms: \")\r\n",
        "print(wfl_histograms_res)\r\n",
        "print(\"Vertice Centrality: \")\r\n",
        "print(wfl_centralized_res)\r\n"
      ],
      "execution_count": 24,
      "outputs": [
        {
          "output_type": "stream",
          "text": [
            "Vector Representations: \n",
            "wl: (51.8, 1.4903392604072092, 6.449289366537474)\n",
            "shortestpath: (40.56666666666666, 1.7984561280288278, 5.869980124895371)\n",
            "graphlet: (30.1, 1.2342339054382407, 5.73401158778816)\n",
            "\n",
            "Bare bone graph properties kernels: \n",
            "(25.65, 0.9293067906300436, 5.90148286450109)\n",
            "(25.200000000000003, 1.142122779934122, 4.979290444765532)\n",
            "\n",
            "WFL combinations: \n",
            "\n",
            "Histograms: \n",
            "(69.49999999999999, 0.9398581453247743, 5.469613027140646)\n",
            "Vertice Centrality: \n",
            "(69.18333333333332, 0.9956851354162531, 5.23606616544223)\n"
          ],
          "name": "stdout"
        }
      ]
    },
    {
      "cell_type": "markdown",
      "metadata": {
        "id": "DMYElCbWSgB-"
      },
      "source": [
        "The accuracy evaluation has been done in many smaller steps by our side. Finding proper kernel properties and other kernels to combine to achieve our final custom kernel required iterative developmental steps, where desicions were made, implemented and evaluated to assess if current chosen options result in desired results.  \r\n",
        "Firstly, we evaluated different provided kernels, like the shortest path, the WL and the graphlet kernel. As also stated in the lecture the WL kernel proved to be the most useful with an Accuracy of 51.25. Then, we decided that the iteration depth of 3 for the color refinement resulted in the best Accuracy score, which we chose to move on with.  \r\n",
        "Further, we considered different properties to enhance our kernel by. We figured focusing on a vertex label histogram kernel would fit the task description well, as edge attributes should be omitted and the histogram kernel is benificiary for finding not only isomorphs according to the color refinement of the WL kernel, but additionally prior isomorphs, or at least strong similiarities, that were omitted during subiterations.  \r\n",
        "Additionally, we found that using the degree of a vertice was fitting according to the domain of enzymes, as in our example the vertices are not only connected according to their physical connections, but to their closest 3 neighbors as well. Resulting in an image that represents closest compartments that pose as potential chemical attractors to each other. This complex composition of amino acids thus is a difficult to assess molecule. Additionally, not only the closest partners, but the direction the individual secondary structure elements are facing are relevant for predicting furhter structural levels of an enzyme.\r\n",
        "Thus, we concluded using the degree of a node will result in a fitting property to extend our kernel with.  \r\n",
        "Then, we tried out the bare bone kernels according to just the two properties that were just named, which resulted in comparably good results, with an Accuracy of 25.45 for the histograms and 25.53 for the node degree or as we described it centrality property. The standard deviations were expectedly high.  \r\n",
        "Afterwards, we combined the properties with the Weisfeiler Lehmann Kernel and the results were quite good. Both performed better than the WL kernels' evaluations presented during the lecture. This might be due to the preprocessing done according to the spacial closeness property.  \r\n",
        "The computed resulting Accuracies are 69.58 for the WL Histogram kernel and 70.18 for the WL Vertice Centrality kernel. Of course these results vary over the different iterations, but we managed to achieve consistently better results than for instance the WL shortest path kernel shown below. Further, the standard deviation turned out to be comparably low in both cases, which means that the classification can be confirmed with a higher certainty as the variability among the data gets lower. Meaning in a kernel context, that the projected Hilbert space of the individual graph's was better and is quite good to be able to more easily determine high dimensional features like the ones in the enzyme dataset.  \r\n",
        "As, the results were quite satisfactory and the combination of both properties resulted in worse scores, we concluded that further attempted improvements, might remove dominance of either the single chosen property or the color refinement and thus will worsen result. Additionally, it is worth mentioning that when extending the WL shortest path kernel by either property, we achieved worse result than just utilizing the basic WL kernel. Other, attempted properties like finding maximal cliques, counting the amount of cliques or the size were not achieving satisfactory results. As other properties like vertex connectivity, in finding out maximal important compartments, are not applicable for the domain of enzymes, we concluded our improvement attempts."
      ]
    },
    {
      "cell_type": "code",
      "metadata": {
        "id": "zKefKmlerfWp",
        "outputId": "9a909613-a660-4978-9b84-2cc8b3529fa2",
        "colab": {
          "base_uri": "https://localhost:8080/"
        }
      },
      "source": [
        "wl_shortest = data[\"vectors\"][\"wl\"][2].T.dot(data[\"vectors\"][\"shortestpath\"][0])\r\n",
        "\r\n",
        "normalized = [aux.normalize_feature_vector(wl_shortest)]\r\n",
        "wfl_shortest_res = ke.linear_svm_evaluation(normalized, classes, num_repetitions=10, all_std=True)\r\n",
        "print(wfl_shortest_res)"
      ],
      "execution_count": 37,
      "outputs": [
        {
          "output_type": "stream",
          "text": [
            "(68.25, 0.853912563829968, 5.813657292196635)\n"
          ],
          "name": "stdout"
        }
      ]
    },
    {
      "cell_type": "code",
      "metadata": {
        "id": "eZ1X39lPpM1O",
        "outputId": "7437ddf6-3765-4bfe-962e-1091603f1fb1",
        "colab": {
          "base_uri": "https://localhost:8080/"
        }
      },
      "source": [
        "wl_intermediary = data[\"vectors\"][\"wl\"][2].T.dot(histogram_gram)\r\n",
        "wl_shortest_histo = wl_intermediary.dot(data[\"vectors\"][\"shortestpath\"][0])\r\n",
        "\r\n",
        "normalized = [aux.normalize_feature_vector(wl_shortest_histo)]\r\n",
        "wfl_shortest_histo_res = ke.linear_svm_evaluation(normalized, classes, num_repetitions=10, all_std=True)\r\n",
        "print(wfl_shortest_histo_res)"
      ],
      "execution_count": 34,
      "outputs": [
        {
          "output_type": "stream",
          "text": [
            "(48.88333333333334, 0.6584915421712805, 6.815240274561127)\n"
          ],
          "name": "stdout"
        }
      ]
    },
    {
      "cell_type": "code",
      "metadata": {
        "id": "ZonXV8HxqHA7",
        "outputId": "7db3a404-9edd-42fa-f2e6-95c24c8e46a8",
        "colab": {
          "base_uri": "https://localhost:8080/"
        }
      },
      "source": [
        "wl_intermediary = data[\"vectors\"][\"wl\"][2].T.dot(centrality_gram)\r\n",
        "wl_shortest_cen = wl_intermediary.dot(data[\"vectors\"][\"shortestpath\"][0])\r\n",
        "\r\n",
        "normalized = [aux.normalize_feature_vector(wl_shortest_cen)]\r\n",
        "wfl_shortest_cen_res = ke.linear_svm_evaluation(normalized, classes, num_repetitions=10, all_std=True)\r\n",
        "print(wfl_shortest_cen_res)"
      ],
      "execution_count": 35,
      "outputs": [
        {
          "output_type": "stream",
          "text": [
            "(48.39999999999999, 0.3091206165165232, 6.1505193999278545)\n"
          ],
          "name": "stdout"
        }
      ]
    },
    {
      "cell_type": "markdown",
      "metadata": {
        "id": "hdJM11D4IHzK"
      },
      "source": [
        "#### Runtime\r\n",
        "Assesing the runtime performance of a kernel would normally be done by by measuring the time it takes for either the feature map or the vectors representations of the kernel to be created. In this case this can hardly be assesed, as the WFL kernel is present as being precomputed and extension are being done by taking the dot product of the previous step with the newly created feature map according to some different property of the graph, in this case the histogram or the centrality. The number of operations to build up the individual feature maps is the same as building it up at once. There is even some optimization in not multiplying the individual vectors at creation, but at completion of the individual feature maps. Problem is that the individual evaluation steps and the final evaluation is being done with a linear SVM, thus the performance in that instance is rather bad. But as this doesn't belong to the runtime performance criteria of the kernel itself we consider it to be fine as it is.   \r\n",
        "As many graphs of enzyme's are represented by sparse matrices and we are utilzing the histogram kernel as a shortest path kernel, one might be able to shorten the computational time required by applying the Dijsktra algorithm with Fibonacci heaps for finding the shortest paths more efficiently. Furhtermore, a breadth-first search could be applied to each vertice.  \r\n"
      ]
    }
  ]
}