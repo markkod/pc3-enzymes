{
 "cells": [
  {
   "cell_type": "markdown",
   "metadata": {},
   "source": [
    "Load the data from the csv, ignores lines with comments.\n",
    "The result is a simple python array"
   ]
  },
  {
   "cell_type": "code",
   "execution_count": 201,
   "metadata": {},
   "outputs": [],
   "source": [
    "import csv\n",
    "\n",
    "data = []\n",
    "with open('data.csv', newline='') as csvfile:\n",
    "    reader = csv.reader(csvfile, delimiter=' ', quotechar='|')\n",
    "    for row in reader:\n",
    "        if len(row) > 0 and not row[0].startswith('#'):\n",
    "            data.append((float(row[0]), float(row[1])))    \n",
    "# data"
   ]
  },
  {
   "cell_type": "code",
   "execution_count": 202,
   "metadata": {},
   "outputs": [],
   "source": [
    "from scipy.stats import chisquare\n",
    "import numpy as np\n",
    "import pandas as pd"
   ]
  },
  {
   "cell_type": "markdown",
   "metadata": {},
   "source": [
    "Class to store data about bins.\n",
    "Makes it easier to keep track of marked bins and merging them.\n",
    "\n",
    "Holds the index of the bin in the initial array, mapping to the dataset.\n",
    "\n",
    "Holds an array of all subsequent bins that should be merged to itself. "
   ]
  },
  {
   "cell_type": "code",
   "execution_count": 203,
   "metadata": {},
   "outputs": [],
   "source": [
    "class Bin:\n",
    "    def __init__(self, index, interval):\n",
    "        self.interval = interval\n",
    "        self.marked = False\n",
    "        self.support = 0\n",
    "        self.index = index\n",
    "        self.merge_with = []\n",
    "        \n",
    "    def addPoint(self):\n",
    "        self.support += 1"
   ]
  },
  {
   "cell_type": "markdown",
   "metadata": {},
   "source": [
    "Calculates the interval, splits the data into bins.\n",
    "TODO: Works on one dimension only, should be generalised to an arbitrary number of dimensions according to the dataset"
   ]
  },
  {
   "cell_type": "code",
   "execution_count": 204,
   "metadata": {},
   "outputs": [],
   "source": [
    "import math\n",
    "col_1 = [x[0] for x in data]\n",
    "col_1_bins = []\n",
    "col_2 = [x[1] for x in data]\n",
    "# find min max of each col -> interval\n",
    "cl_1_min = min(col_1)\n",
    "cl_1_max = max(col_1)\n",
    "\n",
    "interval_length = cl_1_max - cl_1_min\n",
    "# divide interval 1 + log2(n) bins\n",
    "nr_of_bins = math.floor(1 + math.log2(len(col_1)))\n",
    "\n",
    "bins = []\n",
    "b = interval_length / nr_of_bins\n",
    "for i in range(nr_of_bins):\n",
    "    # adds a bin with a start and end interval \n",
    "    bins.append(\n",
    "        Bin(i, [0 if i == 0 else cl_1_min + b * (i - 1), cl_1_min + b * i])\n",
    "    )\n",
    "\n",
    "# compute support for each bin\n",
    "bins_with_attrs_idx = {}\n",
    "sup_bins = {}\n",
    "for a in col_1:\n",
    "    x = int((a - cl_1_min) / b)\n",
    "    bins[x - 1].addPoint()"
   ]
  },
  {
   "cell_type": "markdown",
   "metadata": {},
   "source": [
    "\"On the attributes deemed non-uniform, the bin with the largest support is marked. The remaining un-marked bins are tested again using the Chi-square test for uniform distribution. If the Chi-square test indicates that the un-marked bins “look” uniform, then we stop. Otherwise, the bin with the second-largest support is marked. Then, we repeat testing the remaining un-marked bins for the uniform distribution and marking bins in decreasing order of support, until the current set of un-marked bins satisfies the Chi-square test for uniform distribution.\""
   ]
  },
  {
   "cell_type": "code",
   "execution_count": 205,
   "metadata": {},
   "outputs": [
    {
     "name": "stdout",
     "output_type": "stream",
     "text": [
      "[42, 84, 54, 94, 59, 82, 69, 14, 2]\n",
      "stat 143.284\n",
      "94 3\n",
      "[42, 84, 54, 59, 82, 69, 14, 2]\n",
      "stat 124.0886699507389\n",
      "84 1\n",
      "[42, 54, 59, 82, 69, 14, 2]\n",
      "stat 109.43478260869566\n",
      "82 5\n",
      "[42, 54, 59, 69, 14, 2]\n",
      "stat 88.05\n",
      "69 6\n",
      "[42, 54, 59, 14, 2]\n",
      "stat 73.47368421052632\n",
      "59 4\n",
      "[42, 54, 14, 2]\n",
      "stat 62.28571428571428\n",
      "54 2\n",
      "[42, 14, 2]\n",
      "stat 43.58620689655172\n",
      "42 0\n",
      "[14, 2]\n",
      "stat 9.0\n",
      "14 7\n",
      "[2]\n",
      "stat 0.0\n"
     ]
    }
   ],
   "source": [
    "# perform chisquared for the support \n",
    "alpha = 0.001\n",
    "stat = 1\n",
    "\n",
    "while (stat > alpha):\n",
    "    # support list of all *unmarked* bins\n",
    "    support_list = list(bins[i].support for i in range(nr_of_bins) if not bins[i].marked)\n",
    "    print(support_list)\n",
    "    # if there are no unmarked bins, end the process\n",
    "    if len(support_list) == 0: \n",
    "        break\n",
    "    (stat, p) = chisquare(support_list)\n",
    "    print('stat', stat)\n",
    "    if (stat > alpha):\n",
    "        # find the bin with the highest support and mark it\n",
    "        # proof of concept code, should be cleaned up\n",
    "        max_support = 0\n",
    "        max_index = 0\n",
    "        for _bin in bins:\n",
    "            if _bin.marked:\n",
    "                continue\n",
    "            if _bin.support > max_support:\n",
    "                max_support = _bin.support\n",
    "                max_index = _bin.index\n",
    "        print(max_support, max_index)\n",
    "        bins[max_index].marked = True"
   ]
  },
  {
   "cell_type": "markdown",
   "metadata": {},
   "source": [
    "Find the adjacent bins that have the same marked status. Add all following bins with the same status to `merge_with` array in the Bin objects"
   ]
  },
  {
   "cell_type": "code",
   "execution_count": 206,
   "metadata": {},
   "outputs": [],
   "source": [
    "# merge bins\n",
    "for i, _bin1 in enumerate(bins):\n",
    "    for j, _bin2 in enumerate(bins[i+1:]):\n",
    "        if _bin1.marked == _bin2.marked:\n",
    "            _bin1.merge_with.append(_bin2.index)"
   ]
  },
  {
   "cell_type": "markdown",
   "metadata": {},
   "source": [
    "Merges the bins according to the merge list. New bins in a new array."
   ]
  },
  {
   "cell_type": "code",
   "execution_count": 207,
   "metadata": {},
   "outputs": [],
   "source": [
    "i = 0\n",
    "new_bins = []\n",
    "while i < len(bins):\n",
    "    # if bin has no following bins to merge with, keep it as is, and go to the next one\n",
    "    if len(bins[i].merge_with) == 0:\n",
    "        new_bins.append(bins[i])\n",
    "        i += 1\n",
    "        continue\n",
    "    # merge each bin in the list by extending the interval and combining support\n",
    "    for bin_index in bins[i].merge_with:\n",
    "        bins[i].interval[1] = bins[bin_index].interval[1]\n",
    "        bins[i].support += bins[bin_index].support\n",
    "    new_bins.append(bins[i])\n",
    "    # skip all of the bins that were included in the current one\n",
    "    i = max(bins[i].merge_with) + 1"
   ]
  },
  {
   "cell_type": "code",
   "execution_count": 208,
   "metadata": {},
   "outputs": [
    {
     "data": {
      "text/plain": [
       "500"
      ]
     },
     "execution_count": 208,
     "metadata": {},
     "output_type": "execute_result"
    }
   ],
   "source": [
    "sum(x.support for x in new_bins) # confirm all points are kept"
   ]
  }
 ],
 "metadata": {
  "kernelspec": {
   "display_name": "Python 3",
   "language": "python",
   "name": "python3"
  },
  "language_info": {
   "codemirror_mode": {
    "name": "ipython",
    "version": 3
   },
   "file_extension": ".py",
   "mimetype": "text/x-python",
   "name": "python",
   "nbconvert_exporter": "python",
   "pygments_lexer": "ipython3",
   "version": "3.8.2"
  }
 },
 "nbformat": 4,
 "nbformat_minor": 4
}
