{
 "cells": [
  {
   "cell_type": "markdown",
   "metadata": {},
   "source": [
    "Load the data from the csv, ignores lines with comments.\n",
    "The result is a simple python array"
   ]
  },
  {
   "cell_type": "code",
   "execution_count": 1,
   "metadata": {},
   "outputs": [],
   "source": [
    "import csv\n",
    "\n",
    "data = []\n",
    "with open('gram.csv', newline='') as csvfile:\n",
    "    reader = csv.reader(csvfile, delimiter=',', quotechar='|')\n",
    "    for row in reader:\n",
    "        if len(row) > 0 and not row[0].startswith('#'):\n",
    "            data.append([float(r) for r in row])\n",
    "\n",
    "#data"
   ]
  },
  {
   "cell_type": "code",
   "execution_count": null,
   "metadata": {},
   "outputs": [],
   "source": [
    "!ls"
   ]
  },
  {
   "cell_type": "code",
   "execution_count": null,
   "metadata": {},
   "outputs": [],
   "source": [
    "def normalize_dataset(data):\n",
    "    for column_id in range(len(data[0])):\n",
    "        column_max = max([x[column_id] for x in data])\n",
    "        for i, entry in enumerate([x[column_id] for x in data]):\n",
    "             data[i][column_id] = entry/column_max\n",
    "    return data\n",
    "#data = normalize_dataset(data)"
   ]
  },
  {
   "cell_type": "code",
   "execution_count": null,
   "metadata": {},
   "outputs": [],
   "source": [
    "#for d in data:\n",
    "#    print(d[0], d[1])"
   ]
  },
  {
   "cell_type": "code",
   "execution_count": 2,
   "metadata": {},
   "outputs": [],
   "source": [
    "from scipy.stats import chisquare,chi2\n",
    "import numpy as np\n",
    "import pandas as pd\n",
    "import math\n",
    "import matplotlib.pyplot as plt\n",
    "from scipy.spatial import distance\n",
    "import scipy as sp\n",
    "import sys\n",
    "from sklearn import mixture"
   ]
  },
  {
   "cell_type": "code",
   "execution_count": null,
   "metadata": {},
   "outputs": [],
   "source": [
    "#data = np.random.uniform(size=[50000, 10])"
   ]
  },
  {
   "cell_type": "code",
   "execution_count": null,
   "metadata": {},
   "outputs": [],
   "source": [
    "from sklearn.datasets.samples_generator import make_blobs\n",
    "\n",
    "centers = [(0.2, 0.2), (0.2, 0.8), (0.5, 0.5)]\n",
    "cluster_std = [0.05, 0.05, 0.05]\n",
    "\n",
    "data, y = make_blobs(n_samples=1000, cluster_std=cluster_std, centers=centers, n_features=3, random_state=1)\n",
    "\n",
    "plt.scatter(data[y == 0, 0], data[y == 0, 1], color=\"red\", s=10, label=\"Cluster1\")\n",
    "plt.scatter(data[y == 1, 0], data[y == 1, 1], color=\"blue\", s=10, label=\"Cluster2\")\n",
    "plt.scatter(data[y == 2, 0], data[y == 2, 1], color=\"green\", s=10, label=\"Cluster3\")"
   ]
  },
  {
   "cell_type": "code",
   "execution_count": null,
   "metadata": {},
   "outputs": [],
   "source": [
    "import csv\n",
    "\n",
    "with open('synthetic.csv', mode='w') as employee_file:\n",
    "    employee_writer = csv.writer(employee_file, delimiter=',', quotechar='\"', quoting=csv.QUOTE_MINIMAL)\n",
    "    for l in data:\n",
    "        employee_writer.writerow(l)"
   ]
  },
  {
   "cell_type": "markdown",
   "metadata": {},
   "source": [
    "Class to store data about bins.\n",
    "Makes it easier to keep track of marked bins and merging them.\n",
    "\n",
    "Holds the index of the bin in the initial array, mapping to the dataset.\n",
    "\n",
    "Holds an array of all subsequent bins that should be merged to itself. "
   ]
  },
  {
   "cell_type": "code",
   "execution_count": 3,
   "metadata": {},
   "outputs": [],
   "source": [
    "# TODO create datapoint class\n",
    "\n",
    "class Bin:\n",
    "    def __init__(self, index, interval, dim):\n",
    "        self.interval = interval\n",
    "        self.marked = False\n",
    "        self.support = 0\n",
    "        self.index = index\n",
    "        self.merge_with = []\n",
    "        self.assigned_points = []\n",
    "        self.dimension = dim\n",
    "        \n",
    "    def add_point(self, point):\n",
    "        self.support += 1\n",
    "        self.assigned_points.append(point)\n",
    "        \n",
    "    def get_width(self):\n",
    "        return self.interval.length\n",
    "    \n",
    "    def __str__(self):\n",
    "        return 'Interval: {0}; Marked: {1}; Support: {2}; Index: {3}; \\\n",
    "            Merge-with {4}; # of assigned points {5}; Dimension: {6}'.format(\n",
    "            self.interval,\n",
    "            self.marked,\n",
    "            self.support,\n",
    "            self.index,\n",
    "            self.merge_with,\n",
    "            len(self.assigned_points),\n",
    "            self.dimension\n",
    "        )\n",
    "    \n",
    "class Interval:\n",
    "    def __init__(self, start, end):\n",
    "        self.start = start\n",
    "        self.end = end\n",
    "        self.length = end - start\n",
    "    \n",
    "    def __str__(self):\n",
    "        return 'Start: {0}; End: {1}; Length {2}'.format(self.start, self.end, self.length)\n",
    "    "
   ]
  },
  {
   "cell_type": "markdown",
   "metadata": {},
   "source": [
    "Calculates the interval, splits the data into bins.\n",
    "TODO: Works on one dimension only, should be generalised to an arbitrary number of dimensions according to the dataset"
   ]
  },
  {
   "cell_type": "code",
   "execution_count": 4,
   "metadata": {},
   "outputs": [],
   "source": [
    "def split_into_bins(data):\n",
    "    bins = []\n",
    "    for col_idx in range(len(data[0])):\n",
    "        column_bins = []\n",
    "        column_data = [x[col_idx] for x in data]\n",
    "        col_min = min(column_data)\n",
    "        col_max = max(column_data)\n",
    "\n",
    "        interval_length = col_max - col_min\n",
    "        # divide interval 1 + log2(n) bins\n",
    "        nr_of_bins = math.floor(1 + math.log2(len(column_data)))\n",
    "        \n",
    "        column_bins = []\n",
    "        b = interval_length / nr_of_bins\n",
    "        for i in range(nr_of_bins):\n",
    "            # adds a bin with a start and end interval\n",
    "            bin_interval = Interval(col_min + b * i, col_min + b * (i + 1))\n",
    "            \n",
    "            column_bins.append(Bin(i, bin_interval, col_idx))\n",
    "\n",
    "        # compute support for each bin\n",
    "        for i, datapoint in enumerate(column_data):\n",
    "            bin_index = int((datapoint - col_min) / b)\n",
    "            bin_index = bin_index if bin_index < nr_of_bins else bin_index - 1\n",
    "            column_bins[bin_index].add_point(data[i])\n",
    "\n",
    "        bins.append(column_bins)\n",
    "    return bins, nr_of_bins\n",
    "\n",
    "bins, nr_of_bins = split_into_bins(data)"
   ]
  },
  {
   "cell_type": "code",
   "execution_count": 5,
   "metadata": {},
   "outputs": [],
   "source": [
    "#plt.scatter([x[0] for x in data], [y[1] for y in data])\n",
    "#plt.scatter([b.interval[0] for b in bins[0]], [0.5 for _ in range(len(bins[0]))], c='green', s=100)\n",
    "#plt.scatter([b.interval[1] for b in bins[0]], [0.5 for _ in range(len(bins[0]))], c='red')\n",
    "#plt.show()"
   ]
  },
  {
   "cell_type": "markdown",
   "metadata": {},
   "source": [
    "\"On the attributes deemed non-uniform, the bin with the largest support is marked. The remaining un-marked bins are tested again using the Chi-square test for uniform distribution. If the Chi-square test indicates that the un-marked bins “look” uniform, then we stop. Otherwise, the bin with the second-largest support is marked. Then, we repeat testing the remaining un-marked bins for the uniform distribution and marking bins in decreasing order of support, until the current set of un-marked bins satisfies the Chi-square test for uniform distribution.\""
   ]
  },
  {
   "cell_type": "code",
   "execution_count": 6,
   "metadata": {},
   "outputs": [
    {
     "name": "stderr",
     "output_type": "stream",
     "text": [
      "/home/franko/.local/lib/python3.8/site-packages/scipy/stats/stats.py:5982: RuntimeWarning: invalid value encountered in true_divide\n",
      "  terms = (f_obs.astype(np.float64) - f_exp)**2 / f_exp\n"
     ]
    }
   ],
   "source": [
    "# find the bin with the highest support and mark it\n",
    "def mark_highest_support(column_bins):\n",
    "    max_support = 0\n",
    "    max_index = 0\n",
    "    for _bin in column_bins:\n",
    "        if _bin.marked:\n",
    "            continue\n",
    "        if _bin.support > max_support:\n",
    "            max_support = _bin.support\n",
    "            max_index = _bin.index\n",
    "    #print(max_support, max_index)\n",
    "    column_bins[max_index].marked = True\n",
    "\n",
    "# perform chisquared for the support \n",
    "def mark_bins(column_bins, alpha=0.001, stat=1):\n",
    "    while (stat > alpha):\n",
    "        # support list of all *unmarked* bins\n",
    "        support_list = [column_bins[i].support for i in range(nr_of_bins) if not column_bins[i].marked]\n",
    "        #print(support_list)\n",
    "        # if there are no unmarked bins, end the process\n",
    "        if len(support_list) == 0: \n",
    "            break\n",
    "        (stat, p) = chisquare(support_list)\n",
    "        #print('stat', stat)\n",
    "        #print('p', p)\n",
    "        if (stat > alpha):\n",
    "            mark_highest_support(column_bins)\n",
    "            \n",
    "\n",
    "    #print(list(column_bins[i].support for i in range(nr_of_bins) if not column_bins[i].marked))\n",
    "    \n",
    "for column_bins in bins:\n",
    "    mark_bins(column_bins)"
   ]
  },
  {
   "cell_type": "markdown",
   "metadata": {},
   "source": [
    "Find the adjacent bins that have the same marked status. Add all following bins with the same status to `merge_with` array in the Bin objects"
   ]
  },
  {
   "cell_type": "code",
   "execution_count": 7,
   "metadata": {},
   "outputs": [],
   "source": [
    "# merge bins\n",
    "def mark_merge_bins(column_bins):\n",
    "    for i, _bin1 in enumerate(column_bins):\n",
    "        for j, _bin2 in enumerate(column_bins[i+1:]):\n",
    "            if _bin1.marked == _bin2.marked:\n",
    "                _bin1.merge_with.append(_bin2.index)\n",
    "            else:\n",
    "                break\n",
    "                \n",
    "for column_bins in bins:\n",
    "    mark_merge_bins(column_bins)"
   ]
  },
  {
   "cell_type": "markdown",
   "metadata": {},
   "source": [
    "Merges the bins according to the merge list. New bins in a new array."
   ]
  },
  {
   "cell_type": "code",
   "execution_count": 8,
   "metadata": {},
   "outputs": [],
   "source": [
    "# merge each bin in the list by extending the interval and combining support\n",
    "def merge_bin(all_column_bins, column_bin):\n",
    "    for bin_index in column_bin.merge_with:\n",
    "            column_bin.interval.end = all_column_bins[bin_index].interval.end\n",
    "            column_bin.support += all_column_bins[bin_index].support\n",
    "            column_bin.assigned_points.extend(all_column_bins[bin_index].assigned_points)\n",
    "\n",
    "# merge bins of a single column\n",
    "def merge_column_bins(column_bins):\n",
    "    i = 0\n",
    "    new_bins = []\n",
    "    while i < len(column_bins):\n",
    "        # if bin has no following bins to merge with, keep it as is, and go to the next one\n",
    "        if len(column_bins[i].merge_with) == 0:\n",
    "            new_bins.append(column_bins[i])\n",
    "            i += 1\n",
    "            continue\n",
    "            \n",
    "        merge_bin(column_bins, column_bins[i])\n",
    "        \n",
    "        new_bins.append(column_bins[i])\n",
    "        \n",
    "        # skip all of the bins that were included in the current one\n",
    "        i = max(column_bins[i].merge_with) + 1\n",
    "        \n",
    "    return new_bins\n",
    "\n",
    "def merge_all_bins(bins):\n",
    "    new_bins = []\n",
    "    for column_bins in bins:\n",
    "        new_bins.append(merge_column_bins(column_bins))\n",
    "    return new_bins\n",
    "\n",
    "new_bins = merge_all_bins(bins)"
   ]
  },
  {
   "cell_type": "code",
   "execution_count": 9,
   "metadata": {},
   "outputs": [
    {
     "data": {
      "image/png": "[encoded data removed]",
      "text/plain": [
       "<Figure size 432x288 with 1 Axes>"
      ]
     },
     "metadata": {
      "needs_background": "light"
     },
     "output_type": "display_data"
    },
    {
     "data": {
      "image/png": "[encoded data removed]",
      "text/plain": [
       "<Figure size 432x288 with 1 Axes>"
      ]
     },
     "metadata": {
      "needs_background": "light"
     },
     "output_type": "display_data"
    },
    {
     "data": {
      "image/png": "[encoded data removed]",
      "text/plain": [
       "<Figure size 432x288 with 1 Axes>"
      ]
     },
     "metadata": {
      "needs_background": "light"
     },
     "output_type": "display_data"
    },
    {
     "data": {
      "image/png": "[encoded data removed]",
      "text/plain": [
       "<Figure size 432x288 with 1 Axes>"
      ]
     },
     "metadata": {
      "needs_background": "light"
     },
     "output_type": "display_data"
    },
    {
     "data": {
      "image/png": "[encoded data removed]",
      "text/plain": [
       "<Figure size 432x288 with 1 Axes>"
      ]
     },
     "metadata": {
      "needs_background": "light"
     },
     "output_type": "display_data"
    },
    {
     "data": {
      "image/png": "[encoded data removed]",
      "text/plain": [
       "<Figure size 432x288 with 1 Axes>"
      ]
     },
     "metadata": {
      "needs_background": "light"
     },
     "output_type": "display_data"
    },
    {
     "ename": "IndexError",
     "evalue": "list index out of range",
     "output_type": "error",
     "traceback": [
      "\u001b[0;31m---------------------------------------------------------------------------\u001b[0m",
      "\u001b[0;31mIndexError\u001b[0m                                Traceback (most recent call last)",
      "\u001b[0;32m<ipython-input-9-a4e93fa9ebd1>\u001b[0m in \u001b[0;36m<module>\u001b[0;34m\u001b[0m\n\u001b[1;32m      6\u001b[0m \u001b[0;32mfor\u001b[0m \u001b[0mi\u001b[0m \u001b[0;32min\u001b[0m \u001b[0mrange\u001b[0m\u001b[0;34m(\u001b[0m\u001b[0;36m0\u001b[0m\u001b[0;34m,\u001b[0m \u001b[0mlen\u001b[0m\u001b[0;34m(\u001b[0m\u001b[0mdims\u001b[0m\u001b[0;34m)\u001b[0m\u001b[0;34m,\u001b[0m \u001b[0;36m2\u001b[0m\u001b[0;34m)\u001b[0m\u001b[0;34m:\u001b[0m\u001b[0;34m\u001b[0m\u001b[0;34m\u001b[0m\u001b[0m\n\u001b[1;32m      7\u001b[0m     \u001b[0mdim1\u001b[0m \u001b[0;34m=\u001b[0m \u001b[0mdims\u001b[0m\u001b[0;34m[\u001b[0m\u001b[0mi\u001b[0m\u001b[0;34m]\u001b[0m\u001b[0;34m\u001b[0m\u001b[0;34m\u001b[0m\u001b[0m\n\u001b[0;32m----> 8\u001b[0;31m     \u001b[0mdim2\u001b[0m \u001b[0;34m=\u001b[0m \u001b[0mdims\u001b[0m\u001b[0;34m[\u001b[0m\u001b[0mi\u001b[0m \u001b[0;34m+\u001b[0m \u001b[0;36m1\u001b[0m\u001b[0;34m]\u001b[0m\u001b[0;34m\u001b[0m\u001b[0;34m\u001b[0m\u001b[0m\n\u001b[0m\u001b[1;32m      9\u001b[0m     \u001b[0mplt\u001b[0m\u001b[0;34m.\u001b[0m\u001b[0mscatter\u001b[0m\u001b[0;34m(\u001b[0m\u001b[0;34m[\u001b[0m\u001b[0mx\u001b[0m\u001b[0;34m[\u001b[0m\u001b[0mdim1\u001b[0m\u001b[0;34m]\u001b[0m \u001b[0;32mfor\u001b[0m \u001b[0mx\u001b[0m \u001b[0;32min\u001b[0m \u001b[0mdata\u001b[0m\u001b[0;34m]\u001b[0m\u001b[0;34m,\u001b[0m \u001b[0;34m[\u001b[0m\u001b[0my\u001b[0m\u001b[0;34m[\u001b[0m\u001b[0mdim2\u001b[0m\u001b[0;34m]\u001b[0m \u001b[0;32mfor\u001b[0m \u001b[0my\u001b[0m \u001b[0;32min\u001b[0m \u001b[0mdata\u001b[0m\u001b[0;34m]\u001b[0m\u001b[0;34m)\u001b[0m\u001b[0;34m\u001b[0m\u001b[0;34m\u001b[0m\u001b[0m\n\u001b[1;32m     10\u001b[0m     \u001b[0mplt\u001b[0m\u001b[0;34m.\u001b[0m\u001b[0mscatter\u001b[0m\u001b[0;34m(\u001b[0m\u001b[0;34m[\u001b[0m\u001b[0mb\u001b[0m\u001b[0;34m.\u001b[0m\u001b[0minterval\u001b[0m\u001b[0;34m.\u001b[0m\u001b[0mstart\u001b[0m \u001b[0;32mfor\u001b[0m \u001b[0mb\u001b[0m \u001b[0;32min\u001b[0m \u001b[0mnew_bins\u001b[0m\u001b[0;34m[\u001b[0m\u001b[0mdim1\u001b[0m\u001b[0;34m]\u001b[0m\u001b[0;34m]\u001b[0m\u001b[0;34m,\u001b[0m \u001b[0;34m[\u001b[0m\u001b[0;36m0.5\u001b[0m \u001b[0;32mfor\u001b[0m \u001b[0m_\u001b[0m \u001b[0;32min\u001b[0m \u001b[0mrange\u001b[0m\u001b[0;34m(\u001b[0m\u001b[0mlen\u001b[0m\u001b[0;34m(\u001b[0m\u001b[0mnew_bins\u001b[0m\u001b[0;34m[\u001b[0m\u001b[0mdim2\u001b[0m\u001b[0;34m]\u001b[0m\u001b[0;34m)\u001b[0m\u001b[0;34m)\u001b[0m\u001b[0;34m]\u001b[0m\u001b[0;34m,\u001b[0m \u001b[0mc\u001b[0m\u001b[0;34m=\u001b[0m\u001b[0;34m'green'\u001b[0m\u001b[0;34m,\u001b[0m \u001b[0ms\u001b[0m\u001b[0;34m=\u001b[0m\u001b[0;36m100\u001b[0m\u001b[0;34m)\u001b[0m\u001b[0;34m\u001b[0m\u001b[0;34m\u001b[0m\u001b[0m\n",
      "\u001b[0;31mIndexError\u001b[0m: list index out of range"
     ]
    }
   ],
   "source": [
    "dim1 = 17\n",
    "dim2 = 22\n",
    "\n",
    "dims = [i for i, x in enumerate(new_bins) if len(x) > 3]\n",
    "\n",
    "for i in range(0, len(dims), 2):\n",
    "    dim1 = dims[i]\n",
    "    dim2 = dims[i + 1]\n",
    "    plt.scatter([x[dim1] for x in data], [y[dim2] for y in data])\n",
    "    plt.scatter([b.interval.start for b in new_bins[dim1]], [0.5 for _ in range(len(new_bins[dim2]))], c='green', s=100)\n",
    "    plt.scatter([b.interval.end for b in new_bins[dim1]], [0.5 for _ in range(len(new_bins[dim2]))], c='red')\n",
    "\n",
    "    plt.scatter([0.5 for _ in range(len(new_bins[dim1]))], [b.interval.start for b in new_bins[dim2]], c='yellow', s=100)\n",
    "    plt.scatter([0.5 for _ in range(len(new_bins[dim1]))], [b.interval.end for b in new_bins[dim2]], c='purple')\n",
    "\n",
    "    plt.show()\n"
   ]
  },
  {
   "cell_type": "code",
   "execution_count": 10,
   "metadata": {},
   "outputs": [
    {
     "data": {
      "text/plain": [
       "600"
      ]
     },
     "execution_count": 10,
     "metadata": {},
     "output_type": "execute_result"
    }
   ],
   "source": [
    "sum(x.support for x in new_bins[0]) # confirm all points are kept"
   ]
  },
  {
   "cell_type": "code",
   "execution_count": 11,
   "metadata": {},
   "outputs": [],
   "source": [
    "from scipy.stats import poisson\n",
    "\n",
    "def create_new_candidate(candidate, dim_bin, reevaluated_points):\n",
    "    current_bins_list = []\n",
    "    current_bins_list.extend(candidate.bins)\n",
    "    current_bins_list.append(dim_bin)\n",
    "    return PSignature(current_bins_list, reevaluated_points)\n",
    "\n",
    "def generate_candidate_list(candidate_list, current_dim_bins, threshold, current_dim):\n",
    "    new_candidates = []\n",
    "    for candidate in candidate_list:\n",
    "        for dim_bin in current_dim_bins:\n",
    "            if dim_bin.marked:\n",
    "                expected_sup = candidate.get_support() * dim_bin.get_width()            \n",
    "                reevaluated_points = candidate.reevaluate_assigned_points(dim_bin, current_dim)\n",
    "                r_support = len(reevaluated_points)\n",
    "                if r_support == 0:\n",
    "                    continue\n",
    "                print('R support {0}, expected support {1}'.format(r_support, expected_sup))\n",
    "                print('Poisson distribution:', poisson.pmf(r_support, expected_sup), r_support, expected_sup)\n",
    "\n",
    "                if poisson.pmf(r_support, expected_sup) < threshold:\n",
    "                    new_candidate = create_new_candidate(candidate, dim_bin, reevaluated_points)\n",
    "                    new_candidates.append(new_candidate)\n",
    "                    print(\"Length of new candidates after poisson\", len(new_candidates))\n",
    "    return new_candidates\n",
    "      "
   ]
  },
  {
   "cell_type": "code",
   "execution_count": 12,
   "metadata": {
    "jupyter": {
     "source_hidden": true
    }
   },
   "outputs": [],
   "source": [
    "class PSignature:\n",
    "    def __init__(self, bins, assigned_points=[]):\n",
    "        self.bins = bins\n",
    "        self.assigned_points = assigned_points\n",
    "        \n",
    "    def get_support(self):\n",
    "        return len(self.assigned_points)\n",
    "    \n",
    "    def add_bin(self, _bin):\n",
    "        self.bins.append(_bin)\n",
    "        self.assigned_points.append(_bin.assigned_support)\n",
    "        self.reevaluate_assigned_points(current_dim)\n",
    "    \n",
    "    def reevaluate_assigned_points(self, _bin, current_dim):\n",
    "        evaluated_points = []\n",
    "        current_interval = _bin.interval\n",
    "        for point in self.assigned_points:\n",
    "            if point[current_dim] > current_interval.start and point[current_dim] <= current_interval.end:\n",
    "                evaluated_points.append(point)\n",
    "        return evaluated_points\n",
    "    \n",
    "    def get_means(self):\n",
    "        return [np.mean(i) for i in self.assigned_points[0]]"
   ]
  },
  {
   "cell_type": "code",
   "execution_count": 13,
   "metadata": {},
   "outputs": [
    {
     "name": "stdout",
     "output_type": "stream",
     "text": [
      "R support 596, expected support 59.800000000000004\n",
      "Poisson distribution: 0.0 596 59.800000000000004\n",
      "Length of new candidates after poisson 1\n",
      "R support 594, expected support 59.6\n",
      "Poisson distribution: 0.0 594 59.6\n",
      "Length of new candidates after poisson 1\n",
      "R support 593, expected support 59.400000000000006\n",
      "Poisson distribution: 0.0 593 59.400000000000006\n",
      "Length of new candidates after poisson 1\n",
      "R support 1, expected support 59.399999999999984\n",
      "Poisson distribution: 9.477509314599652e-25 1 59.399999999999984\n",
      "Length of new candidates after poisson 2\n",
      "R support 591, expected support 59.300000000000004\n",
      "Poisson distribution: 0.0 591 59.300000000000004\n",
      "Length of new candidates after poisson 1\n",
      "R support 1, expected support 0.1\n",
      "Poisson distribution: 0.09048374180359597 1 0.1\n",
      "R support 591, expected support 59.1\n",
      "Poisson distribution: 0.0 591 59.1\n",
      "Length of new candidates after poisson 1\n",
      "R support 590, expected support 59.1\n",
      "Poisson distribution: 0.0 590 59.1\n",
      "Length of new candidates after poisson 1\n",
      "R support 589, expected support 59.0\n",
      "Poisson distribution: 0.0 589 59.0\n",
      "Length of new candidates after poisson 1\n",
      "R support 588, expected support 58.900000000000006\n",
      "Poisson distribution: 0.0 588 58.900000000000006\n",
      "Length of new candidates after poisson 1\n",
      "R support 1, expected support 58.899999999999984\n",
      "Poisson distribution: 1.5494241139630972e-24 1 58.899999999999984\n",
      "Length of new candidates after poisson 2\n",
      "R support 587, expected support 58.800000000000004\n",
      "Poisson distribution: 0.0 587 58.800000000000004\n",
      "Length of new candidates after poisson 1\n",
      "R support 1, expected support 0.1\n",
      "Poisson distribution: 0.09048374180359597 1 0.1\n",
      "R support 58, expected support 58.7\n",
      "Poisson distribution: 0.05208974090791133 58 58.7\n"
     ]
    }
   ],
   "source": [
    "candidate_list = []\n",
    "for _bin in new_bins[0]:\n",
    "    if _bin.marked:\n",
    "        candidate_list.append(PSignature([_bin], assigned_points=_bin.assigned_points))\n",
    "\n",
    "poisson_threshold = 1e-2\n",
    "for dim in range(1, len(data[0])):    \n",
    "    candidate_list = generate_candidate_list(candidate_list, new_bins[dim], poisson_threshold, dim)"
   ]
  },
  {
   "cell_type": "code",
   "execution_count": null,
   "metadata": {},
   "outputs": [],
   "source": [
    "for c in candidate_list:\n",
    "    print(\"---\")\n",
    "    for b in c.bins:\n",
    "        print(b.index, b.dimension, len(b.assigned_points), b.marked)\n",
    "        print(b.interval)\n",
    "    print(len(c.assigned_points))"
   ]
  },
  {
   "cell_type": "code",
   "execution_count": null,
   "metadata": {},
   "outputs": [],
   "source": [
    "for bin in new_bins[1]:\n",
    "    print(bin.marked)"
   ]
  },
  {
   "cell_type": "code",
   "execution_count": null,
   "metadata": {},
   "outputs": [],
   "source": [
    "for candidate in candidate_list:\n",
    "    for _bin in candidate.bins:\n",
    "        print('start {0}, end {1}, length {2}'.format(_bin.interval.start, _bin.interval.end, _bin.interval.length))"
   ]
  },
  {
   "cell_type": "code",
   "execution_count": null,
   "metadata": {},
   "outputs": [],
   "source": [
    "class DataPoint:\n",
    "    def __init__(self, coords):\n",
    "        self.coords = coords\n",
    "        self.assigned_clusters = []\n",
    "        \n",
    "    def __eq__(self, other):\n",
    "        if len(other.coords) != len(self.coords):\n",
    "            return False\n",
    "        for i, x in enumerate(self.coords):\n",
    "            if x - other.coords[i] > 1e-9:\n",
    "                return False\n",
    "        return True"
   ]
  },
  {
   "cell_type": "code",
   "execution_count": null,
   "metadata": {},
   "outputs": [],
   "source": [
    "for c in candidate_list:\n",
    "    print(c.get_means())\n",
    "\n",
    "inv_cov_cluster_dict = dict()\n",
    "\n",
    "for i,can in enumerate(candidate_list):   \n",
    "    cov = np.cov(np.array(can.assigned_points).T)\n",
    "    inv_covmat= np.linalg.inv(cov)\n",
    "    inv_cov_cluster_dict[i] = inv_covmat\n"
   ]
  },
  {
   "cell_type": "code",
   "execution_count": null,
   "metadata": {},
   "outputs": [],
   "source": [
    "#fuzzy membership matrix\n",
    "#initialize matrix with datapoints in one column and found cluster (e.g. 1,2,3) in other column\n",
    "#initialize clusterpoints with a 1 at the matrix intersection\n",
    "matrix = np.zeros(dtype='float', shape=(len(data), len(candidate_list)))\n",
    "dps = []\n",
    "\n",
    "print(matrix.shape)\n",
    "\n",
    "cov_dat = np.cov(np.array(data).T)\n",
    "inv_covmat_dat= np.linalg.inv(cov_dat)\n",
    "\n",
    "for i, point in enumerate(data):\n",
    "    if i % 100 == 0:\n",
    "        print(i)\n",
    "    data_point = DataPoint(point)\n",
    "    for j, candidate in enumerate(candidate_list):\n",
    "        candidate_data_points = [DataPoint(p) for p in candidate.assigned_points]\n",
    "        if data_point in candidate_data_points:\n",
    "            matrix[i][j] = 1\n",
    "            data_point.assigned_clusters.append(j)\n",
    "    fraction = 1 if len(data_point.assigned_clusters) == 0 else 1 / len(data_point.assigned_clusters) \n",
    "    for r in range(len(candidate_list)):\n",
    "        if matrix[i][r] == 1:\n",
    "            matrix[i][r] = fraction\n",
    "    #\"\"\"\n",
    "    if len(data_point.assigned_clusters) == 0:\n",
    "        closest = sys.maxsize\n",
    "        closest_candidate_idx = 0\n",
    "        for idx, c in enumerate(candidate_list):\n",
    "            mh_distance = distance.mahalanobis(data_point.coords, c.get_means(),inv_cov_cluster_dict[idx])\n",
    "            if mh_distance < closest:\n",
    "                closest = mh_distance\n",
    "                closest_candidate_idx = idx\n",
    "        data_point.assigned_clusters.append(closest_candidate_idx)\n",
    "        matrix[i][closest_candidate_idx] = 1\n",
    "    #\"\"\"\n",
    "    dps.append(data_point)\n",
    "    \n",
    "\n",
    "            \n",
    "#compute mean of support set of cluster\n",
    "\n",
    "#compute the shortest mahalanobis distance(scipy.spatial.distance.mahalanobis) \n",
    "# of unassigned points to cluster core and assign\n",
    "\n",
    "# EM -> probably need to implement ourself\n",
    "means = np.array([c.get_means() for c in candidate_list])\n",
    "#gmm = mixture.GaussianMixture(n_components=len(candidate_list), covariance_type='full', means_init=means).fit(matrix)\n",
    "gmm = mixture.GaussianMixture(n_components=len(candidate_list), covariance_type='full').fit(matrix)\n",
    "\n",
    "result = gmm.predict(matrix)"
   ]
  },
  {
   "cell_type": "code",
   "execution_count": null,
   "metadata": {},
   "outputs": [],
   "source": [
    "plt.scatter([x[0] for x in data], [y[1] for y in data], c=result, s=20)\n",
    "plt.scatter([x[0] for x in means], [y[1] for y in means], c=\"green\")\n",
    "plt.show()"
   ]
  },
  {
   "cell_type": "code",
   "execution_count": null,
   "metadata": {},
   "outputs": [],
   "source": [
    "clustered_points = list()\n",
    "projected_cluster_dict = dict()\n",
    "for c in range(len(candidate_list)):\n",
    "    projected_cluster_dict[c] = []\n",
    "\n",
    "for assigned_cluster, p in list(zip(result, data)):\n",
    "    clustered_points.append((assigned_cluster,p))\n",
    "    if assigned_cluster in projected_cluster_dict:\n",
    "        projected_cluster_dict[assigned_cluster].append(p)"
   ]
  },
  {
   "cell_type": "code",
   "execution_count": null,
   "metadata": {},
   "outputs": [],
   "source": [
    "inv_cov_dict = dict()\n",
    "\n",
    "for key in projected_cluster_dict.keys():   \n",
    "    cov = np.cov(np.array(projected_cluster_dict[key]).T)\n",
    "    inv_covmat= np.linalg.inv(cov)\n",
    "    inv_cov_dict[key] = inv_covmat\n",
    "    \n",
    "#degree_of_freedom = len(data[0])    \n",
    "degree_of_freedom = (len(data[0])-1)*(len(data)-1)    \n",
    "chi_crit = chi2.ppf(1-.05, df=degree_of_freedom)\n",
    "\n",
    "noise_cluster_idx  = len(candidate_list)\n",
    "\n",
    "for i, c in enumerate(clustered_points):    \n",
    "    cluster_mean = means[c[0]] \n",
    "    md = distance.mahalanobis(c[1],cluster_mean,inv_cov_dict[c[0]])\n",
    "    #md = distance.mahalanobis(c[1],cluster_mean,inv_covmat_dat)\n",
    "    if md > chi_crit:\n",
    "        clustered_points[i] = (noise_cluster_idx,c[1])\n",
    "        print(md, clustered_points[i])"
   ]
  },
  {
   "cell_type": "code",
   "execution_count": null,
   "metadata": {},
   "outputs": [],
   "source": [
    "plt.scatter([x[1][0] for x in clustered_points], [y[1][1] for y in clustered_points], c = [z[0] for z in clustered_points])\n",
    "plt.scatter([x[0] for x in means], [y[1] for y in means], c=\"green\")\n",
    "plt.show()"
   ]
  },
  {
   "cell_type": "code",
   "execution_count": null,
   "metadata": {},
   "outputs": [],
   "source": []
  }
 ],
 "metadata": {
  "kernelspec": {
   "display_name": "Python 3",
   "language": "python",
   "name": "python3"
  },
  "language_info": {
   "codemirror_mode": {
    "name": "ipython",
    "version": 3
   },
   "file_extension": ".py",
   "mimetype": "text/x-python",
   "name": "python",
   "nbconvert_exporter": "python",
   "pygments_lexer": "ipython3",
   "version": "3.8.2"
  }
 },
 "nbformat": 4,
 "nbformat_minor": 4
}
