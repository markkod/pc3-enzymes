{
 "cells": [
  {
   "cell_type": "markdown",
   "metadata": {},
   "source": [
    "Load the data from the csv, ignores lines with comments.\n",
    "The result is a simple python array"
   ]
  },
  {
   "cell_type": "code",
   "execution_count": 1,
   "metadata": {},
   "outputs": [],
   "source": [
    "import csv\n",
    "\n",
    "data = []\n",
    "with open('data.csv', newline='') as csvfile:\n",
    "    reader = csv.reader(csvfile, delimiter=' ', quotechar='|')\n",
    "    for row in reader:\n",
    "        if len(row) > 0 and not row[0].startswith('#'):\n",
    "            data.append((float(row[0]), float(row[1])))    \n",
    "# data"
   ]
  },
  {
   "cell_type": "code",
   "execution_count": 2,
   "metadata": {},
   "outputs": [],
   "source": [
    "from scipy.stats import chisquare\n",
    "import numpy as np\n",
    "import pandas as pd\n",
    "import math\n",
    "import matplotlib.pyplot as plt"
   ]
  },
  {
   "cell_type": "markdown",
   "metadata": {},
   "source": [
    "Class to store data about bins.\n",
    "Makes it easier to keep track of marked bins and merging them.\n",
    "\n",
    "Holds the index of the bin in the initial array, mapping to the dataset.\n",
    "\n",
    "Holds an array of all subsequent bins that should be merged to itself. "
   ]
  },
  {
   "cell_type": "code",
   "execution_count": 3,
   "metadata": {},
   "outputs": [],
   "source": [
    "class Bin:\n",
    "    def __init__(self, index, interval):\n",
    "        self.interval = interval\n",
    "        self.marked = False\n",
    "        self.support = 0\n",
    "        self.index = index\n",
    "        self.merge_with = []\n",
    "        \n",
    "    def addPoint(self):\n",
    "        self.support += 1"
   ]
  },
  {
   "cell_type": "markdown",
   "metadata": {},
   "source": [
    "Calculates the interval, splits the data into bins.\n",
    "TODO: Works on one dimension only, should be generalised to an arbitrary number of dimensions according to the dataset"
   ]
  },
  {
   "cell_type": "code",
   "execution_count": 5,
   "metadata": {},
   "outputs": [],
   "source": [
    "bins = []\n",
    "for col_idx in range(len(data[0])):\n",
    "    column_bins = []\n",
    "    column_data = [x[col_idx] for x in data]\n",
    "    col_min = min(column_data)\n",
    "    col_max = max(column_data)\n",
    "    \n",
    "    interval_length = col_max - col_min\n",
    "    # divide interval 1 + log2(n) bins\n",
    "    nr_of_bins = math.floor(1 + math.log2(len(column_data)))\n",
    "\n",
    "    column_bins = []\n",
    "    b = interval_length / nr_of_bins\n",
    "    for i in range(nr_of_bins):\n",
    "        # adds a bin with a start and end interval \n",
    "        column_bins.append(\n",
    "            Bin(i, [col_min + b * i, col_min + b * (i + 1)])\n",
    "        )\n",
    "\n",
    "    # compute support for each bin\n",
    "    for datapont in column_data:\n",
    "        bin_index = int((datapont - col_min - 1e-16) / b)\n",
    "        column_bins[bin_index].addPoint()\n",
    "        \n",
    "    bins.append(column_bins)"
   ]
  },
  {
   "cell_type": "code",
   "execution_count": 21,
   "metadata": {},
   "outputs": [],
   "source": [
    "#plt.scatter([x[0] for x in data], [y[1] for y in data])\n",
    "#plt.scatter([b.interval[0] for b in bins[0]], [0.5 for _ in range(len(bins[0]))], c='green', s=100)\n",
    "#plt.scatter([b.interval[1] for b in bins[0]], [0.5 for _ in range(len(bins[0]))], c='red')\n",
    "#plt.show()"
   ]
  },
  {
   "cell_type": "markdown",
   "metadata": {},
   "source": [
    "\"On the attributes deemed non-uniform, the bin with the largest support is marked. The remaining un-marked bins are tested again using the Chi-square test for uniform distribution. If the Chi-square test indicates that the un-marked bins “look” uniform, then we stop. Otherwise, the bin with the second-largest support is marked. Then, we repeat testing the remaining un-marked bins for the uniform distribution and marking bins in decreasing order of support, until the current set of un-marked bins satisfies the Chi-square test for uniform distribution.\""
   ]
  },
  {
   "cell_type": "code",
   "execution_count": 7,
   "metadata": {},
   "outputs": [
    {
     "name": "stdout",
     "output_type": "stream",
     "text": [
      "[1, 42, 84, 54, 94, 59, 82, 69, 15]\n",
      "stat 143.752\n",
      "94 4\n",
      "[1, 42, 84, 54, 59, 82, 69, 15]\n",
      "stat 124.60098522167488\n",
      "84 2\n",
      "[1, 42, 54, 59, 82, 69, 15]\n",
      "stat 110.0\n",
      "82 6\n",
      "[1, 42, 54, 59, 69, 15]\n",
      "stat 88.69999999999999\n",
      "69 7\n",
      "[1, 42, 54, 59, 15]\n",
      "stat 74.23391812865496\n",
      "59 5\n",
      "[1, 42, 54, 15]\n",
      "stat 63.214285714285715\n",
      "54 3\n",
      "[1, 42, 15]\n",
      "stat 44.93103448275862\n",
      "42 1\n",
      "[1, 15]\n",
      "stat 12.25\n",
      "15 8\n",
      "[1]\n",
      "stat 0.0\n",
      "[1]\n",
      "[1, 14, 49, 68, 67, 61, 105, 120, 15]\n",
      "stat 239.476\n",
      "120 7\n",
      "[1, 14, 49, 68, 67, 61, 105, 15]\n",
      "stat 181.7263157894737\n",
      "105 6\n",
      "[1, 14, 49, 68, 67, 61, 15]\n",
      "stat 123.54181818181819\n",
      "68 3\n",
      "[1, 14, 49, 67, 61, 15]\n",
      "stat 112.79710144927537\n",
      "67 4\n",
      "[1, 14, 49, 61, 15]\n",
      "stat 93.71428571428572\n",
      "61 5\n",
      "[1, 14, 49, 15]\n",
      "stat 63.936708860759495\n",
      "49 2\n",
      "[1, 14, 15]\n",
      "stat 12.2\n",
      "15 8\n",
      "[1, 14]\n",
      "stat 11.266666666666667\n",
      "14 1\n",
      "[1]\n",
      "stat 0.0\n",
      "[1]\n"
     ]
    }
   ],
   "source": [
    "# perform chisquared for the support \n",
    "def mark_bins(column_bins, alpha=0.001, stat=1):\n",
    "    while (stat > alpha):\n",
    "        # support list of all *unmarked* bins\n",
    "        support_list = list(column_bins[i].support for i in range(nr_of_bins) if not column_bins[i].marked)\n",
    "        print(support_list)\n",
    "        # if there are no unmarked bins, end the process\n",
    "        if len(support_list) == 0: \n",
    "            break\n",
    "        (stat, p) = chisquare(support_list)\n",
    "        print('stat', stat)\n",
    "        if (stat > alpha):\n",
    "            # find the bin with the highest support and mark it\n",
    "            # proof of concept code, should be cleaned up\n",
    "            max_support = 0\n",
    "            max_index = 0\n",
    "            for _bin in column_bins:\n",
    "                if _bin.marked:\n",
    "                    continue\n",
    "                if _bin.support > max_support:\n",
    "                    max_support = _bin.support\n",
    "                    max_index = _bin.index\n",
    "            print(max_support, max_index)\n",
    "            column_bins[max_index].marked = True\n",
    "\n",
    "    print(list(column_bins[i].support for i in range(nr_of_bins) if not column_bins[i].marked))\n",
    "    \n",
    "for column_bins in bins:\n",
    "    mark_bins(column_bins)"
   ]
  },
  {
   "cell_type": "markdown",
   "metadata": {},
   "source": [
    "Find the adjacent bins that have the same marked status. Add all following bins with the same status to `merge_with` array in the Bin objects"
   ]
  },
  {
   "cell_type": "code",
   "execution_count": 15,
   "metadata": {},
   "outputs": [],
   "source": [
    "# merge bins\n",
    "def mark_merge_bins(column_bins):\n",
    "    for i, _bin1 in enumerate(column_bins):\n",
    "        for j, _bin2 in enumerate(column_bins[i+1:]):\n",
    "            if _bin1.marked == _bin2.marked:\n",
    "                _bin1.merge_with.append(_bin2.index)\n",
    "            else:\n",
    "                break\n",
    "                \n",
    "for column_bins in bins:\n",
    "    mark_merge_bins(column_bins)"
   ]
  },
  {
   "cell_type": "markdown",
   "metadata": {},
   "source": [
    "Merges the bins according to the merge list. New bins in a new array."
   ]
  },
  {
   "cell_type": "code",
   "execution_count": 16,
   "metadata": {},
   "outputs": [],
   "source": [
    "def merge_bins(column_bins):\n",
    "    i = 0\n",
    "    new_bins = []\n",
    "    while i < len(column_bins):\n",
    "        # if bin has no following bins to merge with, keep it as is, and go to the next one\n",
    "        if len(column_bins[i].merge_with) == 0:\n",
    "            new_bins.append(column_bins[i])\n",
    "            i += 1\n",
    "            continue\n",
    "        # merge each bin in the list by extending the interval and combining support\n",
    "        for bin_index in column_bins[i].merge_with:\n",
    "            column_bins[i].interval[1] = column_bins[bin_index].interval[1]\n",
    "            column_bins[i].support += column_bins[bin_index].support\n",
    "        new_bins.append(column_bins[i])\n",
    "        # skip all of the bins that were included in the current one\n",
    "        i = max(column_bins[i].merge_with) + 1\n",
    "        \n",
    "    return new_bins\n",
    "        \n",
    "new_bins = []\n",
    "for column_bins in bins:\n",
    "    new_bins.append(merge_bins(column_bins))"
   ]
  },
  {
   "cell_type": "code",
   "execution_count": 22,
   "metadata": {},
   "outputs": [
    {
     "data": {
      "image/png": "[encoded data removed]",
      "text/plain": [
       "<Figure size 432x288 with 1 Axes>"
      ]
     },
     "metadata": {
      "needs_background": "light"
     },
     "output_type": "display_data"
    }
   ],
   "source": [
    "plt.scatter([x[0] for x in data], [y[1] for y in data])\n",
    "plt.scatter([b.interval[0] for b in new_bins[0]], [0.5 for _ in range(len(new_bins[0]))], c='green', s=100)\n",
    "plt.scatter([b.interval[1] for b in new_bins[0]], [0.5 for _ in range(len(new_bins[0]))], c='red')\n",
    "\n",
    "plt.scatter([0.5 for _ in range(len(new_bins[1]))], [b.interval[0] for b in new_bins[1]], c='yellow', s=100)\n",
    "plt.scatter([0.5 for _ in range(len(new_bins[1]))], [b.interval[1] for b in new_bins[1]], c='purple')\n",
    "\n",
    "plt.show()"
   ]
  },
  {
   "cell_type": "code",
   "execution_count": 24,
   "metadata": {},
   "outputs": [
    {
     "data": {
      "text/plain": [
       "957"
      ]
     },
     "execution_count": 24,
     "metadata": {},
     "output_type": "execute_result"
    }
   ],
   "source": [
    "sum(x.support for x in new_bins[0]) # confirm all points are kept"
   ]
  },
  {
   "cell_type": "code",
   "execution_count": null,
   "metadata": {},
   "outputs": [],
   "source": []
  }
 ],
 "metadata": {
  "kernelspec": {
   "display_name": "Python 3",
   "language": "python",
   "name": "python3"
  },
  "language_info": {
   "codemirror_mode": {
    "name": "ipython",
    "version": 3
   },
   "file_extension": ".py",
   "mimetype": "text/x-python",
   "name": "python",
   "nbconvert_exporter": "python",
   "pygments_lexer": "ipython3",
   "version": "3.8.2"
  }
 },
 "nbformat": 4,
 "nbformat_minor": 4
}
