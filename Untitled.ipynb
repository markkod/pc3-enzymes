{
 "cells": [
  {
   "cell_type": "markdown",
   "metadata": {},
   "source": [
    "Load the data from the csv, ignores lines with comments.\n",
    "The result is a simple python array"
   ]
  },
  {
   "cell_type": "code",
   "execution_count": 1,
   "metadata": {},
   "outputs": [],
   "source": [
    "import csv\n",
    "\n",
    "data = []\n",
    "with open('data.csv', newline='') as csvfile:\n",
    "    reader = csv.reader(csvfile, delimiter=' ', quotechar='|')\n",
    "    for row in reader:\n",
    "        if len(row) > 0 and not row[0].startswith('#'):\n",
    "            data.append((float(row[0]), float(row[1])))    \n",
    "# data"
   ]
  },
  {
   "cell_type": "code",
   "execution_count": 2,
   "metadata": {},
   "outputs": [],
   "source": [
    "from scipy.stats import chisquare\n",
    "import numpy as np\n",
    "import pandas as pd"
   ]
  },
  {
   "cell_type": "markdown",
   "metadata": {},
   "source": [
    "Class to store data about bins.\n",
    "Makes it easier to keep track of marked bins and merging them.\n",
    "\n",
    "Holds the index of the bin in the initial array, mapping to the dataset.\n",
    "\n",
    "Holds an array of all subsequent bins that should be merged to itself. "
   ]
  },
  {
   "cell_type": "code",
   "execution_count": 3,
   "metadata": {},
   "outputs": [],
   "source": [
    "class Bin:\n",
    "    def __init__(self, index, interval):\n",
    "        self.interval = interval\n",
    "        self.marked = False\n",
    "        self.support = 0\n",
    "        self.index = index\n",
    "        self.merge_with = []\n",
    "        \n",
    "    def addPoint(self):\n",
    "        self.support += 1"
   ]
  },
  {
   "cell_type": "markdown",
   "metadata": {},
   "source": [
    "Calculates the interval, splits the data into bins.\n",
    "TODO: Works on one dimension only, should be generalised to an arbitrary number of dimensions according to the dataset"
   ]
  },
  {
   "cell_type": "code",
   "execution_count": 4,
   "metadata": {},
   "outputs": [],
   "source": [
    "import math\n",
    "col_1 = [x[0] for x in data]\n",
    "col_1_bins = []\n",
    "col_2 = [x[1] for x in data]\n",
    "# find min max of each col -> interval\n",
    "cl_1_min = min(col_1)\n",
    "cl_1_max = max(col_1)\n",
    "\n",
    "interval_length = cl_1_max - cl_1_min\n",
    "# divide interval 1 + log2(n) bins\n",
    "nr_of_bins = math.floor(1 + math.log2(len(col_1)))\n",
    "\n",
    "bins = []\n",
    "b = interval_length / nr_of_bins\n",
    "for i in range(nr_of_bins):\n",
    "    # adds a bin with a start and end interval \n",
    "    bins.append(\n",
    "        Bin(i, [cl_1_min + b * i, cl_1_min + b * (i + 1)])\n",
    "    )\n",
    "\n",
    "# compute support for each bin\n",
    "bins_with_attrs_idx = {}\n",
    "sup_bins = {}\n",
    "for a in col_1:\n",
    "    x = int((a - cl_1_min - 1e-16) / b)\n",
    "    bins[x].addPoint()"
   ]
  },
  {
   "cell_type": "code",
   "execution_count": 5,
   "metadata": {},
   "outputs": [
    {
     "name": "stdout",
     "output_type": "stream",
     "text": [
      "1 [0.13894038814840037, 0.22317230732634022]\n",
      "14 [0.22317230732634022, 0.30740422650428006]\n",
      "49 [0.30740422650428006, 0.39163614568221994]\n",
      "68 [0.39163614568221994, 0.47586806486015976]\n",
      "67 [0.47586806486015976, 0.5600999840380996]\n",
      "61 [0.5600999840380996, 0.6443319032160395]\n",
      "105 [0.6443319032160395, 0.7285638223939793]\n",
      "120 [0.7285638223939793, 0.8127957415719191]\n",
      "15 [0.8127957415719191, 0.897027660749859]\n"
     ]
    }
   ],
   "source": [
    "for b in bins:\n",
    "    print(b.support, b.interval)"
   ]
  },
  {
   "cell_type": "code",
   "execution_count": 9,
   "metadata": {},
   "outputs": [
    {
     "data": {
      "image/png": "[encoded data removed]",
      "text/plain": [
       "<Figure size 432x288 with 1 Axes>"
      ]
     },
     "metadata": {
      "needs_background": "light"
     },
     "output_type": "display_data"
    }
   ],
   "source": [
    "import matplotlib.pyplot as plt\n",
    "\n",
    "\n",
    "plt.scatter([x[0] for x in data], [y[1] for y in data])\n",
    "plt.scatter([0.5 for _ in range(len(bins))],[b.interval[0] for b in bins], c='green', s=100)\n",
    "plt.scatter([0.5 for _ in range(len(bins))],[b.interval[1] for b in bins], c='red')\n",
    "plt.show()"
   ]
  },
  {
   "cell_type": "markdown",
   "metadata": {},
   "source": [
    "\"On the attributes deemed non-uniform, the bin with the largest support is marked. The remaining un-marked bins are tested again using the Chi-square test for uniform distribution. If the Chi-square test indicates that the un-marked bins “look” uniform, then we stop. Otherwise, the bin with the second-largest support is marked. Then, we repeat testing the remaining un-marked bins for the uniform distribution and marking bins in decreasing order of support, until the current set of un-marked bins satisfies the Chi-square test for uniform distribution.\""
   ]
  },
  {
   "cell_type": "code",
   "execution_count": 10,
   "metadata": {},
   "outputs": [
    {
     "name": "stdout",
     "output_type": "stream",
     "text": [
      "[1, 14, 49, 68, 67, 61, 105, 120, 15]\n",
      "stat 239.476\n",
      "120 7\n",
      "[1, 14, 49, 68, 67, 61, 105, 15]\n",
      "stat 181.7263157894737\n",
      "105 6\n",
      "[1, 14, 49, 68, 67, 61, 15]\n",
      "stat 123.54181818181819\n",
      "68 3\n",
      "[1, 14, 49, 67, 61, 15]\n",
      "stat 112.79710144927537\n",
      "67 4\n",
      "[1, 14, 49, 61, 15]\n",
      "stat 93.71428571428572\n",
      "61 5\n",
      "[1, 14, 49, 15]\n",
      "stat 63.936708860759495\n",
      "49 2\n",
      "[1, 14, 15]\n",
      "stat 12.2\n",
      "15 8\n",
      "[1, 14]\n",
      "stat 11.266666666666667\n",
      "14 1\n",
      "[1]\n",
      "stat 0.0\n"
     ]
    }
   ],
   "source": [
    "# perform chisquared for the support \n",
    "alpha = 0.001\n",
    "stat = 1\n",
    "\n",
    "while (stat > alpha):\n",
    "    # support list of all *unmarked* bins\n",
    "    support_list = list(bins[i].support for i in range(nr_of_bins) if not bins[i].marked)\n",
    "    print(support_list)\n",
    "    # if there are no unmarked bins, end the process\n",
    "    if len(support_list) == 0: \n",
    "        break\n",
    "    (stat, p) = chisquare(support_list)\n",
    "    print('stat', stat)\n",
    "    if (stat > alpha):\n",
    "        # find the bin with the highest support and mark it\n",
    "        # proof of concept code, should be cleaned up\n",
    "        max_support = 0\n",
    "        max_index = 0\n",
    "        for _bin in bins:\n",
    "            if _bin.marked:\n",
    "                continue\n",
    "            if _bin.support > max_support:\n",
    "                max_support = _bin.support\n",
    "                max_index = _bin.index\n",
    "        print(max_support, max_index)\n",
    "        bins[max_index].marked = True"
   ]
  },
  {
   "cell_type": "markdown",
   "metadata": {},
   "source": [
    "Find the adjacent bins that have the same marked status. Add all following bins with the same status to `merge_with` array in the Bin objects"
   ]
  },
  {
   "cell_type": "code",
   "execution_count": 11,
   "metadata": {},
   "outputs": [],
   "source": [
    "# merge bins\n",
    "for i, _bin1 in enumerate(bins):\n",
    "    for j, _bin2 in enumerate(bins[i+1:]):\n",
    "        if _bin1.marked == _bin2.marked:\n",
    "            _bin1.merge_with.append(_bin2.index)"
   ]
  },
  {
   "cell_type": "markdown",
   "metadata": {},
   "source": [
    "Merges the bins according to the merge list. New bins in a new array."
   ]
  },
  {
   "cell_type": "code",
   "execution_count": 12,
   "metadata": {},
   "outputs": [],
   "source": [
    "i = 0\n",
    "new_bins = []\n",
    "while i < len(bins):\n",
    "    # if bin has no following bins to merge with, keep it as is, and go to the next one\n",
    "    if len(bins[i].merge_with) == 0:\n",
    "        new_bins.append(bins[i])\n",
    "        i += 1\n",
    "        continue\n",
    "    # merge each bin in the list by extending the interval and combining support\n",
    "    for bin_index in bins[i].merge_with:\n",
    "        bins[i].interval[1] = bins[bin_index].interval[1]\n",
    "        bins[i].support += bins[bin_index].support\n",
    "    new_bins.append(bins[i])\n",
    "    # skip all of the bins that were included in the current one\n",
    "    i = max(bins[i].merge_with) + 1"
   ]
  },
  {
   "cell_type": "code",
   "execution_count": 14,
   "metadata": {},
   "outputs": [
    {
     "data": {
      "image/png": "[encoded data removed]",
      "text/plain": [
       "<Figure size 432x288 with 1 Axes>"
      ]
     },
     "metadata": {
      "needs_background": "light"
     },
     "output_type": "display_data"
    }
   ],
   "source": [
    "import matplotlib.pyplot as plt\n",
    "\n",
    "\n",
    "plt.scatter([x[0] for x in data], [y[1] for y in data])\n",
    "plt.scatter([0.5 for _ in range(len(new_bins))],[b.interval[0] for b in new_bins], c='green', s=100)\n",
    "plt.scatter([0.5 for _ in range(len(new_bins))],[b.interval[1] for b in new_bins], c='red')\n",
    "plt.show()"
   ]
  },
  {
   "cell_type": "code",
   "execution_count": 208,
   "metadata": {},
   "outputs": [
    {
     "data": {
      "text/plain": [
       "500"
      ]
     },
     "execution_count": 208,
     "metadata": {},
     "output_type": "execute_result"
    }
   ],
   "source": [
    "sum(x.support for x in new_bins) # confirm all points are kept"
   ]
  }
 ],
 "metadata": {
  "kernelspec": {
   "display_name": "Python 3",
   "language": "python",
   "name": "python3"
  },
  "language_info": {
   "codemirror_mode": {
    "name": "ipython",
    "version": 3
   },
   "file_extension": ".py",
   "mimetype": "text/x-python",
   "name": "python",
   "nbconvert_exporter": "python",
   "pygments_lexer": "ipython3",
   "version": "3.8.2"
  }
 },
 "nbformat": 4,
 "nbformat_minor": 4
}
